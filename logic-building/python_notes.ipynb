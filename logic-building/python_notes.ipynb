{
 "cells": [
  {
   "cell_type": "markdown",
   "id": "8c592a6c",
   "metadata": {},
   "source": [
    "\n",
    "### casting - changing the data type format from the previously used data type for the same variable.\n",
    "#### - we can cast the int to string but string to int can be not possible, cuz numbers can be treated as the strings\n"
   ]
  },
  {
   "cell_type": "code",
   "execution_count": null,
   "id": "c7491d93",
   "metadata": {},
   "outputs": [],
   "source": [
    "# - camelCase\n",
    "# - PascalCase\n",
    "# - snake_case"
   ]
  },
  {
   "cell_type": "code",
   "execution_count": 2,
   "id": "8fd8f778",
   "metadata": {},
   "outputs": [
    {
     "data": {
      "text/plain": [
       "1"
      ]
     },
     "execution_count": 2,
     "metadata": {},
     "output_type": "execute_result"
    }
   ],
   "source": [
    "a,b,c  = 1,2,3    #multiple assign\n",
    "a"
   ]
  },
  {
   "cell_type": "code",
   "execution_count": 4,
   "id": "f8a51c38",
   "metadata": {},
   "outputs": [
    {
     "data": {
      "text/plain": [
       "(2, 1)"
      ]
     },
     "execution_count": 4,
     "metadata": {},
     "output_type": "execute_result"
    }
   ],
   "source": [
    "a,b = b,a   # swapping\n",
    "b,a"
   ]
  },
  {
   "cell_type": "markdown",
   "id": "5a6f5cca",
   "metadata": {},
   "source": [
    "#### bunch assign"
   ]
  },
  {
   "cell_type": "code",
   "execution_count": null,
   "id": "b5afda9b",
   "metadata": {},
   "outputs": [],
   "source": [
    "nums = [1,2,3,4]\n",
    "a,b,c,d = nums\n"
   ]
  },
  {
   "cell_type": "code",
   "execution_count": 8,
   "id": "324973c9",
   "metadata": {},
   "outputs": [
    {
     "name": "stdout",
     "output_type": "stream",
     "text": [
      "1\n",
      "2\n",
      "3\n"
     ]
    }
   ],
   "source": [
    "print(a)\n",
    "print(b)\n",
    "print(c)"
   ]
  },
  {
   "cell_type": "code",
   "execution_count": 17,
   "id": "3e92c06f",
   "metadata": {},
   "outputs": [
    {
     "name": "stdout",
     "output_type": "stream",
     "text": [
      "3\n"
     ]
    }
   ],
   "source": [
    "# we can do arithimetic operations directly while printing variables\n",
    "print(a+b)"
   ]
  },
  {
   "cell_type": "code",
   "execution_count": 9,
   "id": "a0ba7de7",
   "metadata": {},
   "outputs": [
    {
     "name": "stdout",
     "output_type": "stream",
     "text": [
      "this is the addition of 1 and 2 = 3\n"
     ]
    }
   ],
   "source": [
    "print(f'this is the addition of {a} and {b} = {a+b}')"
   ]
  },
  {
   "cell_type": "code",
   "execution_count": 31,
   "id": "d49261b2",
   "metadata": {},
   "outputs": [
    {
     "name": "stdout",
     "output_type": "stream",
     "text": [
      "I am a local variable\n",
      "I am a global variable\n"
     ]
    }
   ],
   "source": [
    "# global_variable - defined outside the function, so it's available everywhere in the file (global scope)\n",
    "# local_variable - defined inside the function, so it's only available inside that function (local scope), cannot be called in the global scope\n",
    "\n",
    "global_variable = \"I am a global variable\"\n",
    "\n",
    "def example_function():\n",
    "    local_variable = \"I am a local variable\"  # local scope\n",
    "    print(local_variable)  # prints local variable\n",
    "    print(global_variable)  # prints global variable (can access global from inside function)\n",
    "\n",
    "example_function()"
   ]
  },
  {
   "cell_type": "code",
   "execution_count": 12,
   "id": "d7250bff",
   "metadata": {},
   "outputs": [
    {
     "data": {
      "text/plain": [
       "7"
      ]
     },
     "execution_count": 12,
     "metadata": {},
     "output_type": "execute_result"
    }
   ],
   "source": [
    "a = 'shubham'\n",
    "len(a)     # find length"
   ]
  },
  {
   "cell_type": "code",
   "execution_count": 37,
   "id": "f12abb29",
   "metadata": {},
   "outputs": [
    {
     "data": {
      "text/plain": [
       "['shubham']"
      ]
     },
     "execution_count": 37,
     "metadata": {},
     "output_type": "execute_result"
    }
   ],
   "source": [
    "b = ['shubham']\n",
    "short_name = b[0:2]\n",
    "short_name\n",
    "# slicing [start:ending:step]"
   ]
  },
  {
   "cell_type": "code",
   "execution_count": 15,
   "id": "9aa8f9d4",
   "metadata": {},
   "outputs": [
    {
     "data": {
      "text/plain": [
       "4377958464"
      ]
     },
     "execution_count": 15,
     "metadata": {},
     "output_type": "execute_result"
    }
   ],
   "source": [
    "a = 10\n",
    "id(a) #showing the allocated space in the memory"
   ]
  },
  {
   "cell_type": "code",
   "execution_count": 28,
   "id": "a823acc7",
   "metadata": {},
   "outputs": [
    {
     "name": "stdout",
     "output_type": "stream",
     "text": [
      "3\n",
      "3\n"
     ]
    }
   ],
   "source": [
    "a = 3.2\n",
    "b = 3.50\n",
    "\n",
    "# when directly converted to int, rounding happens to the FLOOR\n",
    "\n",
    "print(int(a))\n",
    "print(int(b))"
   ]
  },
  {
   "cell_type": "code",
   "execution_count": 30,
   "id": "d1f8c866",
   "metadata": {},
   "outputs": [
    {
     "name": "stdout",
     "output_type": "stream",
     "text": [
      "3\n",
      "4\n"
     ]
    }
   ],
   "source": [
    "# if rounding done with the round(), rounding happens as it should be with respective floor/ceil\n",
    "# note - where 1.50 = 2\n",
    "\n",
    "\n",
    "print(round(a))\n",
    "print(round(b))"
   ]
  },
  {
   "cell_type": "code",
   "execution_count": 7,
   "id": "a747c76b",
   "metadata": {},
   "outputs": [],
   "source": [
    "# sets donts have the indexing storing method thats why its different from the rest of the sequence data types like \n",
    "# list, tuple, range\n"
   ]
  },
  {
   "cell_type": "code",
   "execution_count": 8,
   "id": "4861ba4c",
   "metadata": {},
   "outputs": [],
   "source": [
    "a = range(10) # here we store the 10 iterations"
   ]
  },
  {
   "cell_type": "code",
   "execution_count": 10,
   "id": "b386d7f6",
   "metadata": {},
   "outputs": [
    {
     "data": {
      "text/plain": [
       "range(0, 10)"
      ]
     },
     "execution_count": 10,
     "metadata": {},
     "output_type": "execute_result"
    }
   ],
   "source": [
    "a  # we display the range"
   ]
  },
  {
   "cell_type": "code",
   "execution_count": 11,
   "id": "224f5c59",
   "metadata": {},
   "outputs": [
    {
     "name": "stdout",
     "output_type": "stream",
     "text": [
      "1\n",
      "2\n",
      "3\n",
      "4\n",
      "5\n",
      "6\n",
      "7\n",
      "8\n",
      "9\n"
     ]
    }
   ],
   "source": [
    "for i in range(1,10):  # only prints till n - 1\n",
    "    print(i)\n"
   ]
  },
  {
   "cell_type": "code",
   "execution_count": 43,
   "id": "28cf224b",
   "metadata": {},
   "outputs": [
    {
     "name": "stdout",
     "output_type": "stream",
     "text": [
      "1\n",
      "2\n",
      "3\n",
      "4\n",
      "5\n"
     ]
    }
   ],
   "source": [
    "z = [1,2,3,4,5]  # reassign 'a' as a list to avoid shadowing\n",
    "for i in range(len(z)):\n",
    "    print(z[i])  # prints the values: 1, 2, 3, 4, 5"
   ]
  },
  {
   "cell_type": "code",
   "execution_count": null,
   "id": "92e7f112",
   "metadata": {},
   "outputs": [],
   "source": [
    "# tuples are immutable, so cannot do operations like slicing, inserting."
   ]
  },
  {
   "cell_type": "code",
   "execution_count": null,
   "id": "caeed8cb",
   "metadata": {},
   "outputs": [
    {
     "name": "stdout",
     "output_type": "stream",
     "text": [
      "fello\n"
     ]
    }
   ],
   "source": [
    "s = 'hello'\n",
    "s_new = s.replace('h','f') # replace h to f\n",
    "print(s_new)\n"
   ]
  },
  {
   "cell_type": "code",
   "execution_count": null,
   "id": "fbb09a40",
   "metadata": {},
   "outputs": [
    {
     "data": {
      "text/plain": [
       "['hello', 'hi', 'bye']"
      ]
     },
     "execution_count": 70,
     "metadata": {},
     "output_type": "execute_result"
    }
   ],
   "source": [
    "# this got deliminated by space \n",
    "a = 'hello hi bye'\n",
    "b = a.split(' ')\n",
    "b"
   ]
  },
  {
   "cell_type": "code",
   "execution_count": 2,
   "id": "5c028f13",
   "metadata": {},
   "outputs": [
    {
     "data": {
      "text/plain": [
       "14"
      ]
     },
     "execution_count": 2,
     "metadata": {},
     "output_type": "execute_result"
    }
   ],
   "source": [
    "a=13\n",
    "a+=1\n",
    "a\n"
   ]
  },
  {
   "cell_type": "code",
   "execution_count": null,
   "id": "a0d4ac69",
   "metadata": {},
   "outputs": [],
   "source": [
    "# bitwise operators\n",
    "& \n",
    "|\n",
    "^\n",
    "\n"
   ]
  },
  {
   "cell_type": "code",
   "execution_count": 6,
   "id": "e603f3b4",
   "metadata": {},
   "outputs": [
    {
     "name": "stdout",
     "output_type": "stream",
     "text": [
      "a * i = 12\n",
      "a * i = 24\n",
      "a * i = 36\n",
      "a * i = 48\n",
      "a * i = 60\n",
      "a * i = 72\n",
      "a * i = 84\n",
      "a * i = 96\n",
      "a * i = 108\n",
      "a * i = 120\n"
     ]
    }
   ],
   "source": [
    "a = int(input('enter the bumber for the table'))\n",
    "for i in range(1,11):\n",
    "    print(f\"a * i = {a*i}\")"
   ]
  },
  {
   "cell_type": "code",
   "execution_count": 21,
   "id": "435703cf",
   "metadata": {},
   "outputs": [],
   "source": [
    "a = [1,2,3,4,5]\n",
    "a[:2] = [10,20]"
   ]
  },
  {
   "cell_type": "code",
   "execution_count": 22,
   "id": "532d318d",
   "metadata": {},
   "outputs": [
    {
     "data": {
      "text/plain": [
       "[10, 20, 3, 4, 5]"
      ]
     },
     "execution_count": 22,
     "metadata": {},
     "output_type": "execute_result"
    }
   ],
   "source": [
    "a"
   ]
  },
  {
   "cell_type": "code",
   "execution_count": 26,
   "id": "768a5091",
   "metadata": {},
   "outputs": [
    {
     "data": {
      "text/plain": [
       "[10, 20, 3, 4, 5, 34, 34, 31, 31]"
      ]
     },
     "execution_count": 26,
     "metadata": {},
     "output_type": "execute_result"
    }
   ],
   "source": [
    "a.append(31)\n",
    "a"
   ]
  },
  {
   "cell_type": "code",
   "execution_count": 30,
   "id": "7f5150ff",
   "metadata": {},
   "outputs": [],
   "source": [
    "a.extend([100,101]) # only list can be passed"
   ]
  },
  {
   "cell_type": "code",
   "execution_count": 29,
   "id": "9b2491aa",
   "metadata": {},
   "outputs": [
    {
     "data": {
      "text/plain": [
       "[10, 20, 3, 4, 5, 34, 34, 31, 31, 100, 101]"
      ]
     },
     "execution_count": 29,
     "metadata": {},
     "output_type": "execute_result"
    }
   ],
   "source": [
    "a"
   ]
  },
  {
   "cell_type": "code",
   "execution_count": null,
   "id": "823391e8",
   "metadata": {},
   "outputs": [
    {
     "data": {
      "text/plain": [
       "[10, 20, [109, 102], [109, 102], 3, 4, 5, 34, 34, 31, 31, 100, 101, 100, 101]"
      ]
     },
     "execution_count": 33,
     "metadata": {},
     "output_type": "execute_result"
    }
   ],
   "source": [
    "a.insert(2,[109,102]) # list insertion in list \n",
    "a"
   ]
  },
  {
   "cell_type": "code",
   "execution_count": null,
   "id": "f1185576",
   "metadata": {},
   "outputs": [],
   "source": [
    "a[2][1]"
   ]
  },
  {
   "cell_type": "code",
   "execution_count": null,
   "id": "1b085327",
   "metadata": {},
   "outputs": [],
   "source": [
    "del a # deleting value"
   ]
  },
  {
   "cell_type": "code",
   "execution_count": 42,
   "id": "74c7187b",
   "metadata": {},
   "outputs": [
    {
     "name": "stdout",
     "output_type": "stream",
     "text": [
      "1 * 1 = 1\n",
      "1 * 2 = 2\n",
      "1 * 3 = 3\n",
      "1 * 4 = 4\n",
      "1 * 5 = 5\n",
      "1 * 6 = 6\n",
      "1 * 7 = 7\n",
      "1 * 8 = 8\n",
      "1 * 9 = 9\n",
      "1 * 10 = 10\n",
      "2 * 1 = 2\n",
      "2 * 2 = 4\n",
      "2 * 3 = 6\n",
      "2 * 4 = 8\n",
      "2 * 5 = 10\n",
      "2 * 6 = 12\n",
      "2 * 7 = 14\n",
      "2 * 8 = 16\n",
      "2 * 9 = 18\n",
      "2 * 10 = 20\n",
      "3 * 1 = 3\n",
      "3 * 2 = 6\n",
      "3 * 3 = 9\n",
      "3 * 4 = 12\n",
      "3 * 5 = 15\n",
      "3 * 6 = 18\n",
      "3 * 7 = 21\n",
      "3 * 8 = 24\n",
      "3 * 9 = 27\n",
      "3 * 10 = 30\n",
      "4 * 1 = 4\n",
      "4 * 2 = 8\n",
      "4 * 3 = 12\n",
      "4 * 4 = 16\n",
      "4 * 5 = 20\n",
      "4 * 6 = 24\n",
      "4 * 7 = 28\n",
      "4 * 8 = 32\n",
      "4 * 9 = 36\n",
      "4 * 10 = 40\n",
      "5 * 1 = 5\n",
      "5 * 2 = 10\n",
      "5 * 3 = 15\n",
      "5 * 4 = 20\n",
      "5 * 5 = 25\n",
      "5 * 6 = 30\n",
      "5 * 7 = 35\n",
      "5 * 8 = 40\n",
      "5 * 9 = 45\n",
      "5 * 10 = 50\n",
      "6 * 1 = 6\n",
      "6 * 2 = 12\n",
      "6 * 3 = 18\n",
      "6 * 4 = 24\n",
      "6 * 5 = 30\n",
      "6 * 6 = 36\n",
      "6 * 7 = 42\n",
      "6 * 8 = 48\n",
      "6 * 9 = 54\n",
      "6 * 10 = 60\n",
      "7 * 1 = 7\n",
      "7 * 2 = 14\n",
      "7 * 3 = 21\n",
      "7 * 4 = 28\n",
      "7 * 5 = 35\n",
      "7 * 6 = 42\n",
      "7 * 7 = 49\n",
      "7 * 8 = 56\n",
      "7 * 9 = 63\n",
      "7 * 10 = 70\n",
      "8 * 1 = 8\n",
      "8 * 2 = 16\n",
      "8 * 3 = 24\n",
      "8 * 4 = 32\n",
      "8 * 5 = 40\n",
      "8 * 6 = 48\n",
      "8 * 7 = 56\n",
      "8 * 8 = 64\n",
      "8 * 9 = 72\n",
      "8 * 10 = 80\n",
      "9 * 1 = 9\n",
      "9 * 2 = 18\n",
      "9 * 3 = 27\n",
      "9 * 4 = 36\n",
      "9 * 5 = 45\n",
      "9 * 6 = 54\n",
      "9 * 7 = 63\n",
      "9 * 8 = 72\n",
      "9 * 9 = 81\n",
      "9 * 10 = 90\n",
      "10 * 1 = 10\n",
      "10 * 2 = 20\n",
      "10 * 3 = 30\n",
      "10 * 4 = 40\n",
      "10 * 5 = 50\n",
      "10 * 6 = 60\n",
      "10 * 7 = 70\n",
      "10 * 8 = 80\n",
      "10 * 9 = 90\n",
      "10 * 10 = 100\n"
     ]
    }
   ],
   "source": [
    "for i in range(1,11):\n",
    "    for j in range(1,11):\n",
    "        print(f\"{i} * {j} = {i*j}\")"
   ]
  },
  {
   "cell_type": "code",
   "execution_count": null,
   "id": "6a66eda5",
   "metadata": {},
   "outputs": [],
   "source": [
    "my_string = 'python is the popular programming language'  # original sentence\n",
    "li = []  # empty list to store words\n",
    "word = ''  # temporary string to build each word\n",
    "for i in range(len(my_string)):  # loop through each character by index\n",
    "    if my_string[i] != ' ':  # if not a space, add character to word\n",
    "        word += my_string[i]\n",
    "    else:  # if space, word is complete\n",
    "        li.append(word)  # add word to list\n",
    "        word = ''  # reset word\n",
    "if word:  # add last word after loop ends\n",
    "    li.append(word)\n",
    "li  # list of words: ['python', 'is', 'the', 'popular', 'programming', 'language']"
   ]
  },
  {
   "cell_type": "code",
   "execution_count": 12,
   "id": "31687122",
   "metadata": {},
   "outputs": [],
   "source": [
    "email = 'john.doe@example.com'"
   ]
  },
  {
   "cell_type": "code",
   "execution_count": null,
   "id": "7c109cfe",
   "metadata": {},
   "outputs": [],
   "source": [
    "username = email.split('@')[0]  # spliting and assigning username to the variable\n",
    "domain = email.split('@')[1]"
   ]
  },
  {
   "cell_type": "code",
   "execution_count": 14,
   "id": "936b8a23",
   "metadata": {},
   "outputs": [
    {
     "data": {
      "text/plain": [
       "'example.com'"
      ]
     },
     "execution_count": 14,
     "metadata": {},
     "output_type": "execute_result"
    }
   ],
   "source": [
    "domain"
   ]
  },
  {
   "cell_type": "code",
   "execution_count": 16,
   "id": "a90bd562",
   "metadata": {},
   "outputs": [
    {
     "data": {
      "text/plain": [
       "'john.doe@mycompany.com'"
      ]
     },
     "execution_count": 16,
     "metadata": {},
     "output_type": "execute_result"
    }
   ],
   "source": [
    "new_email = username + '@mycompany.com'\n",
    "new_email"
   ]
  },
  {
   "cell_type": "markdown",
   "id": "70ce0b0d",
   "metadata": {},
   "source": [
    "------"
   ]
  },
  {
   "cell_type": "code",
   "execution_count": null,
   "id": "ba010e70",
   "metadata": {},
   "outputs": [],
   "source": []
  }
 ],
 "metadata": {
  "kernelspec": {
   "display_name": "base",
   "language": "python",
   "name": "python3"
  },
  "language_info": {
   "codemirror_mode": {
    "name": "ipython",
    "version": 3
   },
   "file_extension": ".py",
   "mimetype": "text/x-python",
   "name": "python",
   "nbconvert_exporter": "python",
   "pygments_lexer": "ipython3",
   "version": "3.12.2"
  }
 },
 "nbformat": 4,
 "nbformat_minor": 5
}
