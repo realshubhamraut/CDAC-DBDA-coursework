{
 "cells": [
  {
   "cell_type": "markdown",
   "id": "8c592a6c",
   "metadata": {},
   "source": [
    "\n",
    "### casting - changing the data type format from the previously used data type for the same variable.\n",
    "#### - we can cast the int to string but string to int can be not possible, cuz numbers can be treated as the strings\n",
    "##### - Use `return` if you want to reuse the value.\n",
    "##### - Use `print` if you only want to display it.\n",
    "##### - The modulus operator `(%)` is fundamentally a remainder operator. It works based on integer division, not floating-point division. The result of `4 / 3` in integer division is `1`, because the computer discards the fractional part `(.333...).`\n",
    " -  Just remember how much time we can divide the second number to the first one in and keep remaining as the reminders so for ex - 5%2 is essentially like, we can divide 5, 2 times by 2 and the reminder we will get is 1 so, 5%2 = 1\n",
    "\n",
    "- always remember the `i` iteration always starts with 0 in for loop example below and ends with `n` so thats why we write the `i-1` in the end\n",
    "\n",
    "```python\n",
    "lst = ['shubh', 'sam']\n",
    "for i in range(i, i+1): \n",
    "```"
   ]
  },
  {
   "cell_type": "markdown",
   "id": "1250083e",
   "metadata": {},
   "source": []
  },
  {
   "cell_type": "markdown",
   "id": "4e0ef192",
   "metadata": {},
   "source": []
  },
  {
   "cell_type": "markdown",
   "id": "3c798caa",
   "metadata": {},
   "source": []
  },
  {
   "cell_type": "markdown",
   "id": "88bbe2ac",
   "metadata": {},
   "source": [
    "##### but in some cases `return` only returns single value, look in this example:\n",
    "#### Given a string 'python' print each character using a loop.\n",
    "\n",
    "```python\n",
    "def each_char():\n",
    "    s = 'python'\n",
    "    for i in s:\n",
    "        print(i) # prints p y t h o n\n",
    "    \n",
    "each_char()\n",
    "```\n",
    "----\n",
    "\n",
    "```python\n",
    "\n",
    "def each_char():\n",
    "    s = 'python'\n",
    "    for i in s:\n",
    "        return(i) # only returns p\n",
    "    \n",
    "each_char()\n",
    "```"
   ]
  },
  {
   "cell_type": "code",
   "execution_count": 5,
   "id": "87251c90",
   "metadata": {},
   "outputs": [],
   "source": [
    "# Integer\n",
    "num = 42\n",
    "\n",
    "# Float\n",
    "price = 19.99\n",
    "\n",
    "# String\n",
    "name = \"Alice\"\n",
    "\n",
    "# Boolean\n",
    "is_active = True\n",
    "\n",
    "# List\n",
    "fruits = [\"apple\", \"banana\", \"cherry\"]\n",
    "\n",
    "# Tuple\n",
    "coordinates = (10.5, 20.3)\n",
    "\n",
    "# Set\n",
    "unique_numbers = {1, 2, 3, 4}\n",
    "\n",
    "# Dictionary\n",
    "person = {\"name\": \"Bob\", \"age\": 30}\n",
    "\n",
    "# NoneType\n",
    "nothing = None"
   ]
  },
  {
   "cell_type": "code",
   "execution_count": 6,
   "id": "c7491d93",
   "metadata": {},
   "outputs": [],
   "source": [
    "# - camelCase\n",
    "# - PascalCase\n",
    "# - snake_case"
   ]
  },
  {
   "cell_type": "code",
   "execution_count": 7,
   "id": "8fd8f778",
   "metadata": {},
   "outputs": [
    {
     "data": {
      "text/plain": [
       "1"
      ]
     },
     "execution_count": 7,
     "metadata": {},
     "output_type": "execute_result"
    }
   ],
   "source": [
    "a,b,c  = 1,2,3    #multiple assign\n",
    "a"
   ]
  },
  {
   "cell_type": "code",
   "execution_count": 8,
   "id": "f8a51c38",
   "metadata": {},
   "outputs": [
    {
     "data": {
      "text/plain": [
       "(1, 2)"
      ]
     },
     "execution_count": 8,
     "metadata": {},
     "output_type": "execute_result"
    }
   ],
   "source": [
    "a,b = b,a   # swapping\n",
    "b,a"
   ]
  },
  {
   "cell_type": "markdown",
   "id": "5a6f5cca",
   "metadata": {},
   "source": [
    "#### bunch assign"
   ]
  },
  {
   "cell_type": "code",
   "execution_count": null,
   "id": "b5afda9b",
   "metadata": {},
   "outputs": [],
   "source": [
    "nums = [1,2,3,4]\n",
    "a,b,c,d = nums\n"
   ]
  },
  {
   "cell_type": "code",
   "execution_count": 8,
   "id": "324973c9",
   "metadata": {},
   "outputs": [
    {
     "name": "stdout",
     "output_type": "stream",
     "text": [
      "1\n",
      "2\n",
      "3\n"
     ]
    }
   ],
   "source": [
    "print(a)\n",
    "print(b)\n",
    "print(c)"
   ]
  },
  {
   "cell_type": "code",
   "execution_count": 17,
   "id": "3e92c06f",
   "metadata": {},
   "outputs": [
    {
     "name": "stdout",
     "output_type": "stream",
     "text": [
      "3\n"
     ]
    }
   ],
   "source": [
    "# we can do arithimetic operations directly while printing variables\n",
    "print(a+b)"
   ]
  },
  {
   "cell_type": "code",
   "execution_count": 9,
   "id": "a0ba7de7",
   "metadata": {},
   "outputs": [
    {
     "name": "stdout",
     "output_type": "stream",
     "text": [
      "this is the addition of 1 and 2 = 3\n"
     ]
    }
   ],
   "source": [
    "print(f'this is the addition of {a} and {b} = {a+b}')"
   ]
  },
  {
   "cell_type": "code",
   "execution_count": 31,
   "id": "d49261b2",
   "metadata": {},
   "outputs": [
    {
     "name": "stdout",
     "output_type": "stream",
     "text": [
      "I am a local variable\n",
      "I am a global variable\n"
     ]
    }
   ],
   "source": [
    "# global_variable - defined outside the function, so it's available everywhere in the file (global scope)\n",
    "# local_variable - defined inside the function, so it's only available inside that function (local scope), cannot be called in the global scope\n",
    "\n",
    "global_variable = \"I am a global variable\"\n",
    "\n",
    "def example_function():\n",
    "    local_variable = \"I am a local variable\"  # local scope\n",
    "    print(local_variable)  # prints local variable\n",
    "    print(global_variable)  # prints global variable (can access global from inside function)\n",
    "\n",
    "example_function()"
   ]
  },
  {
   "cell_type": "code",
   "execution_count": 12,
   "id": "d7250bff",
   "metadata": {},
   "outputs": [
    {
     "data": {
      "text/plain": [
       "7"
      ]
     },
     "execution_count": 12,
     "metadata": {},
     "output_type": "execute_result"
    }
   ],
   "source": [
    "a = 'shubham'\n",
    "len(a)     # find length"
   ]
  },
  {
   "cell_type": "code",
   "execution_count": 37,
   "id": "f12abb29",
   "metadata": {},
   "outputs": [
    {
     "data": {
      "text/plain": [
       "['shubham']"
      ]
     },
     "execution_count": 37,
     "metadata": {},
     "output_type": "execute_result"
    }
   ],
   "source": [
    "b = ['shubham']\n",
    "short_name = b[0:2]\n",
    "short_name\n",
    "# slicing [start:ending:step]"
   ]
  },
  {
   "cell_type": "code",
   "execution_count": 15,
   "id": "9aa8f9d4",
   "metadata": {},
   "outputs": [
    {
     "data": {
      "text/plain": [
       "4377958464"
      ]
     },
     "execution_count": 15,
     "metadata": {},
     "output_type": "execute_result"
    }
   ],
   "source": [
    "a = 10\n",
    "id(a) #showing the allocated space in the memory"
   ]
  },
  {
   "cell_type": "code",
   "execution_count": 28,
   "id": "a823acc7",
   "metadata": {},
   "outputs": [
    {
     "name": "stdout",
     "output_type": "stream",
     "text": [
      "3\n",
      "3\n"
     ]
    }
   ],
   "source": [
    "a = 3.2\n",
    "b = 3.50\n",
    "\n",
    "# when directly converted to int, rounding happens to the FLOOR\n",
    "\n",
    "print(int(a))\n",
    "print(int(b))"
   ]
  },
  {
   "cell_type": "code",
   "execution_count": 30,
   "id": "d1f8c866",
   "metadata": {},
   "outputs": [
    {
     "name": "stdout",
     "output_type": "stream",
     "text": [
      "3\n",
      "4\n"
     ]
    }
   ],
   "source": [
    "# if rounding done with the round(), rounding happens as it should be with respective floor/ceil\n",
    "# note - where 1.50 = 2\n",
    "\n",
    "\n",
    "print(round(a))\n",
    "print(round(b))"
   ]
  },
  {
   "cell_type": "code",
   "execution_count": 7,
   "id": "a747c76b",
   "metadata": {},
   "outputs": [],
   "source": [
    "# sets donts have the indexing storing method thats why its different from the rest of the sequence data types like \n",
    "# list, tuple, range\n"
   ]
  },
  {
   "cell_type": "code",
   "execution_count": 8,
   "id": "4861ba4c",
   "metadata": {},
   "outputs": [],
   "source": [
    "a = range(10) # here we store the 10 iterations"
   ]
  },
  {
   "cell_type": "code",
   "execution_count": 10,
   "id": "b386d7f6",
   "metadata": {},
   "outputs": [
    {
     "data": {
      "text/plain": [
       "range(0, 10)"
      ]
     },
     "execution_count": 10,
     "metadata": {},
     "output_type": "execute_result"
    }
   ],
   "source": [
    "a  # we display the range"
   ]
  },
  {
   "cell_type": "markdown",
   "id": "cd58170e",
   "metadata": {},
   "source": [
    "**Note:** In Python, `range(1, n+1)` is used to include `n` in the loop, because `range` stops before the last value."
   ]
  },
  {
   "cell_type": "code",
   "execution_count": null,
   "id": "224f5c59",
   "metadata": {},
   "outputs": [
    {
     "name": "stdout",
     "output_type": "stream",
     "text": [
      "1\n",
      "2\n",
      "3\n",
      "4\n",
      "5\n",
      "6\n",
      "7\n",
      "8\n",
      "9\n"
     ]
    }
   ],
   "source": [
    "for i in range(1,10):  # only prints till n - 1\n",
    "    print(i)"
   ]
  },
  {
   "cell_type": "code",
   "execution_count": 43,
   "id": "28cf224b",
   "metadata": {},
   "outputs": [
    {
     "name": "stdout",
     "output_type": "stream",
     "text": [
      "1\n",
      "2\n",
      "3\n",
      "4\n",
      "5\n"
     ]
    }
   ],
   "source": [
    "z = [1,2,3,4,5]  # reassign 'a' as a list to avoid shadowing\n",
    "for i in range(len(z)):\n",
    "    print(z[i])  # prints the values: 1, 2, 3, 4, 5"
   ]
  },
  {
   "cell_type": "code",
   "execution_count": null,
   "id": "92e7f112",
   "metadata": {},
   "outputs": [],
   "source": [
    "# tuples are immutable, so cannot do operations like slicing, inserting."
   ]
  },
  {
   "cell_type": "code",
   "execution_count": null,
   "id": "caeed8cb",
   "metadata": {},
   "outputs": [
    {
     "name": "stdout",
     "output_type": "stream",
     "text": [
      "fello\n"
     ]
    }
   ],
   "source": [
    "s = 'hello'\n",
    "s_new = s.replace('h','f') # replace h to f\n",
    "print(s_new)\n"
   ]
  },
  {
   "cell_type": "code",
   "execution_count": null,
   "id": "fbb09a40",
   "metadata": {},
   "outputs": [
    {
     "data": {
      "text/plain": [
       "['hello', 'hi', 'bye']"
      ]
     },
     "execution_count": 70,
     "metadata": {},
     "output_type": "execute_result"
    }
   ],
   "source": [
    "# this got deliminated by space \n",
    "a = 'hello hi bye'\n",
    "b = a.split(' ')\n",
    "b"
   ]
  },
  {
   "cell_type": "code",
   "execution_count": null,
   "id": "5c028f13",
   "metadata": {},
   "outputs": [
    {
     "data": {
      "text/plain": [
       "14"
      ]
     },
     "execution_count": 2,
     "metadata": {},
     "output_type": "execute_result"
    }
   ],
   "source": [
    "a=13\n",
    "a+=1\n",
    "a"
   ]
  },
  {
   "cell_type": "code",
   "execution_count": 6,
   "id": "e603f3b4",
   "metadata": {},
   "outputs": [
    {
     "name": "stdout",
     "output_type": "stream",
     "text": [
      "a * i = 12\n",
      "a * i = 24\n",
      "a * i = 36\n",
      "a * i = 48\n",
      "a * i = 60\n",
      "a * i = 72\n",
      "a * i = 84\n",
      "a * i = 96\n",
      "a * i = 108\n",
      "a * i = 120\n"
     ]
    }
   ],
   "source": [
    "a = int(input('enter the bumber for the table'))\n",
    "for i in range(1,11):\n",
    "    print(f\"a * i = {a*i}\")"
   ]
  },
  {
   "cell_type": "code",
   "execution_count": null,
   "id": "a0d4ac69",
   "metadata": {},
   "outputs": [],
   "source": [
    "#    & (AND):            if both are 1, then\n",
    "#    | (OR):             if atleast one of them is 1.\n",
    "#    ^ (XOR):            if one or other is 1, but not both.\n",
    "#    ~ (NOT):            Inverts all the bits from 1 to 0, or 0 to 1.\n",
    "#    << (Left Shift):    Shifts bits to the left, adding zeros on the right.\n",
    "#    >> (Right Shift):   Shifts bits to the right, discarding bits on the right.\n",
    "\n",
    "a = 5      # 0b0101x\n",
    "b = 3      # 0b0011\n",
    "\n",
    "print(a & b)   # 1 (0b0001)\n",
    "print(a | b)   # 7 (0b0111)\n",
    "print(a ^ b)   # 6 (0b0110)\n",
    "print(~a)      # -6 (inverts all bits)\n",
    "print(a << 1)  # 10 (0b1010)\n",
    "print(a >> 1)  # 2 (0b0010)"
   ]
  },
  {
   "cell_type": "markdown",
   "id": "7639cf9c",
   "metadata": {},
   "source": [
    "**Note:** In Python, `range(1, n+1)` is used for factorial to include `n` in the loop, because `range` stops before the last value."
   ]
  },
  {
   "cell_type": "code",
   "execution_count": null,
   "id": "8bf04c6b",
   "metadata": {},
   "outputs": [],
   "source": [
    "# Create two sets and print the symmetric difference between them.\n",
    "\n",
    "set_1 = {1,2,3,4}\n",
    "set_2 = {3,4,5,6}\n",
    "sym_dif = set_1 ^ set_2\n",
    "print(sym_dif)"
   ]
  },
  {
   "cell_type": "markdown",
   "id": "72cc035d",
   "metadata": {},
   "source": [
    "#### Converting an Integer to Binary\n",
    "\n",
    "![files](../img-refs/convert-to-bit.png)"
   ]
  },
  {
   "cell_type": "code",
   "execution_count": null,
   "id": "ce16ec52",
   "metadata": {},
   "outputs": [],
   "source": []
  },
  {
   "cell_type": "code",
   "execution_count": 21,
   "id": "435703cf",
   "metadata": {},
   "outputs": [],
   "source": [
    "a = [1,2,3,4,5]\n",
    "a[:2] = [10,20]"
   ]
  },
  {
   "cell_type": "code",
   "execution_count": 22,
   "id": "532d318d",
   "metadata": {},
   "outputs": [
    {
     "data": {
      "text/plain": [
       "[10, 20, 3, 4, 5]"
      ]
     },
     "execution_count": 22,
     "metadata": {},
     "output_type": "execute_result"
    }
   ],
   "source": [
    "a"
   ]
  },
  {
   "cell_type": "code",
   "execution_count": 26,
   "id": "768a5091",
   "metadata": {},
   "outputs": [
    {
     "data": {
      "text/plain": [
       "[10, 20, 3, 4, 5, 34, 34, 31, 31]"
      ]
     },
     "execution_count": 26,
     "metadata": {},
     "output_type": "execute_result"
    }
   ],
   "source": [
    "a.append(31)\n",
    "a"
   ]
  },
  {
   "cell_type": "code",
   "execution_count": 30,
   "id": "7f5150ff",
   "metadata": {},
   "outputs": [],
   "source": [
    "a.extend([100,101]) # only list can be passed"
   ]
  },
  {
   "cell_type": "code",
   "execution_count": 29,
   "id": "9b2491aa",
   "metadata": {},
   "outputs": [
    {
     "data": {
      "text/plain": [
       "[10, 20, 3, 4, 5, 34, 34, 31, 31, 100, 101]"
      ]
     },
     "execution_count": 29,
     "metadata": {},
     "output_type": "execute_result"
    }
   ],
   "source": [
    "a"
   ]
  },
  {
   "cell_type": "code",
   "execution_count": null,
   "id": "823391e8",
   "metadata": {},
   "outputs": [
    {
     "data": {
      "text/plain": [
       "[10, 20, [109, 102], [109, 102], 3, 4, 5, 34, 34, 31, 31, 100, 101, 100, 101]"
      ]
     },
     "execution_count": 33,
     "metadata": {},
     "output_type": "execute_result"
    }
   ],
   "source": [
    "a.insert(2,[109,102]) # list insertion in list \n",
    "a"
   ]
  },
  {
   "cell_type": "code",
   "execution_count": null,
   "id": "f1185576",
   "metadata": {},
   "outputs": [],
   "source": [
    "a[2][1]"
   ]
  },
  {
   "cell_type": "code",
   "execution_count": null,
   "id": "1b085327",
   "metadata": {},
   "outputs": [],
   "source": [
    "del a # deleting value"
   ]
  },
  {
   "cell_type": "code",
   "execution_count": 42,
   "id": "74c7187b",
   "metadata": {},
   "outputs": [
    {
     "name": "stdout",
     "output_type": "stream",
     "text": [
      "1 * 1 = 1\n",
      "1 * 2 = 2\n",
      "1 * 3 = 3\n",
      "1 * 4 = 4\n",
      "1 * 5 = 5\n",
      "1 * 6 = 6\n",
      "1 * 7 = 7\n",
      "1 * 8 = 8\n",
      "1 * 9 = 9\n",
      "1 * 10 = 10\n",
      "2 * 1 = 2\n",
      "2 * 2 = 4\n",
      "2 * 3 = 6\n",
      "2 * 4 = 8\n",
      "2 * 5 = 10\n",
      "2 * 6 = 12\n",
      "2 * 7 = 14\n",
      "2 * 8 = 16\n",
      "2 * 9 = 18\n",
      "2 * 10 = 20\n",
      "3 * 1 = 3\n",
      "3 * 2 = 6\n",
      "3 * 3 = 9\n",
      "3 * 4 = 12\n",
      "3 * 5 = 15\n",
      "3 * 6 = 18\n",
      "3 * 7 = 21\n",
      "3 * 8 = 24\n",
      "3 * 9 = 27\n",
      "3 * 10 = 30\n",
      "4 * 1 = 4\n",
      "4 * 2 = 8\n",
      "4 * 3 = 12\n",
      "4 * 4 = 16\n",
      "4 * 5 = 20\n",
      "4 * 6 = 24\n",
      "4 * 7 = 28\n",
      "4 * 8 = 32\n",
      "4 * 9 = 36\n",
      "4 * 10 = 40\n",
      "5 * 1 = 5\n",
      "5 * 2 = 10\n",
      "5 * 3 = 15\n",
      "5 * 4 = 20\n",
      "5 * 5 = 25\n",
      "5 * 6 = 30\n",
      "5 * 7 = 35\n",
      "5 * 8 = 40\n",
      "5 * 9 = 45\n",
      "5 * 10 = 50\n",
      "6 * 1 = 6\n",
      "6 * 2 = 12\n",
      "6 * 3 = 18\n",
      "6 * 4 = 24\n",
      "6 * 5 = 30\n",
      "6 * 6 = 36\n",
      "6 * 7 = 42\n",
      "6 * 8 = 48\n",
      "6 * 9 = 54\n",
      "6 * 10 = 60\n",
      "7 * 1 = 7\n",
      "7 * 2 = 14\n",
      "7 * 3 = 21\n",
      "7 * 4 = 28\n",
      "7 * 5 = 35\n",
      "7 * 6 = 42\n",
      "7 * 7 = 49\n",
      "7 * 8 = 56\n",
      "7 * 9 = 63\n",
      "7 * 10 = 70\n",
      "8 * 1 = 8\n",
      "8 * 2 = 16\n",
      "8 * 3 = 24\n",
      "8 * 4 = 32\n",
      "8 * 5 = 40\n",
      "8 * 6 = 48\n",
      "8 * 7 = 56\n",
      "8 * 8 = 64\n",
      "8 * 9 = 72\n",
      "8 * 10 = 80\n",
      "9 * 1 = 9\n",
      "9 * 2 = 18\n",
      "9 * 3 = 27\n",
      "9 * 4 = 36\n",
      "9 * 5 = 45\n",
      "9 * 6 = 54\n",
      "9 * 7 = 63\n",
      "9 * 8 = 72\n",
      "9 * 9 = 81\n",
      "9 * 10 = 90\n",
      "10 * 1 = 10\n",
      "10 * 2 = 20\n",
      "10 * 3 = 30\n",
      "10 * 4 = 40\n",
      "10 * 5 = 50\n",
      "10 * 6 = 60\n",
      "10 * 7 = 70\n",
      "10 * 8 = 80\n",
      "10 * 9 = 90\n",
      "10 * 10 = 100\n"
     ]
    }
   ],
   "source": [
    "for i in range(1,11):\n",
    "    for j in range(1,11):\n",
    "        print(f\"{i} * {j} = {i*j}\")"
   ]
  },
  {
   "cell_type": "code",
   "execution_count": null,
   "id": "6a66eda5",
   "metadata": {},
   "outputs": [],
   "source": [
    "my_string = 'python is the popular programming language'  # original sentence\n",
    "li = []  # empty list to store words\n",
    "word = ''  # temporary string to build each word\n",
    "for i in range(len(my_string)):  # loop through each character by index\n",
    "    if my_string[i] != ' ':  # if not a space, add character to word\n",
    "        word += my_string[i]\n",
    "    else:  # if space, word is complete\n",
    "        li.append(word)  # add word to list\n",
    "        word = ''  # reset word\n",
    "if word:  # add last word after loop ends\n",
    "    li.append(word)\n",
    "li  # list of words: ['python', 'is', 'the', 'popular', 'programming', 'language']"
   ]
  },
  {
   "cell_type": "markdown",
   "id": "b1147e6b",
   "metadata": {},
   "source": [
    "### Q. Print numbers from 1 to 10 using a while loop.\n",
    "\n",
    "\n",
    "## Why is the rest of the logic important in a while loop?\n",
    "### Your code:\n",
    "```python\n",
    "def nums():\n",
    "    i = 1\n",
    "    while i >= 10:\n",
    "        print(i)\n",
    "```\n",
    "\n",
    "**Explanation:**\n",
    "- Your loop condition is `i >= 10`. When `i` starts at 1, this is False, so the loop never runs.\n",
    "- You need a condition that is True for the values you want to print.\n",
    "- You also need to increment `i` so the loop eventually stops.\n",
    "\n",
    "### Correct logic to print numbers from 1 to 10:\n",
    "```python\n",
    "def nums():\n",
    "    i = 1\n",
    "    while i <= 10:\n",
    "        print(i)\n",
    "        i += 1\n",
    "nums()\n",
    "```\n",
    "\n",
    "\n",
    "- In a while loop, print(i) comes before i += 1 so you display the current value before moving to the next one. if we didn't write the line print(i), the printing will start from the (2, 10)\n",
    "\n",
    "\n",
    "\n",
    "- #### **Why is incrementing important?**\n",
    "- Without `i += 1`, `i` would always be 1 and the loop would run forever (if the condition was True).\n",
    "- The increment moves to the next number, so you get 1, 2, 3, ..., 10.\n",
    "\n",
    "**Summary:**\n",
    "- The loop condition decides when the loop runs.\n",
    "- The increment changes the value so the loop can end.\n",
    "- Both are needed for a working while loop."
   ]
  },
  {
   "cell_type": "code",
   "execution_count": 12,
   "id": "31687122",
   "metadata": {},
   "outputs": [],
   "source": [
    "email = 'john.doe@example.com'"
   ]
  },
  {
   "cell_type": "code",
   "execution_count": null,
   "id": "7c109cfe",
   "metadata": {},
   "outputs": [],
   "source": [
    "username = email.split('@')[0]  # spliting and assigning username to the variable\n",
    "domain = email.split('@')[1]"
   ]
  },
  {
   "cell_type": "code",
   "execution_count": 14,
   "id": "936b8a23",
   "metadata": {},
   "outputs": [
    {
     "data": {
      "text/plain": [
       "'example.com'"
      ]
     },
     "execution_count": 14,
     "metadata": {},
     "output_type": "execute_result"
    }
   ],
   "source": [
    "domain"
   ]
  },
  {
   "cell_type": "code",
   "execution_count": 16,
   "id": "a90bd562",
   "metadata": {},
   "outputs": [
    {
     "data": {
      "text/plain": [
       "'john.doe@mycompany.com'"
      ]
     },
     "execution_count": 16,
     "metadata": {},
     "output_type": "execute_result"
    }
   ],
   "source": [
    "new_email = username + '@mycompany.com'\n",
    "new_email"
   ]
  },
  {
   "cell_type": "markdown",
   "id": "70ce0b0d",
   "metadata": {},
   "source": [
    "------"
   ]
  },
  {
   "cell_type": "markdown",
   "id": "e504c0de",
   "metadata": {},
   "source": [
    "#### LIST"
   ]
  },
  {
   "cell_type": "code",
   "execution_count": 2,
   "id": "9a8c3e83",
   "metadata": {},
   "outputs": [],
   "source": [
    "# Python Lists - Quick Notes\n",
    "\n",
    "# Access List Items\n",
    "fruits = [\"apple\", \"banana\", \"cherry\"]\n",
    "fruits[1]        # \"banana\"\n",
    "fruits[-1]       # \"cherry\"\n",
    "\n",
    "colors = [\"red\", \"blue\", \"green\", \"yellow\", \"purple\", \"black\", \"white\"]\n",
    "colors[2:5]      # [\"green\", \"yellow\", \"purple\"]\n",
    "colors[:4]       # [\"red\", \"blue\", \"green\", \"yellow\"]\n",
    "colors[2:]       # [\"green\", \"yellow\", \"purple\", \"black\", \"white\"]\n",
    "colors[-4:-1]    # [\"yellow\", \"purple\", \"black\"]\n",
    "\n",
    "animals = [\"dog\", \"cat\", \"rabbit\"]\n",
    "\"cat\" in animals # True\n",
    "\n",
    "# Change List Items\n",
    "numbers = [10, 20, 30]\n",
    "numbers[1] = 200\n",
    "# [10, 200, 30]\n",
    "\n",
    "letters = [\"a\", \"b\", \"c\", \"d\"]\n",
    "letters[1:3] = [\"x\", \"y\"]\n",
    "# [\"a\", \"x\", \"y\", \"d\"]\n",
    "\n",
    "# Add Items\n",
    "cities = [\"Paris\", \"London\", \"Tokyo\"]\n",
    "cities.append(\"New York\")\n",
    "# [\"Paris\", \"London\", \"Tokyo\", \"New York\"]\n",
    "\n",
    "cars = [\"BMW\", \"Audi\", \"Tesla\"]\n",
    "cars.insert(1, \"Mercedes\")\n",
    "# [\"BMW\", \"Mercedes\", \"Audi\", \"Tesla\"]\n",
    "\n",
    "langs = [\"Python\", \"Java\"]\n",
    "langs.extend([\"C++\", \"Go\"])\n",
    "# [\"Python\", \"Java\", \"C++\", \"Go\"]\n",
    "\n",
    "# Remove Items\n",
    "plants = [\"rose\", \"lily\", \"tulip\"]\n",
    "plants.remove(\"lily\")\n",
    "# [\"rose\", \"tulip\"]\n",
    "\n",
    "nums = [1, 2, 3]\n",
    "nums.pop(1)\n",
    "# [1, 3]\n",
    "\n",
    "letters2 = [\"a\", \"b\", \"c\"]\n",
    "letters2.pop()\n",
    "# [\"a\", \"b\"]\n",
    "\n",
    "birds = [\"sparrow\", \"crow\", \"eagle\"]\n",
    "del birds[0]\n",
    "# [\"crow\", \"eagle\"]\n",
    "\n",
    "fish = [\"salmon\", \"tuna\", \"shark\"]\n",
    "fish.clear()\n",
    "# []\n",
    "\n",
    "# Loop Through Lists\n",
    "items = [\"pen\", \"book\", \"pencil\"]\n",
    "for i in items:\n",
    "    pass  # \"pen\", \"book\", \"pencil\"\n",
    "\n",
    "for i in range(len(items)):\n",
    "    pass  # 0: \"pen\", 1: \"book\", 2: \"pencil\"\n",
    "\n",
    "j = 0\n",
    "while j < len(items):\n",
    "    pass  # \"pen\", \"book\", \"pencil\"\n",
    "    j += 1\n",
    "\n",
    "# Sort & Copy\n",
    "scores = [50, 20, 40, 10]\n",
    "scores.sort()\n",
    "# [10, 20, 40, 50]\n",
    "scores.sort(reverse=True)\n",
    "# [50, 40, 20, 10]\n",
    "\n",
    "names = [\"John\", \"Alice\", \"Bob\"]\n",
    "names_copy = names.copy()\n",
    "# [\"John\", \"Alice\", \"Bob\"]\n",
    "\n",
    "# Join Lists\n",
    "list1 = [1, 2, 3]\n",
    "list2 = [4, 5, 6]\n",
    "joined = list1 + list2\n",
    "# [1, 2, 3, 4, 5, 6]\n",
    "\n",
    "list3 = [\"a\", \"b\"]\n",
    "list4 = [\"c\", \"d\"]\n",
    "for x in list4:\n",
    "    list3.append(x)\n",
    "# [\"a\", \"b\", \"c\", \"d\"]\n",
    "\n",
    "list5 = [\"x\", \"y\"]\n",
    "list6 = [\"z\"]\n",
    "list5.extend(list6)\n",
    "# [\"x\", \"y\", \"z\"]"
   ]
  },
  {
   "cell_type": "markdown",
   "id": "f8907237",
   "metadata": {},
   "source": [
    "#### list"
   ]
  },
  {
   "cell_type": "code",
   "execution_count": 3,
   "id": "f7cd57b9",
   "metadata": {},
   "outputs": [
    {
     "data": {
      "text/plain": [
       "2"
      ]
     },
     "execution_count": 3,
     "metadata": {},
     "output_type": "execute_result"
    }
   ],
   "source": [
    "# Python Tuples - Quick Notes\n",
    "\n",
    "# Create Tuples\n",
    "fruits = (\"apple\", \"banana\", \"cherry\")\n",
    "# (\"apple\", \"banana\", \"cherry\")\n",
    "\n",
    "# Tuples allow duplicates\n",
    "colors = (\"red\", \"blue\", \"green\", \"red\", \"green\")\n",
    "# (\"red\", \"blue\", \"green\", \"red\", \"green\")\n",
    "\n",
    "# Tuple length\n",
    "animals = (\"dog\", \"cat\", \"rabbit\")\n",
    "len(animals)           # 3\n",
    "\n",
    "# One item tuple (needs a comma!)\n",
    "single = (\"apple\",)\n",
    "type(single)           # <class 'tuple'>\n",
    "not_tuple = (\"apple\")\n",
    "type(not_tuple)        # <class 'str'>\n",
    "\n",
    "# Tuples with different datatypes\n",
    "mixed = (\"abc\", 34, True, 40.5, \"male\")\n",
    "# (\"abc\", 34, True, 40.5, \"male\")\n",
    "\n",
    "# Using tuple() constructor\n",
    "veggies = tuple((\"carrot\", \"potato\", \"tomato\"))\n",
    "# (\"carrot\", \"potato\", \"tomato\")\n",
    "\n",
    "# Access Tuple Items\n",
    "cities = (\"Paris\", \"London\", \"Berlin\")\n",
    "cities[1]              # \"London\"\n",
    "cities[-1]             # \"Berlin\"\n",
    "\n",
    "numbers = (10, 20, 30, 40, 50, 60, 70)\n",
    "numbers[2:5]           # (30, 40, 50)\n",
    "numbers[:4]            # (10, 20, 30, 40)\n",
    "numbers[2:]            # (30, 40, 50, 60, 70)\n",
    "numbers[-4:-1]         # (40, 50, 60)\n",
    "\n",
    "\"London\" in cities     # True\n",
    "\n",
    "# Update Tuples (workarounds)\n",
    "foods = (\"pizza\", \"burger\", \"pasta\")\n",
    "temp = list(foods)\n",
    "temp[1] = \"sandwich\"\n",
    "foods = tuple(temp)\n",
    "# (\"pizza\", \"sandwich\", \"pasta\")\n",
    "\n",
    "drinks = (\"tea\", \"coffee\")\n",
    "temp = list(drinks)\n",
    "temp.append(\"juice\")\n",
    "drinks = tuple(temp)\n",
    "# (\"tea\", \"coffee\", \"juice\")\n",
    "\n",
    "letters = (\"a\", \"b\", \"c\")\n",
    "letters += (\"d\",)\n",
    "# (\"a\", \"b\", \"c\", \"d\")\n",
    "\n",
    "pets = (\"cat\", \"dog\", \"parrot\")\n",
    "temp = list(pets)\n",
    "temp.remove(\"dog\")\n",
    "pets = tuple(temp)\n",
    "# (\"cat\", \"parrot\")\n",
    "\n",
    "# Delete tuple completely\n",
    "cars = (\"BMW\", \"Audi\")\n",
    "del cars\n",
    "# (cars no longer exists)\n",
    "\n",
    "# Unpacking Tuples\n",
    "fruits = (\"apple\", \"banana\", \"cherry\")\n",
    "(a, b, c) = fruits\n",
    "# a = \"apple\", b = \"banana\", c = \"cherry\"\n",
    "\n",
    "numbers = (1, 2, 3, 4, 5)\n",
    "(x, y, *rest) = numbers\n",
    "# x = 1, y = 2, rest = [3, 4, 5]\n",
    "\n",
    "places = (\"Tokyo\", \"Paris\", \"Berlin\", \"Rome\", \"NYC\")\n",
    "(first, *middle, last) = places\n",
    "# first = \"Tokyo\", middle = [\"Paris\", \"Berlin\", \"Rome\"], last = \"NYC\"\n",
    "\n",
    "# Loop Tuples\n",
    "items = (\"pen\", \"book\", \"eraser\")\n",
    "for i in items:\n",
    "    pass  # \"pen\", \"book\", \"eraser\"\n",
    "\n",
    "for i in range(len(items)):\n",
    "    pass  # 0: \"pen\", 1: \"book\", 2: \"eraser\"\n",
    "\n",
    "j = 0\n",
    "while j < len(items):\n",
    "    pass  # \"pen\", \"book\", \"eraser\"\n",
    "    j += 1\n",
    "\n",
    "# Join and Multiply Tuples\n",
    "tuple1 = (\"a\", \"b\", \"c\")\n",
    "tuple2 = (1, 2, 3)\n",
    "joined = tuple1 + tuple2\n",
    "# (\"a\", \"b\", \"c\", 1, 2, 3)\n",
    "\n",
    "fruits = (\"apple\", \"banana\")\n",
    "doubled = fruits * 2\n",
    "# (\"apple\", \"banana\", \"apple\", \"banana\")\n",
    "\n",
    "# Tuple Methods\n",
    "nums = (1, 2, 3, 2, 4, 2)\n",
    "nums.count(2)          # 3\n",
    "nums.index(3)          # 2"
   ]
  },
  {
   "cell_type": "markdown",
   "id": "9cc45bd6",
   "metadata": {},
   "source": [
    "#### SETS"
   ]
  },
  {
   "cell_type": "code",
   "execution_count": 4,
   "id": "97c45cc0",
   "metadata": {},
   "outputs": [
    {
     "data": {
      "text/plain": [
       "True"
      ]
     },
     "execution_count": 4,
     "metadata": {},
     "output_type": "execute_result"
    }
   ],
   "source": [
    "# Python Sets - Quick Notes\n",
    "\n",
    "# Create Sets\n",
    "fruits = {\"apple\", \"banana\", \"cherry\"}\n",
    "# {\"apple\", \"banana\", \"cherry\"}\n",
    "\n",
    "# Duplicates are ignored\n",
    "colors = {\"red\", \"blue\", \"red\", \"green\"}\n",
    "# {\"red\", \"blue\", \"green\"}\n",
    "\n",
    "# True and 1 are considered duplicates\n",
    "mix1 = {\"apple\", True, 1, 2}\n",
    "# {\"apple\", 1, 2}\n",
    "\n",
    "# False and 0 are considered duplicates\n",
    "mix2 = {\"banana\", False, 0, \"grape\"}\n",
    "# {\"banana\", 0, \"grape\"}\n",
    "\n",
    "# Length of a set\n",
    "animals = {\"dog\", \"cat\", \"rabbit\"}\n",
    "len(animals)                # 3\n",
    "\n",
    "# Mixed datatypes\n",
    "mixed = {\"abc\", 34, True, 40, \"male\"}\n",
    "# {\"abc\", 34, 1, 40, \"male\"}\n",
    "\n",
    "# Using set() constructor\n",
    "veggies = set((\"carrot\", \"potato\", \"tomato\"))\n",
    "# {\"carrot\", \"potato\", \"tomato\"}\n",
    "\n",
    "# Accessing Set Items\n",
    "cities = {\"Paris\", \"London\", \"Berlin\"}\n",
    "for c in cities:\n",
    "    pass  # \"Paris\", \"London\", \"Berlin\" (order not guaranteed)\n",
    "\n",
    "\"London\" in cities         # True\n",
    "\"Rome\" not in cities       # True\n",
    "\n",
    "# Add Set Items\n",
    "drinks = {\"tea\", \"coffee\"}\n",
    "drinks.add(\"juice\")\n",
    "# {\"tea\", \"coffee\", \"juice\"}\n",
    "\n",
    "drinks2 = {\"water\", \"milk\"}\n",
    "drinks.update(drinks2)\n",
    "# {\"tea\", \"coffee\", \"juice\", \"water\", \"milk\"}\n",
    "\n",
    "drinks.update([\"soda\", \"shake\"])\n",
    "# {\"tea\", \"coffee\", \"juice\", \"water\", \"milk\", \"soda\", \"shake\"}\n",
    "\n",
    "# Remove Set Items\n",
    "pets = {\"cat\", \"dog\", \"parrot\"}\n",
    "pets.remove(\"dog\")\n",
    "# {\"cat\", \"parrot\"}\n",
    "\n",
    "birds = {\"sparrow\", \"crow\", \"pigeon\"}\n",
    "birds.discard(\"crow\")\n",
    "# {\"sparrow\", \"pigeon\"}\n",
    "\n",
    "nums = {\"one\", \"two\", \"three\"}\n",
    "removed = nums.pop()\n",
    "# removed: random item, nums: remaining items\n",
    "\n",
    "letters = {\"a\", \"b\", \"c\"}\n",
    "letters.clear()\n",
    "# set()\n",
    "\n",
    "shapes = {\"circle\", \"square\"}\n",
    "del shapes\n",
    "# shapes no longer exists\n",
    "\n",
    "# Loop Through Sets\n",
    "gadgets = {\"phone\", \"laptop\", \"tablet\"}\n",
    "for g in gadgets:\n",
    "    pass  # \"phone\", \"laptop\", \"tablet\" (order not guaranteed)\n",
    "\n",
    "# Joining Sets\n",
    "setA = {\"a\", \"b\", \"c\"}\n",
    "setB = {1, 2, 3}\n",
    "joined = setA.union(setB)\n",
    "# {\"a\", \"b\", \"c\", 1, 2, 3}\n",
    "\n",
    "joined2 = setA | setB\n",
    "# {\"a\", \"b\", \"c\", 1, 2, 3}\n",
    "\n",
    "setA.update(setB)\n",
    "# setA: {\"a\", \"b\", \"c\", 1, 2, 3}\n",
    "\n",
    "# Intersection (common items)\n",
    "setX = {\"apple\", \"banana\", \"cherry\"}\n",
    "setY = {\"google\", \"apple\", \"microsoft\"}\n",
    "common = setX.intersection(setY)\n",
    "# {\"apple\"}\n",
    "\n",
    "setX & setY\n",
    "# {\"apple\"}\n",
    "\n",
    "# Difference (items only in setX)\n",
    "diff = setX.difference(setY)\n",
    "# {\"banana\", \"cherry\"}\n",
    "\n",
    "setX - setY\n",
    "# {\"banana\", \"cherry\"}\n",
    "\n",
    "# Symmetric difference (items not in both)\n",
    "sym_diff = setX.symmetric_difference(setY)\n",
    "# {\"banana\", \"cherry\", \"google\", \"microsoft\"}\n",
    "\n",
    "setX ^ setY\n",
    "# {\"banana\", \"cherry\", \"google\", \"microsoft\"}\n",
    "\n",
    "# Set Methods Overview\n",
    "set1 = {\"python\", \"java\", \"c++\"}\n",
    "set2 = {\"python\", \"html\"}\n",
    "\n",
    "set1.copy()                # {\"python\", \"java\", \"c++\"}\n",
    "set1.isdisjoint(set2)      # False\n",
    "{\"python\"} <= set1         # True\n",
    "set1 >= {\"java\"}           # True"
   ]
  },
  {
   "cell_type": "markdown",
   "id": "e4d4c248",
   "metadata": {},
   "source": [
    "#### DICTIONARIES"
   ]
  },
  {
   "cell_type": "code",
   "execution_count": 5,
   "id": "183b219f",
   "metadata": {},
   "outputs": [],
   "source": [
    "# Creating Dictionaries\n",
    "car_info = {\"brand\": \"Ford\", \"model\": \"Mustang\", \"year\": 1964}\n",
    "# {\"brand\": \"Ford\", \"model\": \"Mustang\", \"year\": 1964}\n",
    "\n",
    "# Duplicates not allowed (last key overwrites previous one)\n",
    "car_info2 = {\"brand\": \"Ford\", \"model\": \"Mustang\", \"year\": 1964, \"year\": 2020}\n",
    "# {\"brand\": \"Ford\", \"model\": \"Mustang\", \"year\": 2020}\n",
    "\n",
    "# Length of dictionary\n",
    "len(car_info)                  # 3\n",
    "\n",
    "# Values can be different types\n",
    "mixed_dict = {\"brand\": \"Ford\", \"electric\": False, \"year\": 1964, \"colors\": [\"red\", \"white\", \"blue\"]}\n",
    "# {\"brand\": \"Ford\", \"electric\": False, \"year\": 1964, \"colors\": [\"red\", \"white\", \"blue\"]}\n",
    "\n",
    "# Type check\n",
    "type(car_info)                 # <class 'dict'>\n",
    "\n",
    "# Using dict() constructor\n",
    "person = dict(name=\"John\", age=36, country=\"Norway\")\n",
    "# {\"name\": \"John\", \"age\": 36, \"country\": \"Norway\"}\n",
    "\n",
    "# Accessing Dictionary Items\n",
    "car_details = {\"brand\": \"Toyota\", \"model\": \"Corolla\", \"year\": 2010}\n",
    "car_details[\"model\"]           # \"Corolla\"\n",
    "car_details.get(\"model\")       # \"Corolla\"\n",
    "car_details.keys()             # dict_keys(['brand', 'model', 'year'])\n",
    "car_details.values()           # dict_values(['Toyota', 'Corolla', 2010])\n",
    "car_details.items()            # dict_items([('brand', 'Toyota'), ('model', 'Corolla'), ('year', 2010)])\n",
    "\"model\" in car_details         # True\n",
    "\n",
    "# Changing Dictionary Items\n",
    "book = {\"title\": \"Python Basics\", \"year\": 2015}\n",
    "book[\"year\"] = 2020\n",
    "# {\"title\": \"Python Basics\", \"year\": 2020}\n",
    "book.update({\"title\": \"Advanced Python\"})\n",
    "# {\"title\": \"Advanced Python\", \"year\": 2020}\n",
    "\n",
    "# Adding Dictionary Items\n",
    "student = {\"name\": \"Alice\", \"age\": 21}\n",
    "student[\"grade\"] = \"A\"\n",
    "# {\"name\": \"Alice\", \"age\": 21, \"grade\": \"A\"}\n",
    "student.update({\"city\": \"New York\"})\n",
    "# {\"name\": \"Alice\", \"age\": 21, \"grade\": \"A\", \"city\": \"New York\"}\n",
    "\n",
    "# Removing Dictionary Items\n",
    "employee = {\"name\": \"Bob\", \"role\": \"Manager\", \"salary\": 5000}\n",
    "employee.pop(\"role\")\n",
    "# {\"name\": \"Bob\", \"salary\": 5000}\n",
    "\n",
    "employee2 = {\"name\": \"Eva\", \"dept\": \"HR\", \"level\": 2}\n",
    "employee2.popitem()\n",
    "# removes last item, e.g. {\"name\": \"Eva\", \"dept\": \"HR\"}\n",
    "\n",
    "employee3 = {\"name\": \"Sam\", \"dept\": \"Finance\"}\n",
    "del employee3[\"dept\"]\n",
    "# {\"name\": \"Sam\"}\n",
    "\n",
    "employee4 = {\"name\": \"Kim\", \"dept\": \"IT\"}\n",
    "employee4.clear()\n",
    "# {}\n",
    "\n",
    "# Looping Through Dictionaries\n",
    "fruit_info = {\"type\": \"fruit\", \"name\": \"apple\", \"color\": \"red\"}\n",
    "for k in fruit_info:\n",
    "    pass  # \"type\", \"name\", \"color\"\n",
    "for k in fruit_info:\n",
    "    pass  # fruit_info[k]: \"fruit\", \"apple\", \"red\"\n",
    "for v in fruit_info.values():\n",
    "    pass  # \"fruit\", \"apple\", \"red\"\n",
    "for k in fruit_info.keys():\n",
    "    pass  # \"type\", \"name\", \"color\"\n",
    "for k, v in fruit_info.items():\n",
    "    pass  # (\"type\", \"fruit\"), (\"name\", \"apple\"), (\"color\", \"red\")\n",
    "\n",
    "# Copying Dictionaries\n",
    "original = {\"a\": 1, \"b\": 2}\n",
    "copy1 = original.copy()\n",
    "# {\"a\": 1, \"b\": 2}\n",
    "copy2 = dict(original)\n",
    "# {\"a\": 1, \"b\": 2}\n",
    "\n",
    "# Dictionary Methods Overview\n",
    "sample = {\"x\": 10, \"y\": 20}\n",
    "sample.copy().clear()         # None (clears copy)\n",
    "sample.copy()                 # {\"x\": 10, \"y\": 20}\n",
    "dict.fromkeys([\"a\", \"b\"], 0)  # {\"a\": 0, \"b\": 0}\n",
    "sample.get(\"x\")               # 10\n",
    "sample.items()                # dict_items([('x', 10), ('y', 20)])\n",
    "sample.keys()                 # dict_keys(['x', 'y'])\n",
    "sample.values()               # dict_values([10, 20])\n",
    "sample.pop(\"y\", \"Not Found\")  # 20\n",
    "sample.setdefault(\"z\", 99)    # 99\n",
    "sample.update({\"w\": 50})\n",
    "# {\"x\": 10, \"z\": 99, \"w\": 50}"
   ]
  },
  {
   "cell_type": "markdown",
   "id": "ed60293e",
   "metadata": {},
   "source": [
    "### things to remember\n",
    "\n",
    "- if we want to find extract the digits from number we do (num%10)\n",
    "- `&` is used for the intersection - `set1 & set2`\n",
    "- `^` is used to find the symmetric difference - `set1 ^ set2` (basically excluding the common elements from both sets)"
   ]
  },
  {
   "cell_type": "markdown",
   "id": "cdf3ecf6",
   "metadata": {},
   "source": []
  },
  {
   "cell_type": "markdown",
   "id": "210dd0dc",
   "metadata": {},
   "source": [
    "### weak areas"
   ]
  },
  {
   "cell_type": "markdown",
   "id": "e28a7877",
   "metadata": {},
   "source": [
    "- updating the values in the dictionary \n",
    "-"
   ]
  },
  {
   "cell_type": "markdown",
   "id": "b3331079",
   "metadata": {},
   "source": []
  }
 ],
 "metadata": {
  "kernelspec": {
   "display_name": "base",
   "language": "python",
   "name": "python3"
  },
  "language_info": {
   "codemirror_mode": {
    "name": "ipython",
    "version": 3
   },
   "file_extension": ".py",
   "mimetype": "text/x-python",
   "name": "python",
   "nbconvert_exporter": "python",
   "pygments_lexer": "ipython3",
   "version": "3.12.2"
  }
 },
 "nbformat": 4,
 "nbformat_minor": 5
}
