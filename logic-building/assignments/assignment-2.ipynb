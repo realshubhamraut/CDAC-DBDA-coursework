{
 "cells": [
  {
   "cell_type": "code",
   "execution_count": null,
   "id": "5c4c0bc9",
   "metadata": {},
   "outputs": [],
   "source": [
    "# shubham raut"
   ]
  },
  {
   "cell_type": "code",
   "execution_count": null,
   "id": "f5af60a1",
   "metadata": {},
   "outputs": [
    {
     "data": {
      "text/plain": [
       "{1, 2, 4, 5, 6}"
      ]
     },
     "execution_count": 6,
     "metadata": {},
     "output_type": "execute_result"
    }
   ],
   "source": [
    "# 1. Create a set with numbers from 1 to 5. Add the number 6 and remove 3. Print the final set.\n",
    "nums = {1,2,3,4,5}\n",
    "nums.add(6)\n",
    "nums.remove(3)\n",
    "nums"
   ]
  },
  {
   "cell_type": "code",
   "execution_count": 1,
   "id": "fa78f126",
   "metadata": {},
   "outputs": [
    {
     "name": "stdout",
     "output_type": "stream",
     "text": [
      "{1, 2, 3, 4, 5}\n"
     ]
    }
   ],
   "source": [
    "# 2. Write a program to find the union and intersection of two sets: {1, 2, 3} and {3, 4, 5}.\n",
    "\n",
    "set1 = {1,2,3}\n",
    "set2 = {3,4,5}\n",
    "union = set1 | set2        \n",
    "print(union)"
   ]
  },
  {
   "cell_type": "code",
   "execution_count": 4,
   "id": "cbf97ec9",
   "metadata": {},
   "outputs": [
    {
     "name": "stdout",
     "output_type": "stream",
     "text": [
      "{3}\n"
     ]
    }
   ],
   "source": [
    "intersection = set1 & set2\n",
    "print(intersection)"
   ]
  },
  {
   "cell_type": "code",
   "execution_count": 7,
   "id": "5b936436",
   "metadata": {},
   "outputs": [
    {
     "data": {
      "text/plain": [
       "{1, 2, 3, 4, 5}"
      ]
     },
     "execution_count": 7,
     "metadata": {},
     "output_type": "execute_result"
    }
   ],
   "source": [
    "# 3. Given a list with duplicates [1, 2, 2, 3, 4, 4, 5], convert it into a set to remove duplicates.\n",
    "\n",
    "li = [1,2,2,3,4,4,5]\n",
    "convert = set(li)\n",
    "convert"
   ]
  },
  {
   "cell_type": "code",
   "execution_count": 10,
   "id": "2eb99d20",
   "metadata": {},
   "outputs": [
    {
     "name": "stdout",
     "output_type": "stream",
     "text": [
      "True\n"
     ]
    }
   ],
   "source": [
    "# 4. Check whether the number 7 exists in the set {1, 3, 5, 7, 9}.\n",
    "\n",
    "my_set = {1,3,5,7,9}\n",
    "if 7 in my_set:\n",
    "    print(True)\n",
    "else:\n",
    "    print(False)\n"
   ]
  },
  {
   "cell_type": "code",
   "execution_count": 13,
   "id": "5400929e",
   "metadata": {},
   "outputs": [
    {
     "name": "stdout",
     "output_type": "stream",
     "text": [
      "{1, 2, 5, 6}\n"
     ]
    }
   ],
   "source": [
    "# 5. Create two sets and print the symmetric difference between them.\n",
    "\n",
    "set_1 = {1,2,3,4}\n",
    "set_2 = {3,4,5,6}\n",
    "\n",
    "\n",
    "sym_dif = set_1 ^ set_2\n",
    "print(sym_dif)"
   ]
  },
  {
   "cell_type": "code",
   "execution_count": 7,
   "id": "91a80ed5",
   "metadata": {},
   "outputs": [
    {
     "name": "stdout",
     "output_type": "stream",
     "text": [
      "dict_keys(['Shubham', 'Rajesh', 'Sam'])\n"
     ]
    }
   ],
   "source": [
    "# 6. Create a dictionary of 3 students with names as keys and marks as values. Print only the keys.\n",
    "students = {'Shubham': 98, 'Rajesh':100, 'Sam':39}\n",
    "print(students.keys())"
   ]
  },
  {
   "cell_type": "code",
   "execution_count": 13,
   "id": "4a277d6a",
   "metadata": {},
   "outputs": [
    {
     "data": {
      "text/plain": [
       "{'a': 1, 'b': 5, 'c': 3}"
      ]
     },
     "execution_count": 13,
     "metadata": {},
     "output_type": "execute_result"
    }
   ],
   "source": [
    "# 7. Given {\"a\": 1, \"b\": 2, \"c\": 3), update the value of \"b\" to 5.\n",
    "dict_1 = {\"a\": 1, \"b\": 2, \"c\": 3}\n",
    "dict_1[\"b\"] = 5\n",
    "dict_1"
   ]
  },
  {
   "cell_type": "code",
   "execution_count": 24,
   "id": "fcea1815",
   "metadata": {},
   "outputs": [
    {
     "name": "stdout",
     "output_type": "stream",
     "text": [
      "{'h': 1, 'e': 1, 'l': 3, 'o': 2, ' ': 1, 'w': 1, 'r': 1, 'd': 1}\n"
     ]
    }
   ],
   "source": [
    "# 8. Write a program to count character frequency in the string 'hello world' and store it in a dictionary.\n",
    "string = 'hello world'\n",
    "freq = {}\n",
    "for i in string:\n",
    "    freq[i] = freq.get(i, 0) + 1\n",
    "print(freq)"
   ]
  },
  {
   "cell_type": "code",
   "execution_count": 32,
   "id": "9af93ecc",
   "metadata": {},
   "outputs": [
    {
     "data": {
      "text/plain": [
       "{'x': 10, 'y': 30, 'z': 40}"
      ]
     },
     "execution_count": 32,
     "metadata": {},
     "output_type": "execute_result"
    }
   ],
   "source": [
    "# 9. Merge two dictionaries: (\"x\": 10, \"y\": 20) and (\"y\": 30, \"z\": 40).\n",
    "\n",
    "dict_1 = {\"x\":10, \"y\": 20}\n",
    "dict_2 = {\"y\":30, \"z\":40}\n",
    "dict_1.update(dict_2)\n",
    "\n",
    "dict_1"
   ]
  },
  {
   "cell_type": "code",
   "execution_count": null,
   "id": "3fad9a1c",
   "metadata": {},
   "outputs": [
    {
     "ename": "TypeError",
     "evalue": "unsupported operand type(s) for +: 'dict' and 'dict'",
     "output_type": "error",
     "traceback": [
      "\u001b[0;31m---------------------------------------------------------------------------\u001b[0m",
      "\u001b[0;31mTypeError\u001b[0m                                 Traceback (most recent call last)",
      "Cell \u001b[0;32mIn[26], line 1\u001b[0m\n\u001b[0;32m----> 1\u001b[0m new_dict \u001b[38;5;241m=\u001b[39m \u001b[43mdict_1\u001b[49m\u001b[43m \u001b[49m\u001b[38;5;241;43m+\u001b[39;49m\u001b[43m \u001b[49m\u001b[43mdict_2\u001b[49m\n",
      "\u001b[0;31mTypeError\u001b[0m: unsupported operand type(s) for +: 'dict' and 'dict'"
     ]
    }
   ],
   "source": [
    "# 10. Check if a given key exists in a dictionary. If not, add the key with a default value."
   ]
  },
  {
   "cell_type": "code",
   "execution_count": null,
   "id": "f59def63",
   "metadata": {},
   "outputs": [],
   "source": []
  }
 ],
 "metadata": {
  "kernelspec": {
   "display_name": "base",
   "language": "python",
   "name": "python3"
  },
  "language_info": {
   "codemirror_mode": {
    "name": "ipython",
    "version": 3
   },
   "file_extension": ".py",
   "mimetype": "text/x-python",
   "name": "python",
   "nbconvert_exporter": "python",
   "pygments_lexer": "ipython3",
   "version": "3.12.2"
  }
 },
 "nbformat": 4,
 "nbformat_minor": 5
}
