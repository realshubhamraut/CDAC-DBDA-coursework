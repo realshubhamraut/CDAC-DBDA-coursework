{
 "cells": [
  {
   "cell_type": "code",
   "execution_count": 180,
   "id": "5c4c0bc9",
   "metadata": {},
   "outputs": [],
   "source": [
    "# shubham raut"
   ]
  },
  {
   "cell_type": "code",
   "execution_count": 181,
   "id": "f5af60a1",
   "metadata": {},
   "outputs": [
    {
     "data": {
      "text/plain": [
       "{1, 2, 4, 5, 6}"
      ]
     },
     "execution_count": 181,
     "metadata": {},
     "output_type": "execute_result"
    }
   ],
   "source": [
    "# 1. Create a set with numbers from 1 to 5. Add the number 6 and remove 3. Print the final set.\n",
    "nums = {1,2,3,4,5}\n",
    "nums.add(6)\n",
    "nums.remove(3)\n",
    "nums"
   ]
  },
  {
   "cell_type": "code",
   "execution_count": 182,
   "id": "fa78f126",
   "metadata": {},
   "outputs": [
    {
     "name": "stdout",
     "output_type": "stream",
     "text": [
      "{1, 2, 3, 4, 5}\n",
      "{3}\n"
     ]
    }
   ],
   "source": [
    "# 2. Write a program to find the union and intersection of two sets: {1, 2, 3} and {3, 4, 5}.\n",
    "\n",
    "set1 = {1,2,3}\n",
    "set2 = {3,4,5}\n",
    "union = set1 | set2        \n",
    "print(union)\n",
    "\n",
    "intersection = set1 & set2\n",
    "print(intersection)"
   ]
  },
  {
   "cell_type": "code",
   "execution_count": 183,
   "id": "5b936436",
   "metadata": {},
   "outputs": [
    {
     "data": {
      "text/plain": [
       "{1, 2, 3, 4, 5}"
      ]
     },
     "execution_count": 183,
     "metadata": {},
     "output_type": "execute_result"
    }
   ],
   "source": [
    "# 3. Given a list with duplicates [1, 2, 2, 3, 4, 4, 5], convert it into a set to remove duplicates.\n",
    "\n",
    "li = [1,2,2,3,4,4,5]\n",
    "convert = set(li)\n",
    "convert"
   ]
  },
  {
   "cell_type": "code",
   "execution_count": 184,
   "id": "2eb99d20",
   "metadata": {},
   "outputs": [
    {
     "name": "stdout",
     "output_type": "stream",
     "text": [
      "True\n"
     ]
    }
   ],
   "source": [
    "# 4. Check whether the number 7 exists in the set {1, 3, 5, 7, 9}.\n",
    "\n",
    "my_set = {1,3,5,7,9}\n",
    "if 7 in my_set:\n",
    "    print(True)\n",
    "else:\n",
    "    print(False)"
   ]
  },
  {
   "cell_type": "code",
   "execution_count": 185,
   "id": "5400929e",
   "metadata": {},
   "outputs": [
    {
     "name": "stdout",
     "output_type": "stream",
     "text": [
      "{1, 2, 5, 6}\n"
     ]
    }
   ],
   "source": [
    "# 5. Create two sets and print the symmetric difference between them.\n",
    "\n",
    "set_1 = {1,2,3,4}\n",
    "set_2 = {3,4,5,6}\n",
    "\n",
    "\n",
    "sym_dif = set_1 ^ set_2\n",
    "print(sym_dif)"
   ]
  },
  {
   "cell_type": "code",
   "execution_count": 186,
   "id": "91a80ed5",
   "metadata": {},
   "outputs": [
    {
     "name": "stdout",
     "output_type": "stream",
     "text": [
      "dict_keys(['Shubham', 'Rajesh', 'Sam'])\n"
     ]
    }
   ],
   "source": [
    "# 6. Create a dictionary of 3 students with names as keys and marks as values. Print only the keys.\n",
    "students = {'Shubham': 98, 'Rajesh':100, 'Sam':39}\n",
    "print(students.keys())"
   ]
  },
  {
   "cell_type": "code",
   "execution_count": 187,
   "id": "4a277d6a",
   "metadata": {},
   "outputs": [
    {
     "data": {
      "text/plain": [
       "{'a': 1, 'b': 5, 'c': 3}"
      ]
     },
     "execution_count": 187,
     "metadata": {},
     "output_type": "execute_result"
    }
   ],
   "source": [
    "# 7. Given {\"a\": 1, \"b\": 2, \"c\": 3), update the value of \"b\" to 5.\n",
    "dict_1 = {\"a\": 1, \"b\": 2, \"c\": 3}\n",
    "dict_1[\"b\"] = 5\n",
    "dict_1"
   ]
  },
  {
   "cell_type": "code",
   "execution_count": 188,
   "id": "fcea1815",
   "metadata": {},
   "outputs": [
    {
     "name": "stdout",
     "output_type": "stream",
     "text": [
      "{'h': 1, 'e': 1, 'l': 3, 'o': 2, ' ': 1, 'w': 1, 'r': 1, 'd': 1}\n"
     ]
    }
   ],
   "source": [
    "# 8. Write a program to count character frequency in the string 'hello world' and store it in a dictionary.\n",
    "string = 'hello world'\n",
    "freq = {}\n",
    "for i in string:\n",
    "    freq[i] = freq.get(i, 0) + 1\n",
    "print(freq)"
   ]
  },
  {
   "cell_type": "code",
   "execution_count": 189,
   "id": "9af93ecc",
   "metadata": {},
   "outputs": [
    {
     "data": {
      "text/plain": [
       "{'x': 10, 'y': 30, 'z': 40}"
      ]
     },
     "execution_count": 189,
     "metadata": {},
     "output_type": "execute_result"
    }
   ],
   "source": [
    "# 9. Merge two dictionaries: (\"x\": 10, \"y\": 20) and (\"y\": 30, \"z\": 40).\n",
    "\n",
    "dict_1 = {\"x\":10, \"y\": 20}\n",
    "dict_2 = {\"y\":30, \"z\":40}\n",
    "dict_1.update(dict_2)\n",
    " \n",
    "dict_1"
   ]
  },
  {
   "cell_type": "code",
   "execution_count": 190,
   "id": "3fad9a1c",
   "metadata": {},
   "outputs": [
    {
     "name": "stdout",
     "output_type": "stream",
     "text": [
      "{'a': 1, 'b': 2, 'c': None}\n"
     ]
    }
   ],
   "source": [
    "# 10. Check if a given key exists in a dictionary. If not, add the key with a default value.\n",
    "\n",
    "dict1 = {'a':1, 'b':2}\n",
    "key = 'c'\n",
    "if key not in dict1:\n",
    "    dict1[key] = None\n",
    "print(dict1)"
   ]
  },
  {
   "cell_type": "code",
   "execution_count": 191,
   "id": "ed956e08",
   "metadata": {},
   "outputs": [
    {
     "data": {
      "text/plain": [
       "'Hello Python!'"
      ]
     },
     "execution_count": 191,
     "metadata": {},
     "output_type": "execute_result"
    }
   ],
   "source": [
    "# 11. Write a function greet() that prints 'Hello, Python!'.\n",
    "\n",
    "def greet():\n",
    "    return 'Hello Python!'\n",
    "greet()"
   ]
  },
  {
   "cell_type": "code",
   "execution_count": 192,
   "id": "413a7731",
   "metadata": {},
   "outputs": [
    {
     "data": {
      "text/plain": [
       "4"
      ]
     },
     "execution_count": 192,
     "metadata": {},
     "output_type": "execute_result"
    }
   ],
   "source": [
    "# 12. Create a function square(n) that returns the square of a number.\n",
    "\n",
    "def square(n):\n",
    "    return n * n\n",
    "square(2)"
   ]
  },
  {
   "cell_type": "code",
   "execution_count": 193,
   "id": "ffe0ad20",
   "metadata": {},
   "outputs": [
    {
     "data": {
      "text/plain": [
       "5137840"
      ]
     },
     "execution_count": 193,
     "metadata": {},
     "output_type": "execute_result"
    }
   ],
   "source": [
    "# 13. Write a function to calculate the sum of all elements in a list.\n",
    "\n",
    "def add_list(li):\n",
    "    return sum(li)\n",
    "\n",
    "add_list([123,13412,5124151,154])"
   ]
  },
  {
   "cell_type": "code",
   "execution_count": 194,
   "id": "5785dead",
   "metadata": {},
   "outputs": [
    {
     "name": "stdout",
     "output_type": "stream",
     "text": [
      "Welcome, shubham\n"
     ]
    }
   ],
   "source": [
    "# 14. Create a function with a default parameter: def welcome (name=\"Guest\"). Print  \"Welcome, <name>!\".\n",
    "\n",
    "def welcome(name=\"Guest\"):\n",
    "    print(f'Welcome, {name}')\n",
    "\n",
    "welcome('shubham')"
   ]
  },
  {
   "cell_type": "code",
   "execution_count": 195,
   "id": "8ca6dd0e",
   "metadata": {},
   "outputs": [
    {
     "data": {
      "text/plain": [
       "False"
      ]
     },
     "execution_count": 195,
     "metadata": {},
     "output_type": "execute_result"
    }
   ],
   "source": [
    "# 15.  Write a function is_even (num) that returns True if a number is even, else False\n",
    "\n",
    "def is_even(num):\n",
    "    if num%2 == 0:\n",
    "        return True\n",
    "    else:\n",
    "        return False\n",
    "    \n",
    "is_even(13)"
   ]
  },
  {
   "cell_type": "code",
   "execution_count": 196,
   "id": "fc5bf1fe",
   "metadata": {},
   "outputs": [
    {
     "data": {
      "text/plain": [
       "479001600"
      ]
     },
     "execution_count": 196,
     "metadata": {},
     "output_type": "execute_result"
    }
   ],
   "source": [
    "#  16. Create a function to calculate the factorial of a number using recursion.\n",
    "\n",
    "def fact(x):\n",
    "    if x == 0:\n",
    "        return 1\n",
    "    return x * fact(x - 1)\n",
    "\n",
    "fact(12) "
   ]
  },
  {
   "cell_type": "code",
   "execution_count": 197,
   "id": "03efa8d5",
   "metadata": {},
   "outputs": [
    {
     "name": "stdout",
     "output_type": "stream",
     "text": [
      "51\n"
     ]
    }
   ],
   "source": [
    "# 17. Write a function max_of _three (a, b, c) that returns the largest of three numbers.\n",
    "def max_of_three(a,b,c):\n",
    "    return max(a,b,c)\n",
    "print(max_of_three(12,41,51))\n"
   ]
  },
  {
   "cell_type": "code",
   "execution_count": 198,
   "id": "5e2dd3d0",
   "metadata": {},
   "outputs": [
    {
     "data": {
      "text/plain": [
       "'mahbuhs'"
      ]
     },
     "execution_count": 198,
     "metadata": {},
     "output_type": "execute_result"
    }
   ],
   "source": [
    "# 18. Create a function reverse_string(s) that returns the reversed string.\n",
    "def reverse_string(s)-> str:\n",
    "    return s[::-1]\n",
    "reverse_string('shubham')"
   ]
  },
  {
   "cell_type": "code",
   "execution_count": 199,
   "id": "15e4b356",
   "metadata": {},
   "outputs": [
    {
     "data": {
      "text/plain": [
       "2"
      ]
     },
     "execution_count": 199,
     "metadata": {},
     "output_type": "execute_result"
    }
   ],
   "source": [
    "# 19. Write a function to count the number of vowels in a given string.\n",
    "\n",
    "def count_vowels(s):\n",
    "    vowels = ['a','e','i','o','u']\n",
    "    count = 0\n",
    "    for char in s:\n",
    "        if char in vowels:\n",
    "            count +=1\n",
    "    return count\n",
    "count_vowels('shubham')\n"
   ]
  },
  {
   "cell_type": "code",
   "execution_count": 200,
   "id": "8a990621",
   "metadata": {},
   "outputs": [
    {
     "data": {
      "text/plain": [
       "3477"
      ]
     },
     "execution_count": 200,
     "metadata": {},
     "output_type": "execute_result"
    }
   ],
   "source": [
    "# 20. Create a function that accepts any number of arguments using *args and returns their sum\n",
    "\n",
    "def summing(*args):\n",
    "    return sum(args)\n",
    "summing(123,1,51,51,3251)"
   ]
  },
  {
   "cell_type": "code",
   "execution_count": 201,
   "id": "f04a716c",
   "metadata": {},
   "outputs": [
    {
     "name": "stdout",
     "output_type": "stream",
     "text": [
      "1\n",
      "2\n",
      "3\n",
      "4\n",
      "5\n",
      "6\n",
      "7\n",
      "8\n",
      "9\n",
      "10\n"
     ]
    }
   ],
   "source": [
    "# 21. Print numbers from 1 to 10 using a for loop.\n",
    "\n",
    "for i in range(1,11):\n",
    "    print(i)"
   ]
  },
  {
   "cell_type": "code",
   "execution_count": 202,
   "id": "745b3e6e",
   "metadata": {},
   "outputs": [
    {
     "name": "stdout",
     "output_type": "stream",
     "text": [
      "5 x 1 = 5\n",
      "5 x 2 = 10\n",
      "5 x 3 = 15\n",
      "5 x 4 = 20\n",
      "5 x 5 = 25\n",
      "5 x 6 = 30\n",
      "5 x 7 = 35\n",
      "5 x 8 = 40\n",
      "5 x 9 = 45\n",
      "5 x 10 = 50\n"
     ]
    }
   ],
   "source": [
    "# 22. Print the multiplication table of 5 using a loop.\n",
    "for i in range(1,11):\n",
    "    print(f'5 x {i} = {5 * i}')"
   ]
  },
  {
   "cell_type": "code",
   "execution_count": 203,
   "id": "3865bdf2",
   "metadata": {},
   "outputs": [
    {
     "name": "stdout",
     "output_type": "stream",
     "text": [
      "10\n",
      "20\n",
      "30\n",
      "40\n"
     ]
    }
   ],
   "source": [
    "# 23. Given a list [10, 20, 30, 40], print each element using a loop.\n",
    "\n",
    "li = [10,20,30,40]\n",
    "for i in li:\n",
    "    print(i)"
   ]
  },
  {
   "cell_type": "code",
   "execution_count": 204,
   "id": "59b2ef3c",
   "metadata": {},
   "outputs": [
    {
     "data": {
      "text/plain": [
       "5050"
      ]
     },
     "execution_count": 204,
     "metadata": {},
     "output_type": "execute_result"
    }
   ],
   "source": [
    "# 24. Write a program to find the sum of numbers from 1 to 100 using a for loop.\n",
    "\n",
    "def sum100():\n",
    "    s = 0\n",
    "    for i in range(1,101):\n",
    "        s += i\n",
    "    return s\n",
    "\n",
    "sum100()"
   ]
  },
  {
   "cell_type": "code",
   "execution_count": 205,
   "id": "52eb4241",
   "metadata": {},
   "outputs": [
    {
     "name": "stdout",
     "output_type": "stream",
     "text": [
      "[2, 4, 6, 8, 10, 12, 14, 16, 18, 20]\n"
     ]
    }
   ],
   "source": [
    "# 25. Print only even numbers from 1 to 20 using a loop.\n",
    "\n",
    "def even():\n",
    "    s = []\n",
    "    for i in range(1,21):\n",
    "        if i %2 == 0:\n",
    "            s.append(i)\n",
    "    print(s)\n",
    "even()"
   ]
  },
  {
   "cell_type": "code",
   "execution_count": 206,
   "id": "30e44d87",
   "metadata": {},
   "outputs": [
    {
     "name": "stdout",
     "output_type": "stream",
     "text": [
      "p\n",
      "y\n",
      "t\n",
      "h\n",
      "o\n",
      "n\n"
     ]
    }
   ],
   "source": [
    "# 26. Given a string 'python' print each character using a loop.\n",
    "\n",
    "def each_char():\n",
    "    s = 'python'\n",
    "    for i in s:\n",
    "        print(i)\n",
    "    \n",
    "each_char()\n"
   ]
  },
  {
   "cell_type": "code",
   "execution_count": 207,
   "id": "ededdad2",
   "metadata": {},
   "outputs": [
    {
     "name": "stdout",
     "output_type": "stream",
     "text": [
      "479001600\n"
     ]
    }
   ],
   "source": [
    "# 27. Find the factorial of n using a for loop.\n",
    "\n",
    "def fact(n):\n",
    "    result = 1\n",
    "    for i in range(1, n+1):\n",
    "        result *= i\n",
    "    return result\n",
    "print(fact(12))"
   ]
  },
  {
   "cell_type": "code",
   "execution_count": 208,
   "id": "8a658a3c",
   "metadata": {},
   "outputs": [
    {
     "name": "stdout",
     "output_type": "stream",
     "text": [
      "5\n",
      "4\n",
      "3\n",
      "2\n",
      "1\n"
     ]
    }
   ],
   "source": [
    "# 28. Print the reverse of a list [1, 2, 3, 4, 5] using a loop.\n",
    "def fun_li():\n",
    "    li = [1,2,3,4,5]\n",
    "    for i in li[::-1]:\n",
    "        print(i)\n",
    "fun_li()"
   ]
  },
  {
   "cell_type": "code",
   "execution_count": 209,
   "id": "995834db",
   "metadata": {},
   "outputs": [
    {
     "name": "stdout",
     "output_type": "stream",
     "text": [
      "total count of odd nums: 25\n",
      "list of numbers from 1 to 50 are : [1, 3, 5, 7, 9, 11, 13, 15, 17, 19, 21, 23, 25, 27, 29, 31, 33, 35, 37, 39, 41, 43, 45, 47, 49]\n"
     ]
    }
   ],
   "source": [
    "# 29. Count and print the number of odd numbers between 1 and 50.\n",
    "def odd_nums(n):\n",
    "    odds = []\n",
    "    for i in range(1, n+1):\n",
    "        if i%2 ==1: \n",
    "            odds.append(i)\n",
    "    print(f'total count of odd nums: {len(odds)}')\n",
    "    print(f'list of numbers from 1 to {n} are : {odds}')\n",
    "\n",
    "odd_nums(50)"
   ]
  },
  {
   "cell_type": "code",
   "execution_count": 210,
   "id": "9941182d",
   "metadata": {},
   "outputs": [
    {
     "name": "stdout",
     "output_type": "stream",
     "text": [
      "[1, 2, 3, 4]\n"
     ]
    }
   ],
   "source": [
    "# 30. Given a list of integers, print only the positive numbers using a loop.\n",
    "def positive():\n",
    "    li = [-1,-10,-5,0,1,2,3,4]\n",
    "    new_li = []\n",
    "\n",
    "    for i in li:\n",
    "        if i > 0:\n",
    "            new_li.append(i)\n",
    "    print(new_li)\n",
    "positive()"
   ]
  },
  {
   "cell_type": "code",
   "execution_count": 211,
   "id": "43f640cf",
   "metadata": {},
   "outputs": [
    {
     "name": "stdout",
     "output_type": "stream",
     "text": [
      "1\n",
      "2\n",
      "3\n",
      "4\n",
      "5\n",
      "6\n",
      "7\n",
      "8\n",
      "9\n",
      "10\n"
     ]
    }
   ],
   "source": [
    "# 31. Print numbers from 1 to 10 using a while loop.\n",
    "\n",
    "def nums():\n",
    "    i = 1\n",
    "    while i <= 10:\n",
    "        print(i)\n",
    "        i = i + 1\n",
    "nums()\n"
   ]
  },
  {
   "cell_type": "code",
   "execution_count": 212,
   "id": "c7b1bb66",
   "metadata": {},
   "outputs": [
    {
     "name": "stdout",
     "output_type": "stream",
     "text": [
      "Sum of digits 12\n"
     ]
    }
   ],
   "source": [
    "# 32. Calculate the sum of digits of a number using a while loop.\n",
    "def sum_of_digits():\n",
    "    num = int(input(''))\n",
    "    sum_of_digits = 0\n",
    "\n",
    "    while num > 0:\n",
    "        digit = num % 10\n",
    "        sum_of_digits = sum_of_digits + digit\n",
    "        num = num // 10\n",
    "    print('Sum of digits', sum_of_digits)\n",
    "sum_of_digits()"
   ]
  },
  {
   "cell_type": "code",
   "execution_count": 213,
   "id": "9125aced",
   "metadata": {},
   "outputs": [
    {
     "name": "stdout",
     "output_type": "stream",
     "text": [
      "435514141\n"
     ]
    }
   ],
   "source": [
    "# 33. Reverse a number using a while loop.\n",
    "num = int(input())\n",
    "reverse = 0\n",
    "while num > 0:\n",
    "    digit = num % 10\n",
    "    reverse = reverse * 10 + digit\n",
    "    num = num // 10\n",
    "\n",
    "print(reverse)"
   ]
  },
  {
   "cell_type": "code",
   "execution_count": 214,
   "id": "d035cb9e",
   "metadata": {},
   "outputs": [
    {
     "name": "stdout",
     "output_type": "stream",
     "text": [
      "You entered: sfgs\n",
      "You entered: sfeed\n",
      "You entered: sfeed\n"
     ]
    }
   ],
   "source": [
    "# 34. Keep taking user input until they enter \"exit\".\n",
    "user_input = \"\"\n",
    "while user_input.lower() != \"exit\":\n",
    "    user_input = input(\"Enter something (type 'exit' to stop): \")\n",
    "    if user_input.lower() != \"exit\":\n",
    "        print(f'You entered: {user_input}')"
   ]
  },
  {
   "cell_type": "code",
   "execution_count": 215,
   "id": "98c64163",
   "metadata": {},
   "outputs": [
    {
     "name": "stdout",
     "output_type": "stream",
     "text": [
      "123 x 1 = 123\n",
      "123 x 2 = 246\n",
      "123 x 3 = 369\n",
      "123 x 4 = 492\n",
      "123 x 5 = 615\n",
      "123 x 6 = 738\n",
      "123 x 7 = 861\n",
      "123 x 8 = 984\n",
      "123 x 9 = 1107\n",
      "123 x 10 = 1230\n"
     ]
    }
   ],
   "source": [
    "# 35. Print the multiplication table of a given number using a while loop.\n",
    "num = int(input(\"Enter a number: \"))\n",
    "i = 1\n",
    "while i <= 10:\n",
    "    print(f\"{num} x {i} = {num * i}\")\n",
    "    i += 1"
   ]
  },
  {
   "cell_type": "code",
   "execution_count": 216,
   "id": "bc878592",
   "metadata": {},
   "outputs": [
    {
     "name": "stdout",
     "output_type": "stream",
     "text": [
      "2\n",
      "4\n",
      "6\n",
      "8\n",
      "10\n",
      "12\n",
      "14\n",
      "16\n",
      "18\n",
      "20\n"
     ]
    }
   ],
   "source": [
    "# 36. Print the first 10 even numbers using a while loop.\n",
    "count = 0\n",
    "num = 2\n",
    "while count < 10:\n",
    "    print(num)\n",
    "    num += 2\n",
    "    count += 1"
   ]
  },
  {
   "cell_type": "code",
   "execution_count": 217,
   "id": "0fbf6ede",
   "metadata": {},
   "outputs": [
    {
     "name": "stdout",
     "output_type": "stream",
     "text": [
      "Factorial of 123 is 12146304367025329675766243241881295855454217088483382315328918161829235892362167668831156960612640202170735835221294047782591091570411651472186029519906261646730733907419814952960000000000000000000000000000\n"
     ]
    }
   ],
   "source": [
    "# 37. Find the factorial of a number using a while loop.\n",
    "num = int(input(\"Enter a number: \"))\n",
    "factorial = 1\n",
    "i = 1\n",
    "while i <= num:\n",
    "    factorial *= i\n",
    "    i += 1\n",
    "print(f\"Factorial of {num} is {factorial}\")"
   ]
  },
  {
   "cell_type": "code",
   "execution_count": 218,
   "id": "1dfeaf5a",
   "metadata": {},
   "outputs": [
    {
     "name": "stdout",
     "output_type": "stream",
     "text": [
      "Number of digits: 6\n"
     ]
    }
   ],
   "source": [
    "# 38. Count the number of digits in a number using a while loop.\n",
    "num = int(input(\"Enter a number: \"))\n",
    "count = 0\n",
    "if num == 0:\n",
    "    count = 1\n",
    "else:\n",
    "    while num > 0:\n",
    "        num = num // 10\n",
    "        count += 1\n",
    "print(f\"Number of digits: {count}\")"
   ]
  },
  {
   "cell_type": "code",
   "execution_count": 219,
   "id": "6effd409",
   "metadata": {},
   "outputs": [
    {
     "name": "stdout",
     "output_type": "stream",
     "text": [
      "0\n",
      "1\n",
      "1\n",
      "2\n",
      "3\n",
      "5\n",
      "8\n",
      "13\n",
      "21\n",
      "34\n",
      "55\n",
      "89\n",
      "144\n",
      "233\n"
     ]
    }
   ],
   "source": [
    "# 39. Print the Fibonacci sequence up to n terms using a while loop.\n",
    "n = int(input(\"Enter number of terms: \"))\n",
    "a, b = 0, 1\n",
    "count = 0\n",
    "while count < n:\n",
    "    print(a)\n",
    "    a, b = b, a + b\n",
    "    count += 1"
   ]
  },
  {
   "cell_type": "code",
   "execution_count": 220,
   "id": "0b20893b",
   "metadata": {},
   "outputs": [
    {
     "name": "stdout",
     "output_type": "stream",
     "text": [
      "Incorrect password. Try again.\n",
      "Access granted!\n",
      "Access granted!\n"
     ]
    }
   ],
   "source": [
    "# 40. Keep asking for a password until the user enters \"python123\".\n",
    "password = \"\"\n",
    "while password != \"python123\":\n",
    "    password = input(\"Enter password: \")\n",
    "    if password != \"python123\":\n",
    "        print(\"Incorrect password. Try again.\")\n",
    "print(\"Access granted!\")"
   ]
  },
  {
   "cell_type": "code",
   "execution_count": 221,
   "id": "c1b76395",
   "metadata": {},
   "outputs": [
    {
     "name": "stdout",
     "output_type": "stream",
     "text": [
      "23 is positive.\n"
     ]
    }
   ],
   "source": [
    "# 41. Check if a given number is positive, negative, or zero.\n",
    "num = int(input(\"Enter a number: \"))\n",
    "if num > 0:\n",
    "    print(f\"{num} is positive.\")\n",
    "elif num < 0:\n",
    "    print(f\"{num} is negative.\")\n",
    "else:\n",
    "    print(f\"{num} is zero.\")"
   ]
  },
  {
   "cell_type": "code",
   "execution_count": 222,
   "id": "31179394",
   "metadata": {},
   "outputs": [
    {
     "name": "stdout",
     "output_type": "stream",
     "text": [
      "2009 is not a leap year.\n"
     ]
    }
   ],
   "source": [
    "# 42. Input a year and check if it’s a leap year.\n",
    "year = int(input(\"Enter a year: \"))\n",
    "if (year % 4 == 0 and year % 100 != 0) or (year % 400 == 0):\n",
    "    print(f\"{year} is a leap year.\")\n",
    "else:\n",
    "    print(f\"{year} is not a leap year.\")"
   ]
  },
  {
   "cell_type": "code",
   "execution_count": 223,
   "id": "4a916b00",
   "metadata": {},
   "outputs": [
    {
     "name": "stdout",
     "output_type": "stream",
     "text": [
      "r is a consonant.\n"
     ]
    }
   ],
   "source": [
    "# 43. Input a character and check if it’s a vowel or consonant.\n",
    "char = input(\"Enter a character: \").lower()\n",
    "if len(char) == 1 and char.isalpha():\n",
    "    if char in ['a', 'e', 'i', 'o', 'u']:\n",
    "        print(f\"{char} is a vowel.\")\n",
    "    else:\n",
    "        print(f\"{char} is a consonant.\")\n",
    "else:\n",
    "    print(\"Please enter a single alphabetic character.\")"
   ]
  },
  {
   "cell_type": "code",
   "execution_count": 224,
   "id": "37de1cf1",
   "metadata": {},
   "outputs": [
    {
     "name": "stdout",
     "output_type": "stream",
     "text": [
      "321 is not divisible by both 3 and 5.\n"
     ]
    }
   ],
   "source": [
    "# 44. Check if a number is divisible by both 3 and 5.\n",
    "num = int(input(\"Enter a number: \"))\n",
    "if num % 3 == 0 and num % 5 == 0:\n",
    "    print(f\"{num} is divisible by both 3 and 5.\")\n",
    "else:\n",
    "    print(f\"{num} is not divisible by both 3 and 5.\")"
   ]
  },
  {
   "cell_type": "code",
   "execution_count": 225,
   "id": "9f8cd3fe",
   "metadata": {},
   "outputs": [
    {
     "name": "stdout",
     "output_type": "stream",
     "text": [
      "You are eligible to vote.\n"
     ]
    }
   ],
   "source": [
    "# 45. Input age and print whether the person is eligible to vote (18 or above).\n",
    "age = int(input(\"Enter your age: \"))\n",
    "if age >= 18:\n",
    "    print(\"You are eligible to vote.\")\n",
    "else:\n",
    "    print(\"You are not eligible to vote.\")"
   ]
  },
  {
   "cell_type": "code",
   "execution_count": 226,
   "id": "f02d500f",
   "metadata": {},
   "outputs": [
    {
     "name": "stdout",
     "output_type": "stream",
     "text": [
      "The largest number is 23.\n"
     ]
    }
   ],
   "source": [
    "# 46. Given three numbers, print the largest one.\n",
    "a = int(input(\"Enter first number: \"))\n",
    "b = int(input(\"Enter second number: \"))\n",
    "c = int(input(\"Enter third number: \"))\n",
    "largest = max(a, b, c)\n",
    "print(f\"The largest number is {largest}.\")"
   ]
  },
  {
   "cell_type": "code",
   "execution_count": 227,
   "id": "a7d38185",
   "metadata": {},
   "outputs": [
    {
     "name": "stdout",
     "output_type": "stream",
     "text": [
      "Grade: A\n"
     ]
    }
   ],
   "source": [
    "# 47. Input a mark and print the grade:\n",
    "mark = int(input(\"Enter your mark: \"))\n",
    "if mark >= 90:\n",
    "    print(\"Grade: A\")\n",
    "elif mark >= 75:\n",
    "    print(\"Grade: B\")\n",
    "elif mark >= 60:\n",
    "    print(\"Grade: C\")\n",
    "else:\n",
    "    print(\"Grade: F\")"
   ]
  },
  {
   "cell_type": "code",
   "execution_count": 228,
   "id": "e823c1d6",
   "metadata": {},
   "outputs": [
    {
     "name": "stdout",
     "output_type": "stream",
     "text": [
      "\"racecar\" is a palindrome.\n"
     ]
    }
   ],
   "source": [
    "# 48. Check if a string is a palindrome.\n",
    "s = input(\"Enter a string: \")\n",
    "if s == s[::-1]:\n",
    "    print(f'\"{s}\" is a palindrome.')\n",
    "else:\n",
    "    print(f'\"{s}\" is not a palindrome.')"
   ]
  },
  {
   "cell_type": "code",
   "execution_count": 229,
   "id": "87fd698a",
   "metadata": {},
   "outputs": [
    {
     "name": "stdout",
     "output_type": "stream",
     "text": [
      "23 is odd.\n"
     ]
    }
   ],
   "source": [
    "# 49. Given a number, check if it is even or odd using conditional statements.\n",
    "num = int(input(\"Enter a number: \"))\n",
    "if num % 2 == 0:\n",
    "    print(f\"{num} is even.\")\n",
    "else:\n",
    "    print(f\"{num} is odd.\")"
   ]
  },
  {
   "cell_type": "code",
   "execution_count": 230,
   "id": "55a84238",
   "metadata": {},
   "outputs": [
    {
     "name": "stdout",
     "output_type": "stream",
     "text": [
      "Sum: 67\n"
     ]
    }
   ],
   "source": [
    "# 50. Take two numbers and a choice from the user. If the choice is 'add', print sum; if 'sub', print difference; else print 'Invalid choice'.\n",
    "num1 = int(input('Enter first number: '))\n",
    "num2 = int(input('Enter second number: '))\n",
    "choice = input('Enter choice (add/sub): ').lower()\n",
    "if choice == 'add':\n",
    "    print(f'Sum: {num1 + num2}')\n",
    "elif choice == 'sub':\n",
    "    print(f'Difference: {num1 - num2}')\n",
    "else:\n",
    "    print('Invalid choice')"
   ]
  },
  {
   "cell_type": "code",
   "execution_count": 231,
   "id": "73e2d40c",
   "metadata": {},
   "outputs": [
    {
     "name": "stdout",
     "output_type": "stream",
     "text": [
      "Sum: 268\n",
      "Difference: -22\n",
      "Product: 17835\n",
      "Quotient: 0\n",
      "Remainder: 123\n"
     ]
    }
   ],
   "source": [
    "# 51. Input two numbers and print their sum, difference, product, quotient, and remainder.\n",
    "num1 = int(input('Enter first number: '))\n",
    "num2 = int(input('Enter second number: '))\n",
    "print(f'Sum: {num1 + num2}')\n",
    "print(f'Difference: {num1 - num2}')\n",
    "print(f'Product: {num1 * num2}')\n",
    "if num2 != 0:\n",
    "    print(f'Quotient: {num1 // num2}')\n",
    "    print(f'Remainder: {num1 % num2}')\n",
    "else:\n",
    "    print('Cannot divide by zero.')"
   ]
  },
  {
   "cell_type": "code",
   "execution_count": 232,
   "id": "e4ff41c2",
   "metadata": {},
   "outputs": [
    {
     "name": "stdout",
     "output_type": "stream",
     "text": [
      "2 ** 5 = 32\n"
     ]
    }
   ],
   "source": [
    "# 52. Given a = 2, b = 5, print a ** b.\n",
    "a = 2\n",
    "b = 5\n",
    "print(f'{a} ** {b} = {a ** b}')"
   ]
  },
  {
   "cell_type": "code",
   "execution_count": 233,
   "id": "143e08bb",
   "metadata": {},
   "outputs": [
    {
     "name": "stdout",
     "output_type": "stream",
     "text": [
      "Area of the circle with radius 10.0 is 314.0\n"
     ]
    }
   ],
   "source": [
    "# 53. Find the area of a circle given its radius (pi = 3.14).\n",
    "radius = float(input('Enter the radius of the circle: '))\n",
    "pi = 3.14\n",
    "area = pi * radius ** 2\n",
    "print(f'Area of the circle with radius {radius} is {area}')"
   ]
  },
  {
   "cell_type": "code",
   "execution_count": 234,
   "id": "4a61be29",
   "metadata": {},
   "outputs": [
    {
     "name": "stdout",
     "output_type": "stream",
     "text": [
      "Average marks: 366.4\n"
     ]
    }
   ],
   "source": [
    "# 54. Input marks of 5 subjects and print their average.\n",
    "marks = []\n",
    "for i in range(1, 6):\n",
    "    mark = float(input(f'Enter marks for subject {i}: '))\n",
    "    marks.append(mark)\n",
    "average = sum(marks) / 5\n",
    "print(f'Average marks: {average}')"
   ]
  },
  {
   "cell_type": "code",
   "execution_count": 235,
   "id": "637a9d49",
   "metadata": {},
   "outputs": [
    {
     "name": "stdout",
     "output_type": "stream",
     "text": [
      "24.0°C is equal to 75.2°F\n"
     ]
    }
   ],
   "source": [
    "# 55. Convert temperature from Celsius to Fahrenheit.\n",
    "celsius = float(input('Enter temperature in Celsius: '))\n",
    "fahrenheit = (celsius * 9/5) + 32\n",
    "print(f'{celsius}°C is equal to {fahrenheit}°F')"
   ]
  },
  {
   "cell_type": "code",
   "execution_count": 236,
   "id": "b9bd479b",
   "metadata": {},
   "outputs": [
    {
     "name": "stdout",
     "output_type": "stream",
     "text": [
      "a & b = 1\n",
      "a | b = 7\n",
      "a ^ b = 6\n"
     ]
    }
   ],
   "source": [
    "# 56. For a = 5 and b = 3, print results of a & b, a | b, and a ^ b.\n",
    "a = 5\n",
    "b = 3\n",
    "print(f'a & b = {a & b}')  # Bitwise AND\n",
    "print(f'a | b = {a | b}')  # Bitwise OR\n",
    "print(f'a ^ b = {a ^ b}')  # Bitwise XOR"
   ]
  },
  {
   "cell_type": "code",
   "execution_count": 237,
   "id": "8bbe6f97",
   "metadata": {},
   "outputs": [
    {
     "name": "stdout",
     "output_type": "stream",
     "text": [
      "8 shifted left by 2 positions is 32\n"
     ]
    }
   ],
   "source": [
    "# 57. Shift bits of x = 8 to the left by 2 positions and print the result.\n",
    "x = 8\n",
    "result = x << 2\n",
    "print(f'{x} shifted left by 2 positions is {result}')"
   ]
  },
  {
   "cell_type": "code",
   "execution_count": 238,
   "id": "f315ea61",
   "metadata": {},
   "outputs": [
    {
     "name": "stdout",
     "output_type": "stream",
     "text": [
      "45 is odd (checked using bitwise operator).\n"
     ]
    }
   ],
   "source": [
    "# 58. Check whether a given number is even using bitwise operators.\n",
    "num = int(input('Enter a number: '))\n",
    "if num & 1 == 0:\n",
    "    print(f'{num} is even (checked using bitwise operator).')\n",
    "else:\n",
    "    print(f'{num} is odd (checked using bitwise operator).')"
   ]
  },
  {
   "cell_type": "code",
   "execution_count": 239,
   "id": "8c05bf1f",
   "metadata": {},
   "outputs": [
    {
     "name": "stdout",
     "output_type": "stream",
     "text": [
      "Before swap: a = 12, b = 19\n",
      "After swap: a = 19, b = 12\n"
     ]
    }
   ],
   "source": [
    "# 59. Swap two numbers using bitwise XOR.\n",
    "a = int(input('Enter first number (a): '))\n",
    "b = int(input('Enter second number (b): '))\n",
    "print(f'Before swap: a = {a}, b = {b}')\n",
    "a = a ^ b\n",
    "b = a ^ b\n",
    "a = a ^ b\n",
    "print(f'After swap: a = {a}, b = {b}')"
   ]
  },
  {
   "cell_type": "code",
   "execution_count": 240,
   "id": "5cadd64d",
   "metadata": {},
   "outputs": [
    {
     "name": "stdout",
     "output_type": "stream",
     "text": [
      "Bitwise NOT of 129 is -130\n",
      "Explanation:\n",
      "~129 flips all bits of the integer. In Python, ~n is equal to -(n+1).\n"
     ]
    }
   ],
   "source": [
    "# 60. Demonstrate bitwise NOT on an integer and explain the output.\n",
    "num = int(input('Enter an integer: '))\n",
    "result = ~num\n",
    "print(f'Bitwise NOT of {num} is {result}')\n",
    "print('Explanation:')\n",
    "print(f'~{num} flips all bits of the integer. In Python, ~n is equal to -(n+1).')"
   ]
  },
  {
   "cell_type": "code",
   "execution_count": 241,
   "id": "4950b083",
   "metadata": {},
   "outputs": [
    {
     "name": "stdout",
     "output_type": "stream",
     "text": [
      "The greater number is 1234\n"
     ]
    }
   ],
   "source": [
    "# 61. Input two numbers and print the greater one using a ternary operator.\n",
    "a = int(input('Enter first number: '))\n",
    "b = int(input('Enter second number: '))\n",
    "greater = a if a > b else b\n",
    "print(f'The greater number is {greater}')"
   ]
  },
  {
   "cell_type": "code",
   "execution_count": 242,
   "id": "683583da",
   "metadata": {},
   "outputs": [
    {
     "name": "stdout",
     "output_type": "stream",
     "text": [
      "even\n"
     ]
    }
   ],
   "source": [
    "# 62. Print \"even\" if a number is divisible by 2, else print \"odd\".\n",
    "num = int(input('Enter a number: '))\n",
    "print('even' if num % 2 == 0 else 'odd')"
   ]
  },
  {
   "cell_type": "code",
   "execution_count": 243,
   "id": "336ad95b",
   "metadata": {},
   "outputs": [
    {
     "name": "stdout",
     "output_type": "stream",
     "text": [
      "Result: Pass\n"
     ]
    }
   ],
   "source": [
    "# 63. Assign \"Pass\" or \"Fail\" to a variable based on marks ≥ 40 using a single line.\n",
    "marks = int(input('Enter marks: '))\n",
    "result = 'Pass' if marks >= 40 else 'Fail'\n",
    "print(f'Result: {result}')"
   ]
  },
  {
   "cell_type": "code",
   "execution_count": 244,
   "id": "68665a4e",
   "metadata": {},
   "outputs": [
    {
     "name": "stdout",
     "output_type": "stream",
     "text": [
      "The smallest number is 231\n"
     ]
    }
   ],
   "source": [
    "# 64. Input three numbers and print the smallest using a ternary operator.\n",
    "a = int(input('Enter first number: '))\n",
    "b = int(input('Enter second number: '))\n",
    "c = int(input('Enter third number: '))\n",
    "smallest = a if a < b and a < c else (b if b < c else c)\n",
    "print(f'The smallest number is {smallest}')"
   ]
  },
  {
   "cell_type": "code",
   "execution_count": null,
   "id": "12593b0d",
   "metadata": {},
   "outputs": [
    {
     "name": "stdout",
     "output_type": "stream",
     "text": [
      "Lowercase\n"
     ]
    }
   ],
   "source": [
    "# 65. Check if a character is uppercase or lowercase in one line.\n",
    "char = input('Enter a character: ') \n",
    "print('Uppercase' if char.isupper() else 'Lowercase' if char.islower() else 'Not a letter')"
   ]
  }
 ],
 "metadata": {
  "kernelspec": {
   "display_name": "base",
   "language": "python",
   "name": "python3"
  },
  "language_info": {
   "codemirror_mode": {
    "name": "ipython",
    "version": 3
   },
   "file_extension": ".py",
   "mimetype": "text/x-python",
   "name": "python",
   "nbconvert_exporter": "python",
   "pygments_lexer": "ipython3",
   "version": "3.12.2"
  }
 },
 "nbformat": 4,
 "nbformat_minor": 5
}
