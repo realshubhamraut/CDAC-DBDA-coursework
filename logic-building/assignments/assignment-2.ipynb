{
 "cells": [
  {
   "cell_type": "code",
   "execution_count": null,
   "id": "5c4c0bc9",
   "metadata": {},
   "outputs": [],
   "source": [
    "# shubham raut"
   ]
  },
  {
   "cell_type": "code",
   "execution_count": null,
   "id": "f5af60a1",
   "metadata": {},
   "outputs": [
    {
     "data": {
      "text/plain": [
       "{1, 2, 4, 5, 6}"
      ]
     },
     "execution_count": 6,
     "metadata": {},
     "output_type": "execute_result"
    }
   ],
   "source": [
    "# 1. Create a set with numbers from 1 to 5. Add the number 6 and remove 3. Print the final set.\n",
    "nums = {1,2,3,4,5}\n",
    "nums.add(6)\n",
    "nums.remove(3)\n",
    "nums"
   ]
  },
  {
   "cell_type": "code",
   "execution_count": null,
   "id": "fa78f126",
   "metadata": {},
   "outputs": [],
   "source": [
    "# 2. Write a program to find the union and intersection of two sets: {1, 2, 3} and {3, 4, 5}.\n",
    "set1 = {1,2,3}\n",
    "set2 = {3,4,5}\n",
    "union = set"
   ]
  }
 ],
 "metadata": {
  "kernelspec": {
   "display_name": "base",
   "language": "python",
   "name": "python3"
  },
  "language_info": {
   "codemirror_mode": {
    "name": "ipython",
    "version": 3
   },
   "file_extension": ".py",
   "mimetype": "text/x-python",
   "name": "python",
   "nbconvert_exporter": "python",
   "pygments_lexer": "ipython3",
   "version": "3.12.2"
  }
 },
 "nbformat": 4,
 "nbformat_minor": 5
}
