{
 "cells": [
  {
   "cell_type": "code",
   "execution_count": null,
   "id": "5c4c0bc9",
   "metadata": {},
   "outputs": [],
   "source": [
    "# shubham raut"
   ]
  },
  {
   "cell_type": "code",
   "execution_count": null,
   "id": "f5af60a1",
   "metadata": {},
   "outputs": [
    {
     "data": {
      "text/plain": [
       "{1, 2, 4, 5, 6}"
      ]
     },
     "execution_count": 6,
     "metadata": {},
     "output_type": "execute_result"
    }
   ],
   "source": [
    "# 1. Create a set with numbers from 1 to 5. Add the number 6 and remove 3. Print the final set.\n",
    "nums = {1,2,3,4,5}\n",
    "nums.add(6)\n",
    "nums.remove(3)\n",
    "nums"
   ]
  },
  {
   "cell_type": "code",
   "execution_count": 1,
   "id": "fa78f126",
   "metadata": {},
   "outputs": [
    {
     "name": "stdout",
     "output_type": "stream",
     "text": [
      "{1, 2, 3, 4, 5}\n"
     ]
    }
   ],
   "source": [
    "# 2. Write a program to find the union and intersection of two sets: {1, 2, 3} and {3, 4, 5}.\n",
    "\n",
    "set1 = {1,2,3}\n",
    "set2 = {3,4,5}\n",
    "union = set1 | set2        \n",
    "print(union)"
   ]
  },
  {
   "cell_type": "code",
   "execution_count": 4,
   "id": "cbf97ec9",
   "metadata": {},
   "outputs": [
    {
     "name": "stdout",
     "output_type": "stream",
     "text": [
      "{3}\n"
     ]
    }
   ],
   "source": [
    "intersection = set1 & set2\n",
    "print(intersection)"
   ]
  },
  {
   "cell_type": "code",
   "execution_count": 7,
   "id": "5b936436",
   "metadata": {},
   "outputs": [
    {
     "data": {
      "text/plain": [
       "{1, 2, 3, 4, 5}"
      ]
     },
     "execution_count": 7,
     "metadata": {},
     "output_type": "execute_result"
    }
   ],
   "source": [
    "# 3. Given a list with duplicates [1, 2, 2, 3, 4, 4, 5], convert it into a set to remove duplicates.\n",
    "\n",
    "li = [1,2,2,3,4,4,5]\n",
    "convert = set(li)\n",
    "convert"
   ]
  },
  {
   "cell_type": "code",
   "execution_count": 10,
   "id": "2eb99d20",
   "metadata": {},
   "outputs": [
    {
     "name": "stdout",
     "output_type": "stream",
     "text": [
      "True\n"
     ]
    }
   ],
   "source": [
    "# 4. Check whether the number 7 exists in the set {1, 3, 5, 7, 9}.\n",
    "\n",
    "my_set = {1,3,5,7,9}\n",
    "if 7 in my_set:\n",
    "    print(True)\n",
    "else:\n",
    "    print(False)\n"
   ]
  },
  {
   "cell_type": "code",
   "execution_count": 13,
   "id": "5400929e",
   "metadata": {},
   "outputs": [
    {
     "name": "stdout",
     "output_type": "stream",
     "text": [
      "{1, 2, 5, 6}\n"
     ]
    }
   ],
   "source": [
    "# 5. Create two sets and print the symmetric difference between them.\n",
    "\n",
    "set_1 = {1,2,3,4}\n",
    "set_2 = {3,4,5,6}\n",
    "\n",
    "\n",
    "sym_dif = set_1 ^ set_2\n",
    "print(sym_dif)"
   ]
  },
  {
   "cell_type": "code",
   "execution_count": 7,
   "id": "91a80ed5",
   "metadata": {},
   "outputs": [
    {
     "name": "stdout",
     "output_type": "stream",
     "text": [
      "dict_keys(['Shubham', 'Rajesh', 'Sam'])\n"
     ]
    }
   ],
   "source": [
    "# 6. Create a dictionary of 3 students with names as keys and marks as values. Print only the keys.\n",
    "students = {'Shubham': 98, 'Rajesh':100, 'Sam':39}\n",
    "print(students.keys())"
   ]
  },
  {
   "cell_type": "code",
   "execution_count": 13,
   "id": "4a277d6a",
   "metadata": {},
   "outputs": [
    {
     "data": {
      "text/plain": [
       "{'a': 1, 'b': 5, 'c': 3}"
      ]
     },
     "execution_count": 13,
     "metadata": {},
     "output_type": "execute_result"
    }
   ],
   "source": [
    "# 7. Given {\"a\": 1, \"b\": 2, \"c\": 3), update the value of \"b\" to 5.\n",
    "dict_1 = {\"a\": 1, \"b\": 2, \"c\": 3}\n",
    "dict_1[\"b\"] = 5\n",
    "dict_1"
   ]
  },
  {
   "cell_type": "code",
   "execution_count": 24,
   "id": "fcea1815",
   "metadata": {},
   "outputs": [
    {
     "name": "stdout",
     "output_type": "stream",
     "text": [
      "{'h': 1, 'e': 1, 'l': 3, 'o': 2, ' ': 1, 'w': 1, 'r': 1, 'd': 1}\n"
     ]
    }
   ],
   "source": [
    "# 8. Write a program to count character frequency in the string 'hello world' and store it in a dictionary.\n",
    "string = 'hello world'\n",
    "freq = {}\n",
    "for i in string:\n",
    "    freq[i] = freq.get(i, 0) + 1\n",
    "print(freq)"
   ]
  },
  {
   "cell_type": "code",
   "execution_count": null,
   "id": "9af93ecc",
   "metadata": {},
   "outputs": [
    {
     "data": {
      "text/plain": [
       "{'x': 10, 'y': 30, 'z': 40}"
      ]
     },
     "execution_count": 32,
     "metadata": {},
     "output_type": "execute_result"
    }
   ],
   "source": [
    "# 9. Merge two dictionaries: (\"x\": 10, \"y\": 20) and (\"y\": 30, \"z\": 40).\n",
    "\n",
    "dict_1 = {\"x\":10, \"y\": 20}\n",
    "dict_2 = {\"y\":30, \"z\":40}\n",
    "dict_1.update(dict_2)\n",
    " \n",
    "dict_1"
   ]
  },
  {
   "cell_type": "code",
   "execution_count": 37,
   "id": "3fad9a1c",
   "metadata": {},
   "outputs": [
    {
     "name": "stdout",
     "output_type": "stream",
     "text": [
      "{'a': 1, 'b': 2, 'c': None}\n"
     ]
    }
   ],
   "source": [
    "# 10. Check if a given key exists in a dictionary. If not, add the key with a default value.\n",
    "\n",
    "dict1 = {'a':1, 'b':2}\n",
    "key = 'c'\n",
    "if key not in dict1:\n",
    "    dict1[key] = None\n",
    "print(dict1)"
   ]
  },
  {
   "cell_type": "code",
   "execution_count": null,
   "id": "ed956e08",
   "metadata": {},
   "outputs": [
    {
     "data": {
      "text/plain": [
       "'hello python'"
      ]
     },
     "execution_count": 38,
     "metadata": {},
     "output_type": "execute_result"
    }
   ],
   "source": [
    "# 11. Write a function greet() that prints 'Hello, Python!'.\n",
    "\n",
    "def greet():\n",
    "    return 'Hello Python!'\n",
    "greet()"
   ]
  },
  {
   "cell_type": "code",
   "execution_count": 39,
   "id": "413a7731",
   "metadata": {},
   "outputs": [
    {
     "data": {
      "text/plain": [
       "4"
      ]
     },
     "execution_count": 39,
     "metadata": {},
     "output_type": "execute_result"
    }
   ],
   "source": [
    "# 12. Create a function square(n) that returns the square of a number.\n",
    "\n",
    "def square(n):\n",
    "    return n * n\n",
    "square(2)"
   ]
  },
  {
   "cell_type": "code",
   "execution_count": 42,
   "id": "ffe0ad20",
   "metadata": {},
   "outputs": [
    {
     "data": {
      "text/plain": [
       "5137840"
      ]
     },
     "execution_count": 42,
     "metadata": {},
     "output_type": "execute_result"
    }
   ],
   "source": [
    "# 13. Write a function to calculate the sum of all elements in a list.\n",
    "\n",
    "def add_list(li):\n",
    "    return sum(li)\n",
    "\n",
    "add_list([123,13412,5124151,154])"
   ]
  },
  {
   "cell_type": "code",
   "execution_count": null,
   "id": "5785dead",
   "metadata": {},
   "outputs": [
    {
     "name": "stdout",
     "output_type": "stream",
     "text": [
      "Welcome, shubham\n"
     ]
    }
   ],
   "source": [
    "# 14. Create a function with a default parameter: def welcome (name=\"Guest\"). Print  \"Welcome, <name>!\".\n",
    "\n",
    "def welcome(name=\"Guest\"):\n",
    "    print(f'Welcome, {name}')\n",
    "\n",
    "welcome('shubham')"
   ]
  },
  {
   "cell_type": "code",
   "execution_count": null,
   "id": "8ca6dd0e",
   "metadata": {},
   "outputs": [
    {
     "data": {
      "text/plain": [
       "False"
      ]
     },
     "execution_count": 48,
     "metadata": {},
     "output_type": "execute_result"
    }
   ],
   "source": [
    "# 15.  Write a function is_even (num) that returns True if a number is even, else False\n",
    "\n",
    "def is_even(num):\n",
    "    if num%2 == 0:\n",
    "        return True\n",
    "    else:\n",
    "        return False\n",
    "    \n",
    "is_even(13)"
   ]
  },
  {
   "cell_type": "code",
   "execution_count": null,
   "id": "fc5bf1fe",
   "metadata": {},
   "outputs": [
    {
     "data": {
      "text/plain": [
       "479001600"
      ]
     },
     "execution_count": 52,
     "metadata": {},
     "output_type": "execute_result"
    }
   ],
   "source": [
    "#  16. Create a function to calculate the factorial of a number using recursion.\n",
    "\n",
    "def fact(x):\n",
    "    if x == 0:\n",
    "        return 1\n",
    "    return x * fact(x - 1)\n",
    "\n",
    "fact(12) "
   ]
  },
  {
   "cell_type": "code",
   "execution_count": 58,
   "id": "03efa8d5",
   "metadata": {},
   "outputs": [
    {
     "name": "stdout",
     "output_type": "stream",
     "text": [
      "51\n"
     ]
    }
   ],
   "source": [
    "# 17. Write a function max_of _three (a, b, c) that returns the largest of three numbers.\n",
    "def max_of_three(a,b,c):\n",
    "    return max(a,b,c)\n",
    "print(max_of_three(12,41,51))\n"
   ]
  },
  {
   "cell_type": "code",
   "execution_count": 60,
   "id": "5e2dd3d0",
   "metadata": {},
   "outputs": [
    {
     "data": {
      "text/plain": [
       "'mahbuhs'"
      ]
     },
     "execution_count": 60,
     "metadata": {},
     "output_type": "execute_result"
    }
   ],
   "source": [
    "# 18. Create a function reverse_string(s) that returns the reversed string.\n",
    "def reverse_string(s)-> str:\n",
    "    return s[::-1]\n",
    "reverse_string('shubham')"
   ]
  },
  {
   "cell_type": "code",
   "execution_count": 67,
   "id": "15e4b356",
   "metadata": {},
   "outputs": [
    {
     "data": {
      "text/plain": [
       "2"
      ]
     },
     "execution_count": 67,
     "metadata": {},
     "output_type": "execute_result"
    }
   ],
   "source": [
    "# 19. Write a function to count the number of vowels in a given string.\n",
    "\n",
    "def count_vowels(s):\n",
    "    vowels = ['a','e','i','o','u']\n",
    "    count = 0\n",
    "    for char in s:\n",
    "        if char in vowels:\n",
    "            count +=1\n",
    "    return count\n",
    "count_vowels('shubham')\n"
   ]
  },
  {
   "cell_type": "code",
   "execution_count": 72,
   "id": "8a990621",
   "metadata": {},
   "outputs": [
    {
     "data": {
      "text/plain": [
       "3477"
      ]
     },
     "execution_count": 72,
     "metadata": {},
     "output_type": "execute_result"
    }
   ],
   "source": [
    "# 20. Create a function that accepts any number of arguments using *args and returns their sum\n",
    "\n",
    "def summing(*args):\n",
    "    return sum(args)\n",
    "summing(123,1,51,51,3251)"
   ]
  },
  {
   "cell_type": "code",
   "execution_count": 73,
   "id": "f04a716c",
   "metadata": {},
   "outputs": [
    {
     "name": "stdout",
     "output_type": "stream",
     "text": [
      "1\n",
      "2\n",
      "3\n",
      "4\n",
      "5\n",
      "6\n",
      "7\n",
      "8\n",
      "9\n",
      "10\n"
     ]
    }
   ],
   "source": [
    "# 21. Print numbers from 1 to 10 using a for loop.\n",
    "\n",
    "for i in range(1,11):\n",
    "    print(i)"
   ]
  },
  {
   "cell_type": "code",
   "execution_count": 75,
   "id": "745b3e6e",
   "metadata": {},
   "outputs": [
    {
     "name": "stdout",
     "output_type": "stream",
     "text": [
      "5 x 1 = 5\n",
      "5 x 2 = 10\n",
      "5 x 3 = 15\n",
      "5 x 4 = 20\n",
      "5 x 5 = 25\n",
      "5 x 6 = 30\n",
      "5 x 7 = 35\n",
      "5 x 8 = 40\n",
      "5 x 9 = 45\n",
      "5 x 10 = 50\n"
     ]
    }
   ],
   "source": [
    "# 22. Print the multiplication table of 5 using a loop.\n",
    "for i in range(1,11):\n",
    "    print(f'5 x {i} = {5 * i}')"
   ]
  },
  {
   "cell_type": "code",
   "execution_count": 77,
   "id": "3865bdf2",
   "metadata": {},
   "outputs": [
    {
     "name": "stdout",
     "output_type": "stream",
     "text": [
      "10\n",
      "20\n",
      "30\n",
      "40\n"
     ]
    }
   ],
   "source": [
    "# 23. Given a list [10, 20, 30, 40], print each element using a loop.\n",
    "\n",
    "li = [10,20,30,40]\n",
    "for i in li:\n",
    "    print(i)"
   ]
  },
  {
   "cell_type": "code",
   "execution_count": null,
   "id": "59b2ef3c",
   "metadata": {},
   "outputs": [
    {
     "data": {
      "text/plain": [
       "5050"
      ]
     },
     "execution_count": 86,
     "metadata": {},
     "output_type": "execute_result"
    }
   ],
   "source": [
    "# 24. Write a program to find the sum of numbers from 1 to 100 using a for loop.\n",
    "\n",
    "def sum100():\n",
    "    s = 0\n",
    "    for i in range(1,101):\n",
    "        s += i\n",
    "    return s\n",
    "\n",
    "sum100()"
   ]
  },
  {
   "cell_type": "code",
   "execution_count": 92,
   "id": "52eb4241",
   "metadata": {},
   "outputs": [
    {
     "name": "stdout",
     "output_type": "stream",
     "text": [
      "[2, 4, 6, 8, 10, 12, 14, 16, 18, 20]\n"
     ]
    }
   ],
   "source": [
    "# 25. Print only even numbers from 1 to 20 using a loop.\n",
    "\n",
    "def even():\n",
    "    s = []\n",
    "    for i in range(1,21):\n",
    "        if i %2 == 0:\n",
    "            s.append(i)\n",
    "    print(s)\n",
    "even()"
   ]
  },
  {
   "cell_type": "code",
   "execution_count": 95,
   "id": "30e44d87",
   "metadata": {},
   "outputs": [
    {
     "name": "stdout",
     "output_type": "stream",
     "text": [
      "p\n",
      "y\n",
      "t\n",
      "h\n",
      "o\n",
      "n\n"
     ]
    }
   ],
   "source": [
    "# 26. Given a string 'python' print each character using a loop.\n",
    "\n",
    "def each_char():\n",
    "    s = 'python'\n",
    "    for i in s:\n",
    "        print(i)\n",
    "    \n",
    "each_char()\n"
   ]
  },
  {
   "cell_type": "code",
   "execution_count": 103,
   "id": "ededdad2",
   "metadata": {},
   "outputs": [
    {
     "name": "stdout",
     "output_type": "stream",
     "text": [
      "479001600\n"
     ]
    }
   ],
   "source": [
    "# 27. Find the factorial of n using a for loop.\n",
    "\n",
    "def fact(n):\n",
    "    result = 1\n",
    "    for i in range(1, n+1):\n",
    "        result *= i\n",
    "    return result\n",
    "print(fact(12))"
   ]
  },
  {
   "cell_type": "code",
   "execution_count": null,
   "id": "8707003f",
   "metadata": {},
   "outputs": [
    {
     "name": "stdout",
     "output_type": "stream",
     "text": [
      "1\n"
     ]
    }
   ],
   "source": []
  },
  {
   "cell_type": "code",
   "execution_count": null,
   "id": "c8694124",
   "metadata": {},
   "outputs": [
    {
     "name": "stdout",
     "output_type": "stream",
     "text": [
      "479001600\n"
     ]
    }
   ],
   "source": [
    "# 28. Print the reverse of a list [1, 2, 3, 4, 5] using a loop.\n"
   ]
  },
  {
   "cell_type": "code",
   "execution_count": null,
   "id": "874b9221",
   "metadata": {},
   "outputs": [],
   "source": [
    "# 27. Find the factorial of n using a for loop.\n",
    "\n",
    "def fact(n):\n",
    "    result = 1\n",
    "    for i in range(1, n+1):\n",
    "        result *= i\n",
    "    return result\n",
    "print(fact(12))"
   ]
  },
  {
   "cell_type": "code",
   "execution_count": null,
   "id": "fda0afc4",
   "metadata": {},
   "outputs": [
    {
     "name": "stdout",
     "output_type": "stream",
     "text": [
      "1\n"
     ]
    }
   ],
   "source": []
  },
  {
   "cell_type": "markdown",
   "id": "4c609f29",
   "metadata": {},
   "source": [
    "### Factorial with a For Loop: Step 1 - Function Definition and Initialization\n",
    "\n",
    "Let's break down the first part of the factorial logic:\n",
    "\n",
    "#### 1. Function Definition\n",
    "```python\n",
    "def fact(n):\n",
    "```\n",
    "- This line defines a function named `fact` that takes one input parameter `n`.\n",
    "- A function is a reusable block of code that performs a specific task.\n",
    "- Here, `n` is the number for which we want to calculate the factorial.\n",
    "\n",
    "#### 2. Initialization of Result\n",
    "```python\n",
    "    result = 1\n",
    "```\n",
    "- We create a variable called `result` and set it to 1.\n",
    "- Why start with 1? Because multiplying by 1 does not change the value, and factorial is a product of numbers.\n",
    "- This variable will hold the running product as we multiply each number from 1 up to `n`.\n",
    "\n",
    "**Summary:**\n",
    "- The function is set up to receive a number `n`.\n",
    "- We prepare a variable `result` to store our answer, starting at 1.\n",
    "\n",
    "Next step: We'll use a loop to multiply all numbers from 1 to `n` and update `result`."
   ]
  },
  {
   "cell_type": "markdown",
   "id": "09c79494",
   "metadata": {},
   "source": [
    "### Line-by-Line Explanation: Factorial with a For Loop\n",
    "\n",
    "Let's explain each line of the code:\n",
    "\n",
    "```python\n",
    "def fact(n):\n",
    "    result = 1\n",
    "    for i in range(1, n+1):\n",
    "        result *= i\n",
    "    return result\n",
    "print(fact(12))\n",
    "```\n",
    "\n",
    "**1. `def fact(n):`**\n",
    "- This defines a function named `fact` that takes one argument `n`.\n",
    "- The function will calculate the factorial of `n`.\n",
    "\n",
    "**2. `result = 1`**\n",
    "- Creates a variable called `result` and sets it to 1.\n",
    "- This variable will store the running product as we multiply numbers.\n",
    "- We start with 1 because multiplying by 1 does not change the value.\n",
    "\n",
    "**3. `for i in range(1, n+1):`**\n",
    "- Starts a loop that goes from 1 up to and including `n`.\n",
    "- `range(1, n+1)` means the loop runs for i = 1, 2, ..., n.\n",
    "- Each time the loop runs, `i` takes the next value in the sequence.\n",
    "\n",
    "**4. `result *= i`**\n",
    "- This is a shortcut for `result = result * i`.\n",
    "- Multiplies the current value of `result` by `i` and updates `result`.\n",
    "- This repeats for every value of `i` in the loop.\n",
    "\n",
    "**5. `return result`**\n",
    "- After the loop finishes, returns the final value of `result`.\n",
    "- This is the factorial of `n`.\n",
    "\n",
    "**6. `print(fact(12))`**\n",
    "- Calls the function with `n = 12` and prints the result.\n",
    "- The output will be the factorial of 12.\n",
    "\n",
    "---\n",
    "If you want more details about how the loop works for each step, let me know!"
   ]
  }
 ],
 "metadata": {
  "kernelspec": {
   "display_name": "base",
   "language": "python",
   "name": "python3"
  },
  "language_info": {
   "codemirror_mode": {
    "name": "ipython",
    "version": 3
   },
   "file_extension": ".py",
   "mimetype": "text/x-python",
   "name": "python",
   "nbconvert_exporter": "python",
   "pygments_lexer": "ipython3",
   "version": "3.12.2"
  }
 },
 "nbformat": 4,
 "nbformat_minor": 5
}
