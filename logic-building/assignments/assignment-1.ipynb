{
 "cells": [
  {
   "cell_type": "code",
   "execution_count": 1,
   "id": "fb39be52",
   "metadata": {},
   "outputs": [],
   "source": [
    "# 1. Create a string variable named my_string and assign it the value 'qwertyuiopasdfghjklasdfghjkzxcvbnm '.\n",
    "my_string = \"qwertyuiopasdfghjklasdfghjkzxcvbnm \""
   ]
  },
  {
   "cell_type": "code",
   "execution_count": 2,
   "id": "6ed8e21a",
   "metadata": {},
   "outputs": [
    {
     "name": "stdout",
     "output_type": "stream",
     "text": [
      "e\n"
     ]
    }
   ],
   "source": [
    "# 2. Print the third character of my_string using indexing.\n",
    "print(my_string[2:3])"
   ]
  },
  {
   "cell_type": "code",
   "execution_count": 3,
   "id": "d88a60c8",
   "metadata": {},
   "outputs": [
    {
     "name": "stdout",
     "output_type": "stream",
     "text": [
      " \n"
     ]
    }
   ],
   "source": [
    "# 3. Print the last character of my_string using indexing.\n",
    "print(my_string[-1])"
   ]
  },
  {
   "cell_type": "code",
   "execution_count": 4,
   "id": "212dccb3",
   "metadata": {},
   "outputs": [
    {
     "name": "stdout",
     "output_type": "stream",
     "text": [
      "qwer\n"
     ]
    }
   ],
   "source": [
    "# 4. Print the first five characters of my_string using slicing.\n",
    "print(my_string[:4])"
   ]
  },
  {
   "cell_type": "code",
   "execution_count": 5,
   "id": "7735e656",
   "metadata": {},
   "outputs": [
    {
     "name": "stdout",
     "output_type": "stream",
     "text": [
      "vbnm \n"
     ]
    }
   ],
   "source": [
    "# 5. Print the last five characters of my_string using slicing.\n",
    "print(my_string[-5:])"
   ]
  },
  {
   "cell_type": "code",
   "execution_count": 6,
   "id": "c019291b",
   "metadata": {},
   "outputs": [
    {
     "name": "stdout",
     "output_type": "stream",
     "text": [
      "qetuoadgjlsfhkxvn \n"
     ]
    }
   ],
   "source": [
    "# 6. Print every other character of my_string using slicing.\n",
    "print(my_string[::2])"
   ]
  },
  {
   "cell_type": "code",
   "execution_count": 7,
   "id": "26b7864b",
   "metadata": {},
   "outputs": [
    {
     "name": "stdout",
     "output_type": "stream",
     "text": [
      " mnbvcxzkjhgfdsalkjhgfdsapoiuytrewq\n"
     ]
    }
   ],
   "source": [
    "# 7. Print my_string in reverse using slicing.\n",
    "print(my_string[::-1])"
   ]
  },
  {
   "cell_type": "code",
   "execution_count": 8,
   "id": "464783c9",
   "metadata": {},
   "outputs": [
    {
     "name": "stdout",
     "output_type": "stream",
     "text": [
      "qw\n"
     ]
    }
   ],
   "source": [
    "# 8. Print the first two characters of my_string using slicing.\n",
    "print(my_string[:2])"
   ]
  },
  {
   "cell_type": "code",
   "execution_count": 9,
   "id": "5304a0f9",
   "metadata": {},
   "outputs": [
    {
     "name": "stdout",
     "output_type": "stream",
     "text": [
      "uiopasd\n"
     ]
    }
   ],
   "source": [
    "# 9. Print the characters of my_string from index 7 to index 12 (inclusive) using\n",
    "print(my_string[6:13])"
   ]
  },
  {
   "cell_type": "code",
   "execution_count": 10,
   "id": "acc5f031",
   "metadata": {},
   "outputs": [
    {
     "name": "stdout",
     "output_type": "stream",
     "text": [
      "nm \n"
     ]
    }
   ],
   "source": [
    "# 10. Print the last three characters of my_string using slicing.\n",
    "print(my_string[-3:])"
   ]
  },
  {
   "cell_type": "code",
   "execution_count": 11,
   "id": "4133ed34",
   "metadata": {},
   "outputs": [
    {
     "name": "stdout",
     "output_type": "stream",
     "text": [
      " mnbvcxzkjhgfdsalkjhgfdsapoiuytrewq\n"
     ]
    }
   ],
   "source": [
    "# 11. Print the characters of my_string in reverse order using slicing.\n",
    "print(my_string[::-1])"
   ]
  },
  {
   "cell_type": "code",
   "execution_count": 12,
   "id": "4277d942",
   "metadata": {},
   "outputs": [
    {
     "name": "stdout",
     "output_type": "stream",
     "text": [
      "wtiafjafjxb \n"
     ]
    }
   ],
   "source": [
    "# 12. Print every third character of my_string starting from the second character using slicing.\n",
    "print(my_string[1::3])"
   ]
  },
  {
   "cell_type": "code",
   "execution_count": 13,
   "id": "f5513deb",
   "metadata": {},
   "outputs": [
    {
     "data": {
      "text/plain": [
       "'learning is funqwertyuiopasdfghjklasdfghjkzxcvbnm '"
      ]
     },
     "execution_count": 13,
     "metadata": {},
     "output_type": "execute_result"
    }
   ],
   "source": [
    "# 13. Create a new string variable named new_string and assign it the value \"learning is fun\".\n",
    "# Concatenate my_string and new_string using the + operator and print the resulting string.\n",
    "new_string = 'learning is fun'\n",
    "\n",
    "comp_string = new_string + my_string\n",
    "comp_string"
   ]
  },
  {
   "cell_type": "code",
   "execution_count": 14,
   "id": "1d40de92",
   "metadata": {},
   "outputs": [],
   "source": [
    "# 14. Create a string variable named my_string and assign it the value \"Python is easy to learn!.\n",
    "# a. Print the length of my_string.\n",
    "# b. Convert my_string to uppercase and print it.\n",
    "# c. Replace the word 'easy' in my_string with the word 'powerful' and print the resulting string."
   ]
  },
  {
   "cell_type": "code",
   "execution_count": 15,
   "id": "500b97f2",
   "metadata": {},
   "outputs": [
    {
     "name": "stdout",
     "output_type": "stream",
     "text": [
      "24\n"
     ]
    }
   ],
   "source": [
    "my_string = \"Python is easy to learn!\"\n",
    "print(len(my_string))"
   ]
  },
  {
   "cell_type": "code",
   "execution_count": 16,
   "id": "b024f4f3",
   "metadata": {},
   "outputs": [
    {
     "name": "stdout",
     "output_type": "stream",
     "text": [
      "PYTHON IS EASY TO LEARN!\n"
     ]
    }
   ],
   "source": [
    "print(my_string.upper())"
   ]
  },
  {
   "cell_type": "code",
   "execution_count": 17,
   "id": "7b487bd0",
   "metadata": {},
   "outputs": [
    {
     "name": "stdout",
     "output_type": "stream",
     "text": [
      "Python is powerful to learn!\n"
     ]
    }
   ],
   "source": [
    "print(my_string.replace('easy', 'powerful'))"
   ]
  },
  {
   "cell_type": "code",
   "execution_count": 18,
   "id": "dd9f53a7",
   "metadata": {},
   "outputs": [],
   "source": [
    "# 15. Create a string variable named email and assign it the value jane.doe@example.com.\n",
    "# a. Print the username (i.e., jane.doe) by slicing the string.\n",
    "# b. Print the domain (i.e., example.com) by slicing the string.\n",
    "# c. Replace the domain with mycompany.com  and print the resulting email address.\n",
    "email = 'john.doe@example.com'"
   ]
  },
  {
   "cell_type": "code",
   "execution_count": 19,
   "id": "1e7252d0",
   "metadata": {},
   "outputs": [],
   "source": [
    "username = email.split('@')[0]"
   ]
  },
  {
   "cell_type": "code",
   "execution_count": 20,
   "id": "30cb9513",
   "metadata": {},
   "outputs": [
    {
     "data": {
      "text/plain": [
       "'john.doe'"
      ]
     },
     "execution_count": 20,
     "metadata": {},
     "output_type": "execute_result"
    }
   ],
   "source": [
    "username "
   ]
  },
  {
   "cell_type": "code",
   "execution_count": 21,
   "id": "5e73c680",
   "metadata": {},
   "outputs": [],
   "source": [
    "# 16. Create a string variable named my_string and assign it the value 'Python is fun'.\n",
    "# a. Check if the word is 'is' in my_string and print the result.\n",
    "# b. Check if the word 'Java' is not in my_string and print the result.\n",
    "# c. Split my_string into a list of words and print the result."
   ]
  },
  {
   "cell_type": "code",
   "execution_count": 22,
   "id": "17b6cbc7",
   "metadata": {},
   "outputs": [],
   "source": [
    "my_string = 'Python is fun'"
   ]
  },
  {
   "cell_type": "code",
   "execution_count": 23,
   "id": "3ff6eba4",
   "metadata": {},
   "outputs": [
    {
     "name": "stdout",
     "output_type": "stream",
     "text": [
      "True\n"
     ]
    }
   ],
   "source": [
    "print('is' in my_string)"
   ]
  },
  {
   "cell_type": "code",
   "execution_count": 24,
   "id": "649e57e4",
   "metadata": {},
   "outputs": [
    {
     "name": "stdout",
     "output_type": "stream",
     "text": [
      "False\n"
     ]
    }
   ],
   "source": [
    "print('Java' in my_string)"
   ]
  },
  {
   "cell_type": "code",
   "execution_count": 25,
   "id": "c5e3fb33",
   "metadata": {},
   "outputs": [
    {
     "name": "stdout",
     "output_type": "stream",
     "text": [
      "['Python', 'is', 'fun']\n"
     ]
    }
   ],
   "source": [
    "print(my_string.split(' '))"
   ]
  },
  {
   "cell_type": "code",
   "execution_count": 26,
   "id": "433bcd2a",
   "metadata": {},
   "outputs": [],
   "source": [
    "# 17. Create a string variable named my_string and assign it the value 'Programming is fun!'.\n",
    "# a. Use string interpolation to replace 'fun' with 'awesome' and print the resulting string.\n",
    "# b. Use the split method to split my_string into a list of words and print the result.\n",
    "# c. Use the join method to concatenate the list of words into a single string using a space as a separator and print the resulting string.\n",
    "\n",
    "my_string = 'Programming is fun!'"
   ]
  },
  {
   "cell_type": "code",
   "execution_count": 27,
   "id": "77331d93",
   "metadata": {},
   "outputs": [
    {
     "name": "stdout",
     "output_type": "stream",
     "text": [
      "Programming is awesome!\n"
     ]
    }
   ],
   "source": [
    "print(f\"{my_string.replace('fun', 'awesome')}\")"
   ]
  },
  {
   "cell_type": "code",
   "execution_count": 28,
   "id": "6b2c20d7",
   "metadata": {},
   "outputs": [
    {
     "data": {
      "text/plain": [
       "['Programming', 'is', 'fun!']"
      ]
     },
     "execution_count": 28,
     "metadata": {},
     "output_type": "execute_result"
    }
   ],
   "source": [
    "splitted = my_string.split(' ')\n",
    "splitted"
   ]
  },
  {
   "cell_type": "code",
   "execution_count": 29,
   "id": "0ba08a2f",
   "metadata": {},
   "outputs": [
    {
     "name": "stdout",
     "output_type": "stream",
     "text": [
      "Programming is fun!\n"
     ]
    }
   ],
   "source": [
    "print(' '.join(splitted))"
   ]
  },
  {
   "cell_type": "code",
   "execution_count": 30,
   "id": "863bf05a",
   "metadata": {},
   "outputs": [],
   "source": [
    "# 18. Create a string variable named my_string and assign it the value \"This is a test sentence\".\n",
    "# Use the count method to count the number of occurrences of the letter 'e'  in my_string and print the result.\n",
    "# Use the find method to find the index of the first occurrence of the  word 'test' in my_string and print the result.\n",
    "# Use the replace method to replace the word 'test'  with the word 'example' in my_string and print the resulting string.\n",
    "\n",
    "my_string = 'This is a test sentence'"
   ]
  },
  {
   "cell_type": "code",
   "execution_count": 31,
   "id": "0c143ee3",
   "metadata": {},
   "outputs": [
    {
     "name": "stdout",
     "output_type": "stream",
     "text": [
      "4\n"
     ]
    }
   ],
   "source": [
    "print(my_string.count('e'))"
   ]
  },
  {
   "cell_type": "code",
   "execution_count": 32,
   "id": "0360cc6c",
   "metadata": {},
   "outputs": [
    {
     "name": "stdout",
     "output_type": "stream",
     "text": [
      "10\n"
     ]
    }
   ],
   "source": [
    "print(my_string.find('test'))"
   ]
  },
  {
   "cell_type": "code",
   "execution_count": 33,
   "id": "1910a9e1",
   "metadata": {},
   "outputs": [
    {
     "name": "stdout",
     "output_type": "stream",
     "text": [
      "This is a example sentence\n"
     ]
    }
   ],
   "source": [
    "print(my_string.replace('test', 'example'))"
   ]
  },
  {
   "cell_type": "code",
   "execution_count": 34,
   "id": "c3414c0a",
   "metadata": {},
   "outputs": [],
   "source": [
    "# 19. Create a string variable named my_string and assign it the value 'python'.\n",
    "# a. Use slicing to print the first three characters of my_string in reverse order.\n",
    "# b. Use slicing to print the last two characters of my_string in reverse order.\n",
    "# c. Use the join method to add a hyphen between each character of my_string and print th e resulting string."
   ]
  },
  {
   "cell_type": "code",
   "execution_count": 35,
   "id": "c269cc14",
   "metadata": {},
   "outputs": [
    {
     "name": "stdout",
     "output_type": "stream",
     "text": [
      "typ\n"
     ]
    }
   ],
   "source": [
    "my_string = 'python'\n",
    "print(my_string[2::-1])"
   ]
  },
  {
   "cell_type": "code",
   "execution_count": 36,
   "id": "388ba722",
   "metadata": {},
   "outputs": [
    {
     "name": "stdout",
     "output_type": "stream",
     "text": [
      "no\n"
     ]
    }
   ],
   "source": [
    "print(my_string[:3:-1])"
   ]
  },
  {
   "cell_type": "code",
   "execution_count": 37,
   "id": "608c8835",
   "metadata": {},
   "outputs": [
    {
     "name": "stdout",
     "output_type": "stream",
     "text": [
      "p-y-t-h-o-n\n"
     ]
    }
   ],
   "source": [
    "print('-'.join(my_string))"
   ]
  },
  {
   "cell_type": "code",
   "execution_count": 38,
   "id": "ed7d9c9e",
   "metadata": {},
   "outputs": [],
   "source": [
    "# 20. Create a string variable named my_string and assign it the value 'Python is a popular programming language'.\n",
    "# a. Use the title method to capitalize the first letter of each word in my_string and print the resulting string.\n",
    "# b. Use the split method to split my_string into a list of words and print the result.\n",
    "# c. Use the replace method to replace the word 'Python' with 'Java' in my_string and print the resulting string.\n",
    "\n",
    "my_string = 'Python is a popular programming language'"
   ]
  },
  {
   "cell_type": "code",
   "execution_count": 39,
   "id": "2f43edda",
   "metadata": {},
   "outputs": [
    {
     "name": "stdout",
     "output_type": "stream",
     "text": [
      "Python Is A Popular Programming Language\n"
     ]
    }
   ],
   "source": [
    "print(my_string.title())"
   ]
  },
  {
   "cell_type": "code",
   "execution_count": 40,
   "id": "c427cb74",
   "metadata": {},
   "outputs": [
    {
     "name": "stdout",
     "output_type": "stream",
     "text": [
      "['Python', 'is', 'a', 'popular', 'programming', 'language']\n"
     ]
    }
   ],
   "source": [
    "print(my_string.split(' '))"
   ]
  },
  {
   "cell_type": "code",
   "execution_count": 41,
   "id": "1c7d5e7e",
   "metadata": {},
   "outputs": [
    {
     "name": "stdout",
     "output_type": "stream",
     "text": [
      "Java is a popular programming language\n"
     ]
    }
   ],
   "source": [
    "print(my_string.replace('Python', 'Java'))"
   ]
  },
  {
   "cell_type": "code",
   "execution_count": 42,
   "id": "c743d02b",
   "metadata": {},
   "outputs": [],
   "source": [
    "# 21. Create a string variable named my_string and assign it the value 'Hello, World!'.\n",
    "# a. Use the lower method to convert my_string to lowercase and print the resulting string.\n",
    "# b. Use the upper method to convert my_string to uppercase and print the resulting string.\n",
    "# c. Use slicing to print the string 'World' from my_string."
   ]
  },
  {
   "cell_type": "code",
   "execution_count": 43,
   "id": "74bae74a",
   "metadata": {},
   "outputs": [
    {
     "name": "stdout",
     "output_type": "stream",
     "text": [
      "hello world!\n"
     ]
    }
   ],
   "source": [
    "my_string = 'Hello world!'\n",
    "print(my_string.lower())"
   ]
  },
  {
   "cell_type": "code",
   "execution_count": 44,
   "id": "cfc8e6e8",
   "metadata": {},
   "outputs": [
    {
     "name": "stdout",
     "output_type": "stream",
     "text": [
      "HELLO WORLD!\n"
     ]
    }
   ],
   "source": [
    "print(my_string.upper())"
   ]
  },
  {
   "cell_type": "code",
   "execution_count": 45,
   "id": "b1cd3619",
   "metadata": {},
   "outputs": [
    {
     "name": "stdout",
     "output_type": "stream",
     "text": [
      "world!\n"
     ]
    }
   ],
   "source": [
    "print(my_string.split(' ')[1])"
   ]
  },
  {
   "cell_type": "code",
   "execution_count": 46,
   "id": "529923ee",
   "metadata": {},
   "outputs": [
    {
     "name": "stdout",
     "output_type": "stream",
     "text": [
      "race\n",
      "cec\n",
      "True\n"
     ]
    }
   ],
   "source": [
    "# 22. String slicing and palindrome check for 'racecar'\n",
    "my_string = 'racecar'\n",
    "# a. Print 'race' using slicing\n",
    "print(my_string[:4])\n",
    "# b. Print 'cec' in reverse using slicing\n",
    "print(my_string[4:1:-1])\n",
    "# c. Check if my_string is a palindrome\n",
    "print(my_string == my_string[::-1])"
   ]
  },
  {
   "cell_type": "code",
   "execution_count": 47,
   "id": "5104b883",
   "metadata": {},
   "outputs": [
    {
     "name": "stdout",
     "output_type": "stream",
     "text": [
      "apple\n",
      "['mango', 'orange']\n",
      "['apple', 'banana', 'cherry', 'mango', 'orange', 'grape']\n"
     ]
    }
   ],
   "source": [
    "# 23. List operations with fruits\n",
    "fruits = [\"apple\", \"banana\", \"cherry\", \"mango\", \"orange\"]\n",
    "# a. Print the first fruit\n",
    "print(fruits[0])\n",
    "# b. Print the last two fruits using slicing\n",
    "print(fruits[-2:])\n",
    "# c. Add 'grape' to the list and print it\n",
    "fruits.append(\"grape\")\n",
    "print(fruits)"
   ]
  },
  {
   "cell_type": "code",
   "execution_count": 48,
   "id": "2714be1e",
   "metadata": {},
   "outputs": [
    {
     "name": "stdout",
     "output_type": "stream",
     "text": [
      "[2, 4, 6, 8, 10]\n",
      "[10, 9, 8, 7, 6, 5, 4, 3, 2, 1]\n",
      "[1, 4, 7, 10]\n"
     ]
    }
   ],
   "source": [
    "# 24. List operations with numbers 1 to 10\n",
    "numbers = list(range(1, 11))\n",
    "# a. Print only the even numbers using slicing\n",
    "print(numbers[1::2])\n",
    "# b. Reverse the list using slicing\n",
    "print(numbers[::-1])\n",
    "# c. Print every third element of the list\n",
    "print(numbers[::3])"
   ]
  },
  {
   "cell_type": "code",
   "execution_count": 49,
   "id": "2de156a7",
   "metadata": {},
   "outputs": [
    {
     "name": "stdout",
     "output_type": "stream",
     "text": [
      "['red', 'yellow', 'green']\n"
     ]
    }
   ],
   "source": [
    "# 25. List operations with colors\n",
    "colors = [\"red\", \"blue\", \"green\"]\n",
    "# a. Insert 'yellow' at the second position\n",
    "colors.insert(1, \"yellow\")\n",
    "# b. Remove 'blue' from the list\n",
    "colors.remove(\"blue\")\n",
    "# c. Print the final list\n",
    "print(colors)"
   ]
  },
  {
   "cell_type": "code",
   "execution_count": 50,
   "id": "6b4fe858",
   "metadata": {},
   "outputs": [
    {
     "name": "stdout",
     "output_type": "stream",
     "text": [
      "155\n"
     ]
    }
   ],
   "source": [
    "# 26. List operations with numbers\n",
    "numbers = [10, 20, 30, 40, 50]\n",
    "# a. Replace the second element with 25\n",
    "numbers[1] = 25\n",
    "# b. Print the sum of all elements in the list\n",
    "print(sum(numbers))"
   ]
  },
  {
   "cell_type": "code",
   "execution_count": 51,
   "id": "ea1afecf",
   "metadata": {},
   "outputs": [
    {
     "name": "stdout",
     "output_type": "stream",
     "text": [
      "Ascending: [8, 17, 23, 42, 56]\n",
      "Descending: [56, 42, 23, 17, 8]\n",
      "Length: 5\n"
     ]
    }
   ],
   "source": [
    "# 27. List operations with 5 integers\n",
    "numbers = [42, 17, 8, 23, 56]\n",
    "# a. Sort the list in ascending order\n",
    "numbers.sort()\n",
    "print(\"Ascending:\", numbers)\n",
    "# b. Sort the list in descending order\n",
    "numbers.sort(reverse=True)\n",
    "print(\"Descending:\", numbers)\n",
    "# c. Print the length of the list\n",
    "print(\"Length:\", len(numbers))"
   ]
  },
  {
   "cell_type": "code",
   "execution_count": 52,
   "id": "c838de63",
   "metadata": {},
   "outputs": [
    {
     "name": "stdout",
     "output_type": "stream",
     "text": [
      "3\n",
      "(1, 2, 3)\n",
      "True\n"
     ]
    }
   ],
   "source": [
    "# 28. Tuple operations\n",
    "my_tuple = (1, 2, 3, 4, 5)\n",
    "# a. Print the third element\n",
    "print(my_tuple[2])\n",
    "# b. Print the first three elements using slicing\n",
    "print(my_tuple[:3])\n",
    "# c. Check if 4 is in my_tuple\n",
    "print(4 in my_tuple)"
   ]
  },
  {
   "cell_type": "code",
   "execution_count": 53,
   "id": "bd0ea5ef",
   "metadata": {},
   "outputs": [
    {
     "name": "stdout",
     "output_type": "stream",
     "text": [
      "June\n",
      "('January', 'February', 'March', 'April')\n",
      "2\n"
     ]
    }
   ],
   "source": [
    "# 29. Tuple operations with months\n",
    "months = (\"January\", \"February\", \"March\", \"April\", \"May\", \"June\")\n",
    "# a. Print the last month\n",
    "print(months[-1])\n",
    "# b. Print the first four months\n",
    "print(months[:4])\n",
    "# c. Find the index of 'March'\n",
    "print(months.index(\"March\"))"
   ]
  },
  {
   "cell_type": "code",
   "execution_count": 54,
   "id": "7784a7b7",
   "metadata": {},
   "outputs": [
    {
     "name": "stdout",
     "output_type": "stream",
     "text": [
      "Alice\n",
      "21\n",
      "Computer Science\n"
     ]
    }
   ],
   "source": [
    "# 32. Tuple operations with student info\n",
    "student = (\"Alice\", 21, \"Computer Science\")\n",
    "# a. Print the name\n",
    "print(student[0])\n",
    "# b. Print the age\n",
    "print(student[1])\n",
    "# c. Print the department\n",
    "print(student[2])"
   ]
  },
  {
   "cell_type": "code",
   "execution_count": 55,
   "id": "94327c3b",
   "metadata": {},
   "outputs": [
    {
     "name": "stdout",
     "output_type": "stream",
     "text": [
      "Progr\n",
      "ythonProgrammin\n"
     ]
    }
   ],
   "source": [
    "# String slicing operations\n",
    "s = \"PythonProgramming\"\n",
    "# Print the middle 5 characters\n",
    "mid_start = (len(s) - 5) // 2\n",
    "print(s[mid_start:mid_start+5])\n",
    "# Print the string without the first and last characters\n",
    "print(s[1:-1])"
   ]
  },
  {
   "cell_type": "code",
   "execution_count": 56,
   "id": "2b2c29b9",
   "metadata": {},
   "outputs": [
    {
     "name": "stdout",
     "output_type": "stream",
     "text": [
      "14\n",
      "12\n"
     ]
    }
   ],
   "source": [
    "# String strip and length operations\n",
    "s = \" Data Science \"\n",
    "# Print length before removing spaces\n",
    "print(len(s))\n",
    "# Remove leading and trailing spaces\n",
    "s_stripped = s.strip()\n",
    "# Print length after removing spaces\n",
    "print(len(s_stripped))"
   ]
  },
  {
   "cell_type": "code",
   "execution_count": 57,
   "id": "be55c37f",
   "metadata": {},
   "outputs": [
    {
     "name": "stdout",
     "output_type": "stream",
     "text": [
      "machinelearning\n",
      "MACHINELEARNING\n",
      "mACHINElEARNING\n"
     ]
    }
   ],
   "source": [
    "# String case operations\n",
    "s = \"MachineLearning\"\n",
    "# Print the string in all lowercase\n",
    "print(s.lower())\n",
    "# Print the string in all uppercase\n",
    "print(s.upper())\n",
    "# Swap the case of all letters\n",
    "print(s.swapcase())"
   ]
  },
  {
   "cell_type": "code",
   "execution_count": 58,
   "id": "4df88f52",
   "metadata": {},
   "outputs": [
    {
     "name": "stdout",
     "output_type": "stream",
     "text": [
      "True\n",
      "False\n",
      "False\n"
     ]
    }
   ],
   "source": [
    "# String checks for alphanumeric, digits, alphabets\n",
    "s = \"datascience123\"\n",
    "# Check if the string is alphanumeric\n",
    "print(s.isalnum())\n",
    "# Check if the string contains only digits\n",
    "print(s.isdigit())\n",
    "# Check if the string contains only alphabets\n",
    "print(s.isalpha())"
   ]
  },
  {
   "cell_type": "code",
   "execution_count": 59,
   "id": "fa9d433e",
   "metadata": {},
   "outputs": [
    {
     "name": "stdout",
     "output_type": "stream",
     "text": [
      "2\n",
      "6\n"
     ]
    }
   ],
   "source": [
    "# String operations: count and find\n",
    "s = \"hello world\"\n",
    "# Count how many times 'o' appears\n",
    "print(s.count(\"o\"))\n",
    "# Find the index of the first occurrence of 'world'\n",
    "print(s.find(\"world\"))"
   ]
  },
  {
   "cell_type": "code",
   "execution_count": 60,
   "id": "41e46f32",
   "metadata": {},
   "outputs": [
    {
     "name": "stdout",
     "output_type": "stream",
     "text": [
      "a-b-c-d\n",
      "abcdabcdabcd\n"
     ]
    }
   ],
   "source": [
    "# Create a string 'abcd'\n",
    "s = \"abcd\"\n",
    "\n",
    "# Generate 'a-b-c-d' using .join()\n",
    "joined = '-'.join(s)\n",
    "print(joined)  # Output: a-b-c-d\n",
    "\n",
    "# Repeat the string 3 times\n",
    "repeated = s * 3\n",
    "print(repeated)"
   ]
  },
  {
   "cell_type": "code",
   "execution_count": 61,
   "id": "a02c38ea",
   "metadata": {},
   "outputs": [
    {
     "name": "stdout",
     "output_type": "stream",
     "text": [
      "True\n",
      "True\n"
     ]
    }
   ],
   "source": [
    "# Create a string 'python'\n",
    "s = \"python\"\n",
    "\n",
    "# Check if it starts with 'py'\n",
    "print(s.startswith(\"py\"))  # Output: True\n",
    "\n",
    "# Check if it ends with 'on'\n",
    "print(s.endswith(\"on\"))"
   ]
  },
  {
   "cell_type": "code",
   "execution_count": 62,
   "id": "4ffd6faa",
   "metadata": {},
   "outputs": [
    {
     "name": "stdout",
     "output_type": "stream",
     "text": [
      "em esrever\n",
      "esrever em\n"
     ]
    }
   ],
   "source": [
    "# Create a string 'reverse me'\n",
    "s = \"reverse me\"\n",
    "\n",
    "# Reverse the entire string using slicing\n",
    "print(s[::-1])  # Output: 'em esrever'\n",
    "\n",
    "# Reverse each word individually\n",
    "reversed_words = ' '.join(word[::-1] for word in s.split())\n",
    "print(reversed_words) "
   ]
  }
 ],
 "metadata": {
  "kernelspec": {
   "display_name": "base",
   "language": "python",
   "name": "python3"
  },
  "language_info": {
   "codemirror_mode": {
    "name": "ipython",
    "version": 3
   },
   "file_extension": ".py",
   "mimetype": "text/x-python",
   "name": "python",
   "nbconvert_exporter": "python",
   "pygments_lexer": "ipython3",
   "version": "3.12.2"
  }
 },
 "nbformat": 4,
 "nbformat_minor": 5
}
