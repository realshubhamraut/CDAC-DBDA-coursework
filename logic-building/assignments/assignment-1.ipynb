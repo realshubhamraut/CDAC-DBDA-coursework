{
 "cells": [
  {
   "cell_type": "code",
   "execution_count": null,
   "id": "fb39be52",
   "metadata": {},
   "outputs": [],
   "source": [
    "# 1. Create a string variable named my_string and assign it the value 'qwertyuiopasdfghjklasdfghjkzxcvbnm '.\n",
    "my_string = \"qwertyuiopasdfghjklasdfghjkzxcvbnm \""
   ]
  },
  {
   "cell_type": "code",
   "execution_count": null,
   "id": "6ed8e21a",
   "metadata": {},
   "outputs": [
    {
     "name": "stdout",
     "output_type": "stream",
     "text": [
      "e\n"
     ]
    }
   ],
   "source": [
    "# 2. Print the third character of my_string using indexing.\n",
    "print(my_string[2:3])"
   ]
  },
  {
   "cell_type": "code",
   "execution_count": null,
   "id": "d88a60c8",
   "metadata": {},
   "outputs": [
    {
     "name": "stdout",
     "output_type": "stream",
     "text": [
      "t\n"
     ]
    }
   ],
   "source": [
    "# 3. Print the last character of my_string using indexing.\n",
    "print(my_string[-1])"
   ]
  },
  {
   "cell_type": "code",
   "execution_count": 9,
   "id": "212dccb3",
   "metadata": {},
   "outputs": [
    {
     "name": "stdout",
     "output_type": "stream",
     "text": [
      "qwer\n"
     ]
    }
   ],
   "source": [
    "# 4. Print the first five characters of my_string using slicing.\n",
    "print(my_string[:4])"
   ]
  },
  {
   "cell_type": "code",
   "execution_count": 13,
   "id": "7735e656",
   "metadata": {},
   "outputs": [
    {
     "name": "stdout",
     "output_type": "stream",
     "text": [
      "&quot\n"
     ]
    }
   ],
   "source": [
    "# 5. Print the last five characters of my_string using slicing.\n",
    "print(my_string[-5:])"
   ]
  },
  {
   "cell_type": "code",
   "execution_count": 15,
   "id": "c019291b",
   "metadata": {},
   "outputs": [
    {
     "name": "stdout",
     "output_type": "stream",
     "text": [
      "qetuoadgjlsfhkxvn&ut\n"
     ]
    }
   ],
   "source": [
    "# 6. Print every other character of my_string using slicing.\n",
    "print(my_string[::2])"
   ]
  },
  {
   "cell_type": "code",
   "execution_count": 16,
   "id": "26b7864b",
   "metadata": {},
   "outputs": [
    {
     "name": "stdout",
     "output_type": "stream",
     "text": [
      "touq&mnbvcxzkjhgfdsalkjhgfdsapoiuytrewq\n"
     ]
    }
   ],
   "source": [
    "# 7. Print my_string in reverse using slicing.\n",
    "print(my_string[::-1])"
   ]
  },
  {
   "cell_type": "code",
   "execution_count": null,
   "id": "464783c9",
   "metadata": {},
   "outputs": [
    {
     "name": "stdout",
     "output_type": "stream",
     "text": [
      "qw\n"
     ]
    }
   ],
   "source": [
    "# 8. Print the first two characters of my_string using slicing.\n",
    "print(my_string[:2])"
   ]
  },
  {
   "cell_type": "code",
   "execution_count": 20,
   "id": "5304a0f9",
   "metadata": {},
   "outputs": [
    {
     "name": "stdout",
     "output_type": "stream",
     "text": [
      "uiopasd\n"
     ]
    }
   ],
   "source": [
    "# 9. Print the characters of my_string from index 7 to index 12 (inclusive) using\n",
    "print(my_string[6:13])"
   ]
  },
  {
   "cell_type": "code",
   "execution_count": 23,
   "id": "acc5f031",
   "metadata": {},
   "outputs": [
    {
     "name": "stdout",
     "output_type": "stream",
     "text": [
      "uot\n"
     ]
    }
   ],
   "source": [
    "# 10. Print the last three characters of my_string using slicing.\n",
    "print(my_string[-3:])"
   ]
  },
  {
   "cell_type": "code",
   "execution_count": 24,
   "id": "4133ed34",
   "metadata": {},
   "outputs": [
    {
     "name": "stdout",
     "output_type": "stream",
     "text": [
      "touq&mnbvcxzkjhgfdsalkjhgfdsapoiuytrewq\n"
     ]
    }
   ],
   "source": [
    "# 11. Print the characters of my_string in reverse order using slicing.\n",
    "print(my_string[::-1])"
   ]
  },
  {
   "cell_type": "code",
   "execution_count": 27,
   "id": "4277d942",
   "metadata": {},
   "outputs": [
    {
     "name": "stdout",
     "output_type": "stream",
     "text": [
      "wtiafjafjxb&o\n"
     ]
    }
   ],
   "source": [
    "# 12. Print every third character of my_string starting from the second character using slicing.\n",
    "print(my_string[1::3])"
   ]
  },
  {
   "cell_type": "code",
   "execution_count": 28,
   "id": "f5513deb",
   "metadata": {},
   "outputs": [
    {
     "data": {
      "text/plain": [
       "'learning is funqwertyuiopasdfghjklasdfghjkzxcvbnm&quot'"
      ]
     },
     "execution_count": 28,
     "metadata": {},
     "output_type": "execute_result"
    }
   ],
   "source": [
    "# 13. Create a new string variable named new_string and assign it the value \"learning is fun\".\n",
    "# Concatenate my_string and new_string using the + operator and print the resulting string.\n",
    "new_string = 'learning is fun'\n",
    "\n",
    "comp_string = new_string + my_string\n",
    "comp_string"
   ]
  },
  {
   "cell_type": "code",
   "execution_count": null,
   "id": "1d40de92",
   "metadata": {},
   "outputs": [],
   "source": [
    "# 14. Create a string variable named my_string and assign it the value \"Python is easy to learn!.\n",
    "# a. Print the length of my_string.\n",
    "# b. Convert my_string to uppercase and print it.\n",
    "# c. Replace the word 'easy' in my_string with the word 'powerful' and print the resulting string."
   ]
  },
  {
   "cell_type": "code",
   "execution_count": 29,
   "id": "500b97f2",
   "metadata": {},
   "outputs": [
    {
     "name": "stdout",
     "output_type": "stream",
     "text": [
      "24\n"
     ]
    }
   ],
   "source": [
    "my_string = \"Python is easy to learn!\"\n",
    "print(len(my_string))"
   ]
  },
  {
   "cell_type": "code",
   "execution_count": 30,
   "id": "b024f4f3",
   "metadata": {},
   "outputs": [
    {
     "name": "stdout",
     "output_type": "stream",
     "text": [
      "PYTHON IS EASY TO LEARN!\n"
     ]
    }
   ],
   "source": [
    "print(my_string.upper())"
   ]
  },
  {
   "cell_type": "code",
   "execution_count": 32,
   "id": "7b487bd0",
   "metadata": {},
   "outputs": [
    {
     "name": "stdout",
     "output_type": "stream",
     "text": [
      "Python is powerful to learn!\n"
     ]
    }
   ],
   "source": [
    "print(my_string.replace('easy', 'powerful'))"
   ]
  },
  {
   "cell_type": "code",
   "execution_count": null,
   "id": "dd9f53a7",
   "metadata": {},
   "outputs": [],
   "source": [
    "# 15. Create a string variable named email and assign it the value jane.doe@example.com.\n",
    "# a. Print the username (i.e., jane.doe) by slicing the string.\n",
    "# b. Print the domain (i.e., example.com) by slicing the string.\n",
    "# c. Replace the domain with mycompany.com  and print the resulting email address.\n",
    "email = 'john.doe@example.com'"
   ]
  },
  {
   "cell_type": "code",
   "execution_count": 38,
   "id": "1e7252d0",
   "metadata": {},
   "outputs": [],
   "source": [
    "username = email.split('@')[0]"
   ]
  },
  {
   "cell_type": "code",
   "execution_count": null,
   "id": "30cb9513",
   "metadata": {},
   "outputs": [
    {
     "data": {
      "text/plain": [
       "'example.com'"
      ]
     },
     "execution_count": 37,
     "metadata": {},
     "output_type": "execute_result"
    }
   ],
   "source": [
    "username "
   ]
  },
  {
   "cell_type": "code",
   "execution_count": null,
   "id": "5e73c680",
   "metadata": {},
   "outputs": [],
   "source": [
    "# 16. Create a string variable named my_string and assign it the value 'Python is fun'.\n",
    "# a. Check if the word is 'is' in my_string and print the result.\n",
    "# b. Check if the word 'Java' is not in my_string and print the result.\n",
    "# c. Split my_string into a list of words and print the result."
   ]
  },
  {
   "cell_type": "code",
   "execution_count": 39,
   "id": "17b6cbc7",
   "metadata": {},
   "outputs": [],
   "source": [
    "my_string = 'Python is fun'"
   ]
  },
  {
   "cell_type": "code",
   "execution_count": 40,
   "id": "3ff6eba4",
   "metadata": {},
   "outputs": [
    {
     "name": "stdout",
     "output_type": "stream",
     "text": [
      "True\n"
     ]
    }
   ],
   "source": [
    "print('is' in my_string)"
   ]
  },
  {
   "cell_type": "code",
   "execution_count": 41,
   "id": "649e57e4",
   "metadata": {},
   "outputs": [
    {
     "name": "stdout",
     "output_type": "stream",
     "text": [
      "False\n"
     ]
    }
   ],
   "source": [
    "print('Java' in my_string)"
   ]
  },
  {
   "cell_type": "code",
   "execution_count": 42,
   "id": "c5e3fb33",
   "metadata": {},
   "outputs": [
    {
     "name": "stdout",
     "output_type": "stream",
     "text": [
      "['Python', 'is', 'fun']\n"
     ]
    }
   ],
   "source": [
    "print(my_string.split(' '))"
   ]
  },
  {
   "cell_type": "code",
   "execution_count": 46,
   "id": "433bcd2a",
   "metadata": {},
   "outputs": [],
   "source": [
    "# 17. Create a string variable named my_string and assign it the value 'Programming is fun!'.\n",
    "# a. Use string interpolation to replace 'fun' with 'awesome' and print the resulting string.\n",
    "# b. Use the split method to split my_string into a list of words and print the result.\n",
    "# c. Use the join method to concatenate the list of words into a single string using a space as a separator and print the resulting string.\n",
    "\n",
    "my_string = 'Programming is fun!'"
   ]
  },
  {
   "cell_type": "code",
   "execution_count": 47,
   "id": "77331d93",
   "metadata": {},
   "outputs": [
    {
     "name": "stdout",
     "output_type": "stream",
     "text": [
      "Programming is awesome!\n"
     ]
    }
   ],
   "source": [
    "print(f\"{my_string.replace('fun', 'awesome')}\")"
   ]
  },
  {
   "cell_type": "code",
   "execution_count": 50,
   "id": "6b2c20d7",
   "metadata": {},
   "outputs": [
    {
     "data": {
      "text/plain": [
       "['Programming', 'is', 'fun!']"
      ]
     },
     "execution_count": 50,
     "metadata": {},
     "output_type": "execute_result"
    }
   ],
   "source": [
    "splitted = my_string.split(' ')\n",
    "splitted"
   ]
  },
  {
   "cell_type": "code",
   "execution_count": 52,
   "id": "0ba08a2f",
   "metadata": {},
   "outputs": [
    {
     "name": "stdout",
     "output_type": "stream",
     "text": [
      "Programming is fun!\n"
     ]
    }
   ],
   "source": [
    "print(' '.join(splitted))"
   ]
  },
  {
   "cell_type": "code",
   "execution_count": 54,
   "id": "863bf05a",
   "metadata": {},
   "outputs": [],
   "source": [
    "# 18. Create a string variable named my_string and assign it the value \"This is a test sentence\".\n",
    "# Use the count method to count the number of occurrences of the letter 'e'  in my_string and print the result.\n",
    "# Use the find method to find the index of the first occurrence of the  word 'test' in my_string and print the result.\n",
    "# Use the replace method to replace the word 'test'  with the word 'example' in my_string and print the resulting string.\n",
    "\n",
    "my_string = 'This is a test sentence'"
   ]
  },
  {
   "cell_type": "code",
   "execution_count": 60,
   "id": "0c143ee3",
   "metadata": {},
   "outputs": [
    {
     "name": "stdout",
     "output_type": "stream",
     "text": [
      "4\n"
     ]
    }
   ],
   "source": [
    "print(my_string.count('e'))"
   ]
  },
  {
   "cell_type": "code",
   "execution_count": 61,
   "id": "0360cc6c",
   "metadata": {},
   "outputs": [
    {
     "name": "stdout",
     "output_type": "stream",
     "text": [
      "10\n"
     ]
    }
   ],
   "source": [
    "print(my_string.find('test'))"
   ]
  },
  {
   "cell_type": "code",
   "execution_count": 62,
   "id": "1910a9e1",
   "metadata": {},
   "outputs": [
    {
     "name": "stdout",
     "output_type": "stream",
     "text": [
      "This is a example sentence\n"
     ]
    }
   ],
   "source": [
    "print(my_string.replace('test', 'example'))"
   ]
  },
  {
   "cell_type": "code",
   "execution_count": null,
   "id": "c3414c0a",
   "metadata": {},
   "outputs": [],
   "source": [
    "# 19. Create a string variable named my_string and assign it the value 'python'.\n",
    "# a. Use slicing to print the first three characters of my_string in reverse order.\n",
    "# b. Use slicing to print the last two characters of my_string in reverse order.\n",
    "# c. Use the join method to add a hyphen between each character of my_string and print th e resulting string."
   ]
  },
  {
   "cell_type": "code",
   "execution_count": 65,
   "id": "c269cc14",
   "metadata": {},
   "outputs": [
    {
     "name": "stdout",
     "output_type": "stream",
     "text": [
      "typ\n"
     ]
    }
   ],
   "source": [
    "my_string = 'python'\n",
    "print(my_string[2::-1])"
   ]
  },
  {
   "cell_type": "code",
   "execution_count": 68,
   "id": "388ba722",
   "metadata": {},
   "outputs": [
    {
     "name": "stdout",
     "output_type": "stream",
     "text": [
      "no\n"
     ]
    }
   ],
   "source": [
    "print(my_string[:3:-1])"
   ]
  },
  {
   "cell_type": "code",
   "execution_count": 69,
   "id": "608c8835",
   "metadata": {},
   "outputs": [
    {
     "name": "stdout",
     "output_type": "stream",
     "text": [
      "p-y-t-h-o-n\n"
     ]
    }
   ],
   "source": [
    "print('-'.join(my_string))"
   ]
  },
  {
   "cell_type": "code",
   "execution_count": null,
   "id": "ed7d9c9e",
   "metadata": {},
   "outputs": [],
   "source": [
    "# 20. Create a string variable named my_string and assign it the value 'Python is a popular programming language'.\n",
    "# a. Use the title method to capitalize the first letter of each word in my_string and print the resulting string.\n",
    "# b. Use the split method to split my_string into a list of words and print the result.\n",
    "# c. Use the replace method to replace the word 'Python' with 'Java' in my_string and print the resulting string.\n",
    "\n",
    "my_string = 'Python is a popular programming language'"
   ]
  },
  {
   "cell_type": "code",
   "execution_count": 72,
   "id": "2f43edda",
   "metadata": {},
   "outputs": [
    {
     "name": "stdout",
     "output_type": "stream",
     "text": [
      "Python Is A Popular Programming Language\n"
     ]
    }
   ],
   "source": [
    "print(my_string.title())"
   ]
  },
  {
   "cell_type": "code",
   "execution_count": 73,
   "id": "c427cb74",
   "metadata": {},
   "outputs": [
    {
     "name": "stdout",
     "output_type": "stream",
     "text": [
      "['Python', 'is', 'a', 'popular', 'programming', 'language']\n"
     ]
    }
   ],
   "source": [
    "print(my_string.split(' '))"
   ]
  },
  {
   "cell_type": "code",
   "execution_count": 74,
   "id": "1c7d5e7e",
   "metadata": {},
   "outputs": [
    {
     "name": "stdout",
     "output_type": "stream",
     "text": [
      "Java is a popular programming language\n"
     ]
    }
   ],
   "source": [
    "print(my_string.replace('Python', 'Java'))"
   ]
  },
  {
   "cell_type": "code",
   "execution_count": null,
   "id": "c743d02b",
   "metadata": {},
   "outputs": [],
   "source": [
    "# 21. Create a string variable named my_string and assign it the value 'Hello, World!'.\n",
    "# a. Use the lower method to convert my_string to lowercase and print the resulting string.\n",
    "# b. Use the upper method to convert my_string to uppercase and print the resulting string.\n",
    "# c. Use slicing to print the string 'World' from my_string."
   ]
  },
  {
   "cell_type": "code",
   "execution_count": 76,
   "id": "74bae74a",
   "metadata": {},
   "outputs": [
    {
     "name": "stdout",
     "output_type": "stream",
     "text": [
      "hello world!\n"
     ]
    }
   ],
   "source": [
    "my_string = 'Hello world!'\n",
    "print(my_string.lower())"
   ]
  },
  {
   "cell_type": "code",
   "execution_count": 77,
   "id": "cfc8e6e8",
   "metadata": {},
   "outputs": [
    {
     "name": "stdout",
     "output_type": "stream",
     "text": [
      "HELLO WORLD!\n"
     ]
    }
   ],
   "source": [
    "print(my_string.upper())"
   ]
  },
  {
   "cell_type": "code",
   "execution_count": 78,
   "id": "b1cd3619",
   "metadata": {},
   "outputs": [
    {
     "name": "stdout",
     "output_type": "stream",
     "text": [
      "world!\n"
     ]
    }
   ],
   "source": [
    "print(my_string.split(' ')[1])"
   ]
  },
  {
   "cell_type": "code",
   "execution_count": 83,
   "id": "395ff5a6",
   "metadata": {},
   "outputs": [],
   "source": [
    "# 22. Create a string variable named my_string and assign it the value 'racecar'.\n",
    "# a. Use slicing to print the string 'race' from my_string.\n",
    "# b. Use slicing to print the string 'cec' from my_string in reverse order.\n",
    "# c. Check if my_string is a palindrome (i.e., reads the same forwards and\n",
    "# backwards) and print the result.\n",
    "\n",
    "my_string = 'racecar'"
   ]
  },
  {
   "cell_type": "markdown",
   "id": "f61e9e39",
   "metadata": {},
   "source": []
  }
 ],
 "metadata": {
  "kernelspec": {
   "display_name": "base",
   "language": "python",
   "name": "python3"
  },
  "language_info": {
   "codemirror_mode": {
    "name": "ipython",
    "version": 3
   },
   "file_extension": ".py",
   "mimetype": "text/x-python",
   "name": "python",
   "nbconvert_exporter": "python",
   "pygments_lexer": "ipython3",
   "version": "3.12.2"
  }
 },
 "nbformat": 4,
 "nbformat_minor": 5
}
