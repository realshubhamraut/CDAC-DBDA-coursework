{
 "cells": [
  {
   "cell_type": "code",
   "execution_count": 15,
   "id": "9db8b85b",
   "metadata": {},
   "outputs": [
    {
     "name": "stdout",
     "output_type": "stream",
     "text": [
      "Hello, shubh!\n"
     ]
    }
   ],
   "source": [
    "# 1. Write a function greet (name) that prints \"Hello, <name>!\".\n",
    "def greet(name):\n",
    "    print(f\"Hello, {name}!\")\n",
    "greet('shubh')"
   ]
  },
  {
   "cell_type": "code",
   "execution_count": 3,
   "id": "293c131b",
   "metadata": {},
   "outputs": [
    {
     "name": "stdout",
     "output_type": "stream",
     "text": [
      "27\n"
     ]
    }
   ],
   "source": [
    "# 2. Write a function cube (n) that returns the cube of a number.\n",
    "def cube(n):\n",
    "\treturn n ** 3\n",
    "print(cube(3))"
   ]
  },
  {
   "cell_type": "code",
   "execution_count": null,
   "id": "cbd57c77",
   "metadata": {},
   "outputs": [
    {
     "name": "stdout",
     "output_type": "stream",
     "text": [
      "15\n"
     ]
    }
   ],
   "source": [
    "# 3. Create a function sum_list(lst) that returns the sum of all numbers in a list.\n",
    "def sum_list(lst):\n",
    "    return sum(lst)\n",
    "\n",
    "\n",
    "numbers = [1, 2, 3, 4, 5]\n",
    "print(sum_list(numbers)) "
   ]
  },
  {
   "cell_type": "code",
   "execution_count": null,
   "id": "33d3dba8",
   "metadata": {},
   "outputs": [
    {
     "name": "stdout",
     "output_type": "stream",
     "text": [
      "6.0\n"
     ]
    }
   ],
   "source": [
    "# 4. Write a function average(a, b, c) that returns the average of three numbers.\n",
    "def average(a, b, c):\n",
    "    return (a + b + c) / 3\n",
    "\n",
    "\n",
    "print(average(3, 6, 9)) "
   ]
  },
  {
   "cell_type": "code",
   "execution_count": 8,
   "id": "d18056f8",
   "metadata": {},
   "outputs": [
    {
     "name": "stdout",
     "output_type": "stream",
     "text": [
      "5\n"
     ]
    }
   ],
   "source": [
    "# 5. Create a function min_of_two(a, b) that returns the smaller of two numbers.\n",
    "def min_of_two(a, b):\n",
    "    return a if a < b else b\n",
    "\n",
    "\n",
    "print(min_of_two(10, 5))  "
   ]
  },
  {
   "cell_type": "code",
   "execution_count": 10,
   "id": "e2aa7198",
   "metadata": {},
   "outputs": [
    {
     "name": "stdout",
     "output_type": "stream",
     "text": [
      "True\n"
     ]
    }
   ],
   "source": [
    "# 6. Write a function that checks if a number is prime (return True/False).\n",
    "def is_prime(n):\n",
    "    if n < 2:\n",
    "        return False\n",
    "    for i in range(2, int(n ** 0.5) + 1):\n",
    "        if n % i == 0:\n",
    "            return False\n",
    "    return True\n",
    "\n",
    "print(is_prime(7)) "
   ]
  },
  {
   "cell_type": "code",
   "execution_count": 11,
   "id": "3b4e7247",
   "metadata": {},
   "outputs": [
    {
     "name": "stdout",
     "output_type": "stream",
     "text": [
      "7\n"
     ]
    }
   ],
   "source": [
    "# 7. Write a function count_words(s) that returns the number of words in a string.\n",
    "def count_words(s):\n",
    "    return len(s.split())\n",
    "\n",
    "\n",
    "sentence = \"Python is fun and easy to learn\"\n",
    "print(count_words(sentence))  "
   ]
  },
  {
   "cell_type": "code",
   "execution_count": null,
   "id": "e6ede08a",
   "metadata": {},
   "outputs": [],
   "source": [
    "# 8. Create a function last_char(s) that returns the last character of a string.\n",
    "def last_char(s):\n",
    "    return s[-1] if s else None\n",
    "\n",
    "\n",
    "print(last_char(\"Python\"))\n",
    "print(last_char(\"\") )"
   ]
  },
  {
   "cell_type": "code",
   "execution_count": null,
   "id": "061e7420",
   "metadata": {},
   "outputs": [],
   "source": [
    "# 9. Create a tuple with numbers from 1 to 5 and print it.\n",
    "nums = (1, 2, 3, 4, 5)\n",
    "print(nums)"
   ]
  },
  {
   "cell_type": "code",
   "execution_count": 12,
   "id": "a2a38bc4",
   "metadata": {},
   "outputs": [
    {
     "name": "stdout",
     "output_type": "stream",
     "text": [
      "30\n"
     ]
    }
   ],
   "source": [
    "# 10. Write a program to access the third element of a tuple (10, 20, 30, 40, 50).\n",
    "tup = (10, 20, 30, 40, 50)\n",
    "print(tup[2]) "
   ]
  },
  {
   "cell_type": "code",
   "execution_count": 16,
   "id": "25d02953",
   "metadata": {},
   "outputs": [
    {
     "name": "stdout",
     "output_type": "stream",
     "text": [
      "5\n"
     ]
    }
   ],
   "source": [
    "# 11. Write a program to find the length of a tuple.\n",
    "tup = (10, 20, 30, 40, 50)\n",
    "print(len(tup)) "
   ]
  },
  {
   "cell_type": "code",
   "execution_count": 17,
   "id": "75b78c91",
   "metadata": {},
   "outputs": [
    {
     "name": "stdout",
     "output_type": "stream",
     "text": [
      "[1, 2, 3]\n"
     ]
    }
   ],
   "source": [
    "# 12. Convert a tuple (1,2,3) into a list.\n",
    "tup = (1, 2, 3)\n",
    "lst = list(tup)\n",
    "print(lst)"
   ]
  },
  {
   "cell_type": "code",
   "execution_count": 19,
   "id": "492443d7",
   "metadata": {},
   "outputs": [
    {
     "name": "stdout",
     "output_type": "stream",
     "text": [
      "(1, 2, 3, 4, 5, 6)\n"
     ]
    }
   ],
   "source": [
    "# 13. Concatenate two tuples (1,2,3) and (4,5,6).\n",
    "tup1 = (1, 2, 3)\n",
    "tup2 = (4, 5, 6)\n",
    "result = tup1 + tup2\n",
    "print(result)"
   ]
  },
  {
   "cell_type": "code",
   "execution_count": null,
   "id": "4ed8d34a",
   "metadata": {},
   "outputs": [],
   "source": [
    "# 14. Write a program to check if an element exists in a tuple.\n",
    "tup = (1, 2, 3, 4, 5)\n",
    "element = 3\n",
    "if element in tup:\n",
    "    print(f\"{element} exists in the tuple.\")\n",
    "else:\n",
    "    print(f\"{element} does not exist in the tuple.\")\n",
    "\n",
    "\n"
   ]
  },
  {
   "cell_type": "code",
   "execution_count": 20,
   "id": "b4255bea",
   "metadata": {},
   "outputs": [
    {
     "name": "stdout",
     "output_type": "stream",
     "text": [
      "{'apple': 50, 'banana': 20, 'mango': 40}\n"
     ]
    }
   ],
   "source": [
    "# 15. Create a dictionary with three fruits and their prices, then print it.\n",
    "fruits = {'apple': 50, 'banana': 20, 'mango': 40}\n",
    "print(fruits) "
   ]
  },
  {
   "cell_type": "code",
   "execution_count": 21,
   "id": "865a67c5",
   "metadata": {},
   "outputs": [
    {
     "name": "stdout",
     "output_type": "stream",
     "text": [
      "dict_values([50, 20, 40])\n"
     ]
    }
   ],
   "source": [
    "# 16. Write a program to print only the values of a dictionary.\n",
    "fruits = {'apple': 50, 'banana': 20, 'mango': 40}\n",
    "print(fruits.values())"
   ]
  },
  {
   "cell_type": "code",
   "execution_count": null,
   "id": "60e4fee6",
   "metadata": {},
   "outputs": [],
   "source": [
    "# 17. Write a program to add a new key-value pair to a dictionary.\n",
    "fruits = {'apple': 50, 'banana': 20, 'mango': 40}\n",
    "fruits['orange'] = 30\n",
    "print(fruits) "
   ]
  },
  {
   "cell_type": "code",
   "execution_count": null,
   "id": "555f962d",
   "metadata": {},
   "outputs": [],
   "source": [
    "# 18. Given ( \"name\": \"Rahul\", \"age\": 22}, print the value of \"name\"\n",
    "person = {\"name\": \"Rahul\", \"age\": 22}\n",
    "print(person[\"name\"])"
   ]
  },
  {
   "cell_type": "code",
   "execution_count": null,
   "id": "8322591e",
   "metadata": {},
   "outputs": [],
   "source": [
    "# 19. Write a program to delete a key from a dictionary.\n",
    "fruits.pop('banana')\n",
    "print(fruits)"
   ]
  },
  {
   "cell_type": "code",
   "execution_count": null,
   "id": "5cdb043e",
   "metadata": {},
   "outputs": [],
   "source": [
    "# 20. Create a dictionary of squares of numbers from 1 to 5.\n",
    "squares = {x: x**2 for x in range(1, 6)}\n",
    "print(squares)"
   ]
  },
  {
   "cell_type": "code",
   "execution_count": null,
   "id": "4e056a9d",
   "metadata": {},
   "outputs": [],
   "source": [
    "# 21. Write a program to count how many keys are in a dictionary.\n",
    "key_count = len(fruits)\n",
    "print(key_count)"
   ]
  },
  {
   "cell_type": "code",
   "execution_count": 22,
   "id": "f28d0ec1",
   "metadata": {},
   "outputs": [
    {
     "name": "stdout",
     "output_type": "stream",
     "text": [
      "{'apple': 2, 'banana': 7, 'mango': 7}\n"
     ]
    }
   ],
   "source": [
    "# 22. Increase the value of \"banana\" by 2 in the given dictionary\n",
    "fruits = {\"apple\": 2, \"banana\": 5, \"mango\": 7}\n",
    "fruits[\"banana\"] += 2\n",
    "print(fruits)"
   ]
  },
  {
   "cell_type": "code",
   "execution_count": null,
   "id": "89314e56",
   "metadata": {},
   "outputs": [],
   "source": [
    "# 23. Input two numbers and print their product.\n",
    "a = int(input('Enter first number: '))\n",
    "b = int(input('Enter second number: '))\n",
    "print('Product:', a * b)"
   ]
  },
  {
   "cell_type": "code",
   "execution_count": null,
   "id": "033dc7cc",
   "metadata": {},
   "outputs": [],
   "source": [
    "# 24. Write a program to calculate the perimeter of a rectangle.\n",
    "length = float(input('Enter length of rectangle: '))\n",
    "width = float(input('Enter width of rectangle: '))\n",
    "perimeter = 2 * (length + width)\n",
    "print('Perimeter:', perimeter)"
   ]
  },
  {
   "cell_type": "code",
   "execution_count": null,
   "id": "cae3fe7c",
   "metadata": {},
   "outputs": [],
   "source": [
    "# 25. Find the remainder when 25 is divided by 4.\n",
    "remainder = 25 % 4\n",
    "print('Remainder:', remainder)  # Output: 1"
   ]
  },
  {
   "cell_type": "code",
   "execution_count": null,
   "id": "9efb5132",
   "metadata": {},
   "outputs": [],
   "source": [
    "# 26. Print the binary representation of a number using bin().\n",
    "num = int(input('Enter a number: '))\n",
    "print('Binary representation:', bin(num))"
   ]
  },
  {
   "cell_type": "code",
   "execution_count": null,
   "id": "e02dfc40",
   "metadata": {},
   "outputs": [],
   "source": [
    "# 27. Use bitwise AND (&) on two numbers 7 and 3.\n",
    "result = 7 & 3\n",
    "print('Bitwise AND of 7 & 3:', result)  # Output: 3"
   ]
  },
  {
   "cell_type": "code",
   "execution_count": null,
   "id": "be4923d9",
   "metadata": {},
   "outputs": [],
   "source": [
    "# 28. Use bitwise OR (|) on two numbers 7 and 3.\n",
    "result = 7 | 3\n",
    "print('Bitwise OR of 7 | 3:', result)  # Output: 7"
   ]
  },
  {
   "cell_type": "code",
   "execution_count": null,
   "id": "0f6b0359",
   "metadata": {},
   "outputs": [],
   "source": [
    "# 29. One-liner using ternary operator to check if a number is positive or negative.\n",
    "num = int(input('Enter a number: '))\n",
    "print('Positive' if num >= 0 else 'Negative')"
   ]
  },
  {
   "cell_type": "code",
   "execution_count": null,
   "id": "3ce78665",
   "metadata": {},
   "outputs": [],
   "source": [
    "# 30. Using ternary operator, print \"Pass\" if marks ≥ 40 else \"Fai1\".\n",
    "marks = int(input('Enter marks: '))\n",
    "print('Pass' if marks >= 40 else 'Fai1')"
   ]
  },
  {
   "cell_type": "code",
   "execution_count": null,
   "id": "ca0a5847",
   "metadata": {},
   "outputs": [],
   "source": [
    "# 31. Function to check if a number is prime.\n",
    "def is_prime(n):\n",
    "    if n < 2:\n",
    "        return False\n",
    "    for i in range(2, int(n ** 0.5) + 1):\n",
    "        if n % i == 0:\n",
    "            return False\n",
    "    return True\n",
    "\n",
    "\n",
    "num = int(input('Enter a number: '))\n",
    "print('Prime' if is_prime(num) else 'Not Prime')"
   ]
  },
  {
   "cell_type": "code",
   "execution_count": null,
   "id": "1ae40085",
   "metadata": {},
   "outputs": [],
   "source": [
    "# 32. Function to check whether a number is a palindrome.\n",
    "def is_palindrome(n):\n",
    "    return str(n) == str(n)[::-1]\n",
    "\n",
    "\n",
    "num = int(input('Enter a number: '))\n",
    "print('Palindrome' if is_palindrome(num) else 'Not Palindrome')"
   ]
  },
  {
   "cell_type": "code",
   "execution_count": null,
   "id": "485f7824",
   "metadata": {},
   "outputs": [],
   "source": [
    "# 33. Function to check if a string is a palindrome.\n",
    "def is_palindrome_str(s):\n",
    "    return s == s[::-1]\n",
    "\n",
    "\n",
    "text = input('Enter a string: ')\n",
    "print('Palindrome' if is_palindrome_str(text) else 'Not Palindrome')"
   ]
  },
  {
   "cell_type": "code",
   "execution_count": null,
   "id": "c9e7a022",
   "metadata": {},
   "outputs": [],
   "source": [
    "# 34. Function to calculate factorial using a loop.\n",
    "def factorial(n):\n",
    "    result = 1\n",
    "    for i in range(1, n + 1):\n",
    "        result *= i\n",
    "    return result\n",
    "\n",
    "num = int(input('Enter a number: '))\n",
    "print('Factorial:', factorial(num))"
   ]
  },
  {
   "cell_type": "code",
   "execution_count": null,
   "id": "36c0d8b6",
   "metadata": {},
   "outputs": [],
   "source": [
    "# 35. Function to print the first n terms of the Fibonacci series.\n",
    "def fibonacci(n):\n",
    "    a, b = 0, 1\n",
    "    for _ in range(n):\n",
    "        print(a, end=' ')\n",
    "        a, b = b, a + b\n",
    "\n",
    "\n",
    "num = int(input('Enter number of terms: '))\n",
    "fibonacci(num)"
   ]
  },
  {
   "cell_type": "code",
   "execution_count": null,
   "id": "13ef1237",
   "metadata": {},
   "outputs": [],
   "source": [
    "# 36. Function to check if a number is an Armstrong number.\n",
    "def is_armstrong(n):\n",
    "    digits = str(n)\n",
    "    power = len(digits)\n",
    "    total = sum(int(d)**power for d in digits)\n",
    "    return total == n\n",
    "\n",
    "\n",
    "num = int(input('Enter a number: '))\n",
    "print('Armstrong' if is_armstrong(num) else 'Not Armstrong')"
   ]
  },
  {
   "cell_type": "code",
   "execution_count": null,
   "id": "e2d328ca",
   "metadata": {},
   "outputs": [],
   "source": [
    "# 37. Function to calculate the sum of digits of a number.\n",
    "def sum_of_digits(n):\n",
    "    return sum(int(d) for d in str(n))\n",
    "\n",
    "\n",
    "num = int(input('Enter a number: '))\n",
    "print('Sum of digits:', sum_of_digits(num))"
   ]
  },
  {
   "cell_type": "code",
   "execution_count": null,
   "id": "3000956e",
   "metadata": {},
   "outputs": [],
   "source": [
    "# 38. Function to reverse a number.\n",
    "def reverse_number(n):\n",
    "    return int(str(n)[::-1])\n",
    "\n",
    "\n",
    "num = int(input('Enter a number: '))\n",
    "print('Reversed:', reverse_number(num))"
   ]
  },
  {
   "cell_type": "code",
   "execution_count": null,
   "id": "829a5561",
   "metadata": {},
   "outputs": [],
   "source": [
    "# 39. Function to count the number of vowels in a string.\n",
    "def count_vowels(s):\n",
    "    vowels = 'aeiouAEIOU'\n",
    "    return sum(1 for char in s if char in vowels)\n",
    "\n",
    "\n",
    "text = input('Enter a string: ')\n",
    "print('Number of vowels:', count_vowels(text))"
   ]
  },
  {
   "cell_type": "code",
   "execution_count": null,
   "id": "f154b9c2",
   "metadata": {},
   "outputs": [],
   "source": [
    "# 40. Function to find the GCD of two numbers using a loop.\n",
    "def gcd(a, b):\n",
    "    while b != 0:\n",
    "        a, b = b, a % b\n",
    "    return a\n",
    "\n",
    "\n",
    "x = int(input('Enter first number: '))\n",
    "y = int(input('Enter second number: '))\n",
    "print('GCD:', gcd(x, y))"
   ]
  }
 ],
 "metadata": {
  "kernelspec": {
   "display_name": "base",
   "language": "python",
   "name": "python3"
  },
  "language_info": {
   "codemirror_mode": {
    "name": "ipython",
    "version": 3
   },
   "file_extension": ".py",
   "mimetype": "text/x-python",
   "name": "python",
   "nbconvert_exporter": "python",
   "pygments_lexer": "ipython3",
   "version": "3.12.2"
  }
 },
 "nbformat": 4,
 "nbformat_minor": 5
}
