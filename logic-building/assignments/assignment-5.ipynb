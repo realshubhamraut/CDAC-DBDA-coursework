{
 "cells": [
  {
   "cell_type": "code",
   "execution_count": null,
   "id": "0d50149b",
   "metadata": {},
   "outputs": [],
   "source": [
    "# Q1. Write a function that repeatedly replaces a number with the sum of the squares of its digits until it becomes a single digit.\n",
    "def sum_of_squares_digits(n):\n",
    "    while n > 9:\n",
    "        n = sum(int(d)**2 for d in str(n))\n",
    "    return n\n",
    "print(sum_of_squares_digits(123))"
   ]
  },
  {
   "cell_type": "code",
   "execution_count": null,
   "id": "6385dd10",
   "metadata": {},
   "outputs": [],
   "source": [
    "# Q2. Write a function to find the nth Fibonacci number using recursion.\n",
    "def fibonacci(n):\n",
    "    if n <= 0:\n",
    "        return 0\n",
    "    elif n == 1:\n",
    "        return 1\n",
    "    else:\n",
    "        return fibonacci(n-1) + fibonacci(n-2)\n",
    "print(fibonacci(7)) "
   ]
  },
  {
   "cell_type": "code",
   "execution_count": null,
   "id": "06d9ec24",
   "metadata": {},
   "outputs": [],
   "source": [
    "# Q3. Write a program to count how many numbers between 1 and 100 are palindromes.\n",
    "def is_palindrome(n):\n",
    "    s = str(n)\n",
    "    return s == s[::-1]\n",
    "palindrome_count = sum(1 for i in range(1, 101) if is_palindrome(i))\n",
    "print(palindrome_count)\n"
   ]
  },
  {
   "cell_type": "code",
   "execution_count": null,
   "id": "52d912e0",
   "metadata": {},
   "outputs": [],
   "source": [
    "# Q4. Write a program to find the smallest and largest numbers in a given list without using built-in min/max.\n",
    "def min_max(lst):\n",
    "    smallest = largest = lst[0]\n",
    "    for num in lst[1:]:\n",
    "        if num < smallest:\n",
    "            smallest = num\n",
    "        if num > largest:\n",
    "            largest = num\n",
    "    return smallest, largest\n",
    "print(min_max([5, 2, 9, 1, 7]))"
   ]
  },
  {
   "cell_type": "code",
   "execution_count": null,
   "id": "d2a8d45d",
   "metadata": {},
   "outputs": [],
   "source": [
    "# Q5. Write a function to check whether a given number is a Kaprekar number.\n",
    "def is_kaprekar(n):\n",
    "    sq = str(n**2)\n",
    "    d = len(str(n))\n",
    "    right = int(sq[-d:]) if sq[-d:] else 0\n",
    "    left = int(sq[:-d]) if sq[:-d] else 0\n",
    "    return n == left + right\n",
    "print(is_kaprekar(45))\n",
    "print(is_kaprekar(9)) "
   ]
  },
  {
   "cell_type": "code",
   "execution_count": null,
   "id": "ca41677d",
   "metadata": {},
   "outputs": [],
   "source": [
    "# Q6. Write a program to find all unique substrings of a given string.\n",
    "def unique_substrings(s):\n",
    "    substrings = set()\n",
    "    for i in range(len(s)):\n",
    "        for j in range(i+1, len(s)+1):\n",
    "            substrings.add(s[i:j])\n",
    "    return substrings\n",
    "print(unique_substrings('abc'))\n"
   ]
  },
  {
   "cell_type": "code",
   "execution_count": null,
   "id": "b40761ab",
   "metadata": {},
   "outputs": [],
   "source": [
    "# Q7. Write a function to reverse each word in a sentence without changing the word order.\n",
    "def reverse_each_word(sentence):\n",
    "    return ' '.join(word[::-1] for word in sentence.split())\n",
    "print(reverse_each_word('Python is fun'))\n"
   ]
  },
  {
   "cell_type": "code",
   "execution_count": null,
   "id": "5e0de9d8",
   "metadata": {},
   "outputs": [],
   "source": [
    "\n",
    "# Q8. Write a function to check if a string is a pangram.\n",
    "def is_pangram(s):\n",
    "    alphabet = set('abcdefghijklmnopqrstuvwxyz')\n",
    "    return alphabet <= set(s.lower())\n",
    "print(is_pangram('The quick brown fox jumps over the lazy dog'))  # True"
   ]
  },
  {
   "cell_type": "code",
   "execution_count": null,
   "id": "a48fb8f6",
   "metadata": {},
   "outputs": [],
   "source": [
    "# Q9. Write a program to count the number of words, digits, and special characters in a string.\n",
    "def count_types(s):\n",
    "    words = len(s.split())\n",
    "    digits = sum(c.isdigit() for c in s)\n",
    "    specials = sum(not c.isalnum() and not c.isspace() for c in s)\n",
    "    return {'words': words, 'digits': digits, 'specials': specials}\n",
    "print(count_types('Hello 123! How are you?'))"
   ]
  },
  {
   "cell_type": "code",
   "execution_count": null,
   "id": "0aee5a01",
   "metadata": {},
   "outputs": [],
   "source": [
    "# Q10. Write a function to compress a string using counts of repeated characters.\n",
    "def compress_string(s):\n",
    "    if not s:\n",
    "        return ''\n",
    "    result = ''\n",
    "    count = 1\n",
    "    for i in range(1, len(s)):\n",
    "        if s[i] == s[i-1]:\n",
    "            count += 1\n",
    "        else:\n",
    "            result += s[i-1] + str(count)\n",
    "            count = 1\n",
    "    result += s[-1] + str(count)\n",
    "    return result\n",
    "print(compress_string('aaabbcadd'))\n"
   ]
  },
  {
   "cell_type": "code",
   "execution_count": null,
   "id": "f093b5e2",
   "metadata": {},
   "outputs": [],
   "source": [
    "# Q11. Write a program to print an inverted pyramid of stars. (For n=5)\n",
    "def inverted_pyramid(n):\n",
    "    for i in range(n, 0, -1):\n",
    "        print(' ' * (n - i) + '*' * (2 * i - 1))\n",
    "inverted_pyramid(5)"
   ]
  },
  {
   "cell_type": "code",
   "execution_count": null,
   "id": "f051b571",
   "metadata": {},
   "outputs": [],
   "source": [
    "# Q12. Write a program to generate a diamond-shaped star pattern. (For n=3)\n",
    "def diamond(n):\n",
    "    for i in range(1, n+1):\n",
    "        print(' ' * (n-i) + '*' * (2*i-1))\n",
    "    for i in range(n-1, 0, -1):\n",
    "        print(' ' * (n-i) + '*' * (2*i-1))\n",
    "diamond(3)"
   ]
  },
  {
   "cell_type": "code",
   "execution_count": null,
   "id": "3b40c45a",
   "metadata": {},
   "outputs": [],
   "source": [
    "# Q13. Write a function to print a spiral matrix of size n * n. (For n=3)\n",
    "def spiral_matrix(n):\n",
    "    matrix = [[0]*n for _ in range(n)]\n",
    "    num = 1\n",
    "    left, right, top, bottom = 0, n-1, 0, n-1\n",
    "    while left <= right and top <= bottom:\n",
    "        for i in range(left, right+1):\n",
    "            matrix[top][i] = num\n",
    "            num += 1\n",
    "        top += 1\n",
    "        for i in range(top, bottom+1):\n",
    "            matrix[i][right] = num\n",
    "            num += 1\n",
    "        right -= 1\n",
    "        if top <= bottom:\n",
    "            for i in range(right, left-1, -1):\n",
    "                matrix[bottom][i] = num\n",
    "                num += 1\n",
    "            bottom -= 1\n",
    "        if left <= right:\n",
    "            for i in range(bottom, top-1, -1):\n",
    "                matrix[i][left] = num\n",
    "                num += 1\n",
    "            left += 1\n",
    "    for row in matrix:\n",
    "        print(' '.join(str(x) for x in row))\n",
    "spiral_matrix(3)"
   ]
  },
  {
   "cell_type": "code",
   "execution_count": null,
   "id": "bb55890b",
   "metadata": {},
   "outputs": [],
   "source": [
    "# Q14. Write a function to check if a Sudoku row, column, or grid is valid. (Input: list of 9 numbers)\n",
    "def is_valid_sudoku(lst):\n",
    "    nums = [x for x in lst if x != 0]\n",
    "    return len(nums) == len(set(nums)) and all(1 <= x <= 9 for x in nums)\n",
    "print(is_valid_sudoku([5,3,0,0,7,0,0,0,0]))\n",
    "print(is_valid_sudoku([5,3,3,0,7,0,0,0,0])) "
   ]
  },
  {
   "cell_type": "code",
   "execution_count": null,
   "id": "285e9991",
   "metadata": {},
   "outputs": [],
   "source": [
    "# Q15. Write a program to create a number pyramid where each row contains consecutive integers. (For n=4)\n",
    "def number_pyramid(n):\n",
    "    num = 1\n",
    "    for i in range(1, n+1):\n",
    "        print(' '.join(str(num + j) for j in range(i)))\n",
    "        num += i\n",
    "number_pyramid(4)"
   ]
  }
 ],
 "metadata": {
  "language_info": {
   "name": "python"
  }
 },
 "nbformat": 4,
 "nbformat_minor": 5
}
