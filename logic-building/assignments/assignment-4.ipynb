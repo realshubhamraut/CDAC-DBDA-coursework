{
 "cells": [
  {
   "cell_type": "code",
   "execution_count": null,
   "id": "a1540301",
   "metadata": {},
   "outputs": [],
   "source": [
    "# # Write a function to print all prime numbers between two numbers.\n",
    "\n",
    "# prime = 2,3,5,7,9,11,13,17\n",
    "\n"
   ]
  },
  {
   "cell_type": "code",
   "execution_count": null,
   "id": "b8c648d9",
   "metadata": {},
   "outputs": [],
   "source": [
    "def prime():\n",
    "    "
   ]
  },
  {
   "cell_type": "markdown",
   "id": "85afae6e",
   "metadata": {},
   "source": []
  }
 ],
 "metadata": {
  "language_info": {
   "name": "python"
  }
 },
 "nbformat": 4,
 "nbformat_minor": 5
}
