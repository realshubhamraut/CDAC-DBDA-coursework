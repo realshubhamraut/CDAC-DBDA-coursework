{
 "cells": [
  {
   "cell_type": "code",
   "execution_count": 1,
   "id": "3aed023b",
   "metadata": {},
   "outputs": [],
   "source": [
    "# Q1. Write a function to print all prime numbers between two numbers.\n",
    "def is_prime(n):\n",
    "    if n < 2:\n",
    "        return False\n",
    "    for i in range(2, int(n**0.5)+1):\n",
    "        if n % i == 0:\n",
    "            return False\n",
    "    return True"
   ]
  },
  {
   "cell_type": "code",
   "execution_count": 2,
   "id": "14799ce8",
   "metadata": {},
   "outputs": [
    {
     "name": "stdout",
     "output_type": "stream",
     "text": [
      "11 13 17 19 23 29 31 37 41 43 47 "
     ]
    }
   ],
   "source": [
    "def print_primes_between(a, b):\n",
    "    for num in range(a, b+1):\n",
    "        if is_prime(num):\n",
    "            print(num, end=' ')\n",
    "\n",
    "\n",
    "print_primes_between(10, 50)"
   ]
  },
  {
   "cell_type": "code",
   "execution_count": 3,
   "id": "624462e2",
   "metadata": {},
   "outputs": [
    {
     "name": "stdout",
     "output_type": "stream",
     "text": [
      "True\n",
      "False\n"
     ]
    }
   ],
   "source": [
    "# Q2. Write a program to check whether a number is a perfect number (sum of its divisors = number).\n",
    "def is_perfect(n):\n",
    "    divisors_sum = sum(i for i in range(1, n) if n % i == 0)\n",
    "    return divisors_sum == n\n",
    "print(is_perfect(28)) \n",
    "print(is_perfect(12)) \n"
   ]
  },
  {
   "cell_type": "code",
   "execution_count": 5,
   "id": "2ff6d8ca",
   "metadata": {},
   "outputs": [],
   "source": [
    "num = 8129\n",
    "sum = 0\n",
    "for i in range(1, num):\n",
    "    if num % i == 0:\n",
    "        sum = sum + i\n",
    "if num == sum:\n",
    "    print('perfect')"
   ]
  },
  {
   "cell_type": "code",
   "execution_count": null,
   "id": "34ce0dfd",
   "metadata": {},
   "outputs": [],
   "source": []
  },
  {
   "cell_type": "code",
   "execution_count": 4,
   "id": "68655ee2",
   "metadata": {},
   "outputs": [
    {
     "name": "stdout",
     "output_type": "stream",
     "text": [
      "[1, 2, 3, 4, 5, 6, 7, 8, 9, 153, 370, 371, 407]\n"
     ]
    }
   ],
   "source": [
    "# Q3. Find all Armstrong numbers between 1 and 1000.\n",
    "def is_armstrong(n):\n",
    "    digits = str(n)\n",
    "    power = len(digits)\n",
    "    return n == sum(int(d)**power for d in digits)\n",
    "armstrong_numbers = [x for x in range(1, 1001) if is_armstrong(x)]\n",
    "print(armstrong_numbers)\n"
   ]
  },
  {
   "cell_type": "code",
   "execution_count": 5,
   "id": "f4d37b49",
   "metadata": {},
   "outputs": [
    {
     "name": "stdout",
     "output_type": "stream",
     "text": [
      "True\n",
      "False\n"
     ]
    }
   ],
   "source": [
    "# Q4. Write a program to check whether a number is a strong number (sum of factorial of digits = number).\n",
    "def factorial(n):\n",
    "    result = 1\n",
    "    for i in range(2, n+1):\n",
    "        result *= i\n",
    "    return result\n",
    "\n",
    "def is_strong(n):\n",
    "    return n == sum(factorial(int(d)) for d in str(n))\n",
    "print(is_strong(145)) \n",
    "print(is_strong(123))"
   ]
  },
  {
   "cell_type": "code",
   "execution_count": 6,
   "id": "02cc8f4d",
   "metadata": {},
   "outputs": [
    {
     "name": "stdout",
     "output_type": "stream",
     "text": [
      "[2, 3, 5, 7, 11, 13, 17, 19, 23, 29]\n"
     ]
    }
   ],
   "source": [
    "# Q5. Write a function to generate the first n prime numbers.\n",
    "def first_n_primes(n):\n",
    "    primes = []\n",
    "    num = 2\n",
    "    while len(primes) < n:\n",
    "        if is_prime(num):\n",
    "            primes.append(num)\n",
    "        num += 1\n",
    "    return primes\n",
    "print(first_n_primes(10))"
   ]
  },
  {
   "cell_type": "code",
   "execution_count": 7,
   "id": "c37c5cfc",
   "metadata": {},
   "outputs": [
    {
     "name": "stdout",
     "output_type": "stream",
     "text": [
      "[2, 3, 5, 7, 11, 13, 17, 19, 23, 29]\n"
     ]
    }
   ],
   "source": [
    "# Q5. Write a function to generate the first n prime numbers.\n",
    "def first_n_primes(n):\n",
    "    primes = []\n",
    "    num = 2\n",
    "    while len(primes) < n:\n",
    "        if is_prime(num):\n",
    "            primes.append(num)\n",
    "        num += 1\n",
    "    return primes\n",
    "print(first_n_primes(10))"
   ]
  },
  {
   "cell_type": "code",
   "execution_count": 8,
   "id": "d43ca82f",
   "metadata": {},
   "outputs": [
    {
     "name": "stdout",
     "output_type": "stream",
     "text": [
      "36\n"
     ]
    }
   ],
   "source": [
    "# Q6. Write a program to find the LCM (Least Common Multiple) of two numbers.\n",
    "def lcm(a, b):\n",
    "    greater = max(a, b)\n",
    "    while True:\n",
    "        if greater % a == 0 and greater % b == 0:\n",
    "            return greater\n",
    "        greater += 1\n",
    "print(lcm(12, 18)) "
   ]
  },
  {
   "cell_type": "code",
   "execution_count": 9,
   "id": "8460e18a",
   "metadata": {},
   "outputs": [
    {
     "name": "stdout",
     "output_type": "stream",
     "text": [
      "6\n"
     ]
    }
   ],
   "source": [
    "# Q7. Write a function that returns the HCF (GCD) of a list of numbers.\n",
    "def gcd(a, b):\n",
    "    while b:\n",
    "        a, b = b, a % b\n",
    "    return a\n",
    "\n",
    "def list_gcd(numbers):\n",
    "    from functools import reduce\n",
    "    return reduce(gcd, numbers)\n",
    "print(list_gcd([12, 18, 24])) "
   ]
  },
  {
   "cell_type": "code",
   "execution_count": 10,
   "id": "55bd12be",
   "metadata": {},
   "outputs": [
    {
     "name": "stdout",
     "output_type": "stream",
     "text": [
      "1 2 4 7 14 28 "
     ]
    }
   ],
   "source": [
    "# Q8. Write a function to print all factors of a number.\n",
    "def print_factors(n):\n",
    "    for i in range(1, n+1):\n",
    "        if n % i == 0:\n",
    "            print(i, end=' ')\n",
    "print_factors(28)"
   ]
  },
  {
   "cell_type": "code",
   "execution_count": 11,
   "id": "62354166",
   "metadata": {},
   "outputs": [
    {
     "name": "stdout",
     "output_type": "stream",
     "text": [
      "True\n",
      "False\n"
     ]
    }
   ],
   "source": [
    "# Q9. Write a function to check whether a number is Harshad (Niven) number (divisible by sum of its digits).\n",
    "def is_harshad(n):\n",
    "    digit_sum = sum(int(d) for d in str(n))\n",
    "    return n % digit_sum == 0\n",
    "print(is_harshad(18))  # True\n",
    "print(is_harshad(19))  # False"
   ]
  },
  {
   "cell_type": "code",
   "execution_count": 12,
   "id": "ef59e2c3",
   "metadata": {},
   "outputs": [
    {
     "name": "stdout",
     "output_type": "stream",
     "text": [
      "14\n"
     ]
    }
   ],
   "source": [
    "# Q10. Write a function to find the sum of squares of digits of a number.\n",
    "def sum_of_squares(n):\n",
    "    return sum(int(d)**2 for d in str(n))\n",
    "print(sum_of_squares(123)) "
   ]
  },
  {
   "cell_type": "code",
   "execution_count": 1,
   "id": "a9c49dbd",
   "metadata": {},
   "outputs": [
    {
     "name": "stdout",
     "output_type": "stream",
     "text": [
      "without vowels hll wlrd\n"
     ]
    }
   ],
   "source": [
    "# Q11. Write a function to remove all vowels from a string.\n",
    "def rem_vowels(s):\n",
    "    vowels = 'AEIOUaieou'\n",
    "    result = ''\n",
    "    for i in s:\n",
    "        if i not in vowels:\n",
    "            result = result + i\n",
    "    return result\n",
    "\n",
    "s = str(input())\n",
    "print('without vowels', rem_vowels(s))"
   ]
  },
  {
   "cell_type": "code",
   "execution_count": 14,
   "id": "52766719",
   "metadata": {},
   "outputs": [
    {
     "name": "stdout",
     "output_type": "stream",
     "text": [
      "True\n",
      "False\n"
     ]
    }
   ],
   "source": [
    "# Q12. Write a program to check whether two strings are anagrams of each other.\n",
    "def are_anagrams(s1, s2):\n",
    "    return sorted(s1.replace(' ', '').lower()) == sorted(s2.replace(' ', '').lower())\n",
    "print(are_anagrams('listen', 'silent')) \n",
    "print(are_anagrams('hello', 'world')) "
   ]
  },
  {
   "cell_type": "code",
   "execution_count": 15,
   "id": "4660c6d5",
   "metadata": {},
   "outputs": [
    {
     "name": "stdout",
     "output_type": "stream",
     "text": [
      "{'b': 1, 'a': 3, 'n': 2}\n"
     ]
    }
   ],
   "source": [
    "# Q13. Write a function to count the frequency of each character in a string (dictionary output).\n",
    "def char_frequency(s):\n",
    "    freq = {}\n",
    "    for c in s:\n",
    "        freq[c] = freq.get(c, 0) + 1\n",
    "    return freq\n",
    "print(char_frequency('banana'))"
   ]
  },
  {
   "cell_type": "code",
   "execution_count": 16,
   "id": "1ac3d42a",
   "metadata": {},
   "outputs": [
    {
     "name": "stdout",
     "output_type": "stream",
     "text": [
      "programming\n"
     ]
    }
   ],
   "source": [
    "# Q14. Write a program to find the longest word in a given sentence.\n",
    "def longest_word(sentence):\n",
    "    words = sentence.split()\n",
    "    return max(words, key=len)\n",
    "print(longest_word('Python is a powerful programming language'))  "
   ]
  },
  {
   "cell_type": "code",
   "execution_count": 17,
   "id": "df211529",
   "metadata": {},
   "outputs": [
    {
     "name": "stdout",
     "output_type": "stream",
     "text": [
      "{'uppercase': 2, 'lowercase': 8}\n"
     ]
    }
   ],
   "source": [
    "# Q15. Write a function to count uppercase and lowercase letters in a string.\n",
    "def count_case(s):\n",
    "    upper = sum(1 for c in s if c.isupper())\n",
    "    lower = sum(1 for c in s if c.islower())\n",
    "    return {'uppercase': upper, 'lowercase': lower}\n",
    "print(count_case('Hello World!')) "
   ]
  },
  {
   "cell_type": "code",
   "execution_count": 18,
   "id": "8c98b6d3",
   "metadata": {},
   "outputs": [
    {
     "name": "stdout",
     "output_type": "stream",
     "text": [
      "*\n",
      "**\n",
      "***\n",
      "****\n",
      "*****\n"
     ]
    }
   ],
   "source": [
    "# Q16. Write a program to print a right-angled triangle pattern with *.\n",
    "def right_angled_triangle(rows):\n",
    "    for i in range(1, rows+1):\n",
    "        print('*' * i)\n",
    "right_angled_triangle(5)"
   ]
  },
  {
   "cell_type": "code",
   "execution_count": 19,
   "id": "899f8573",
   "metadata": {},
   "outputs": [
    {
     "name": "stdout",
     "output_type": "stream",
     "text": [
      "    1\n",
      "   1 2\n",
      "  1 2 3\n",
      " 1 2 3 4\n",
      "1 2 3 4 5\n"
     ]
    }
   ],
   "source": [
    "# Q17. Write a program to print a pyramid of numbers.\n",
    "def number_pyramid(rows):\n",
    "    for i in range(1, rows+1):\n",
    "        print(' ' * (rows-i) + ' '.join(str(j) for j in range(1, i+1)))\n",
    "number_pyramid(5)"
   ]
  },
  {
   "cell_type": "code",
   "execution_count": 20,
   "id": "c56e68a1",
   "metadata": {},
   "outputs": [
    {
     "name": "stdout",
     "output_type": "stream",
     "text": [
      "      1\n",
      "     1 1\n",
      "    1 2 1\n",
      "   1 3 3 1\n",
      "  1 4 6 4 1\n"
     ]
    }
   ],
   "source": [
    "# Q18. Write a function to print the first n rows of Pascal's Triangle.\n",
    "def pascals_triangle(n):\n",
    "    for row in range(n):\n",
    "        val = 1\n",
    "        line = []\n",
    "        for col in range(row+1):\n",
    "            line.append(str(val))\n",
    "            val = val * (row - col) // (col + 1) if col < row else 1\n",
    "        print(' ' * (n-row), ' '.join(line))\n",
    "pascals_triangle(5)"
   ]
  },
  {
   "cell_type": "code",
   "execution_count": 21,
   "id": "87f96307",
   "metadata": {},
   "outputs": [
    {
     "name": "stdout",
     "output_type": "stream",
     "text": [
      "  1   2   3   4   5 \n",
      "  2   4   6   8  10 \n",
      "  3   6   9  12  15 \n",
      "  4   8  12  16  20 \n",
      "  5  10  15  20  25 \n"
     ]
    }
   ],
   "source": [
    "# Q19. Write a function to generate a multiplication table of size n x n (nested loop).\n",
    "def multiplication_table(n):\n",
    "    for i in range(1, n+1):\n",
    "        for j in range(1, n+1):\n",
    "            print(f'{i*j:3}', end=' ')\n",
    "        print()\n",
    "multiplication_table(5)"
   ]
  },
  {
   "cell_type": "code",
   "execution_count": 22,
   "id": "52f0d4cb",
   "metadata": {},
   "outputs": [
    {
     "name": "stdout",
     "output_type": "stream",
     "text": [
      "1\n",
      "22\n",
      "333\n",
      "4444\n"
     ]
    }
   ],
   "source": [
    "# Q20. Write a function to print the following pattern:\n",
    "# 1\n",
    "# 22\n",
    "# 333\n",
    "# 4444\n",
    "def number_pattern(n):\n",
    "    for i in range(1, n+1):\n",
    "        print(str(i) * i)\n",
    "number_pattern(4)"
   ]
  }
 ],
 "metadata": {
  "kernelspec": {
   "display_name": "base",
   "language": "python",
   "name": "python3"
  },
  "language_info": {
   "codemirror_mode": {
    "name": "ipython",
    "version": 3
   },
   "file_extension": ".py",
   "mimetype": "text/x-python",
   "name": "python",
   "nbconvert_exporter": "python",
   "pygments_lexer": "ipython3",
   "version": "3.12.2"
  }
 },
 "nbformat": 4,
 "nbformat_minor": 5
}
