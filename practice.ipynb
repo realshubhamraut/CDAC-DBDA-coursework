{
 "cells": [
  {
   "cell_type": "code",
   "execution_count": 1,
   "id": "b3e53c7f",
   "metadata": {},
   "outputs": [],
   "source": [
    "my_string = 'qwertyiouppoiu'"
   ]
  },
  {
   "cell_type": "code",
   "execution_count": 2,
   "id": "7e47f0a1",
   "metadata": {},
   "outputs": [
    {
     "name": "stdout",
     "output_type": "stream",
     "text": [
      "qwertyiouppoiu\n"
     ]
    }
   ],
   "source": [
    "print(my_string)"
   ]
  },
  {
   "cell_type": "code",
   "execution_count": 3,
   "id": "a71cc6b4",
   "metadata": {},
   "outputs": [
    {
     "data": {
      "text/plain": [
       "'r'"
      ]
     },
     "execution_count": 3,
     "metadata": {},
     "output_type": "execute_result"
    }
   ],
   "source": [
    "my_string[3]"
   ]
  },
  {
   "cell_type": "code",
   "execution_count": 4,
   "id": "dcdfbb88",
   "metadata": {},
   "outputs": [
    {
     "data": {
      "text/plain": [
       "'u'"
      ]
     },
     "execution_count": 4,
     "metadata": {},
     "output_type": "execute_result"
    }
   ],
   "source": [
    "my_string[-1:]"
   ]
  },
  {
   "cell_type": "code",
   "execution_count": 5,
   "id": "599ef66c",
   "metadata": {},
   "outputs": [
    {
     "data": {
      "text/plain": [
       "'qwert'"
      ]
     },
     "execution_count": 5,
     "metadata": {},
     "output_type": "execute_result"
    }
   ],
   "source": [
    "my_string[:5]"
   ]
  },
  {
   "cell_type": "code",
   "execution_count": 6,
   "id": "136cdf65",
   "metadata": {},
   "outputs": [
    {
     "data": {
      "text/plain": [
       "'ppoiu'"
      ]
     },
     "execution_count": 6,
     "metadata": {},
     "output_type": "execute_result"
    }
   ],
   "source": [
    "my_string[-5:]"
   ]
  },
  {
   "cell_type": "code",
   "execution_count": 7,
   "id": "ab80585e",
   "metadata": {},
   "outputs": [
    {
     "data": {
      "text/plain": [
       "'qetiupi'"
      ]
     },
     "execution_count": 7,
     "metadata": {},
     "output_type": "execute_result"
    }
   ],
   "source": [
    "my_string[::2]"
   ]
  },
  {
   "cell_type": "code",
   "execution_count": 8,
   "id": "e4c0f6e1",
   "metadata": {},
   "outputs": [
    {
     "data": {
      "text/plain": [
       "'uioppuoiytrewq'"
      ]
     },
     "execution_count": 8,
     "metadata": {},
     "output_type": "execute_result"
    }
   ],
   "source": [
    "my_string[::-1]"
   ]
  },
  {
   "cell_type": "code",
   "execution_count": 9,
   "id": "c49f6061",
   "metadata": {},
   "outputs": [
    {
     "data": {
      "text/plain": [
       "'qw'"
      ]
     },
     "execution_count": 9,
     "metadata": {},
     "output_type": "execute_result"
    }
   ],
   "source": [
    "my_string[:2]"
   ]
  },
  {
   "cell_type": "code",
   "execution_count": 10,
   "id": "0c2fe104",
   "metadata": {},
   "outputs": [
    {
     "data": {
      "text/plain": [
       "'ouppo'"
      ]
     },
     "execution_count": 10,
     "metadata": {},
     "output_type": "execute_result"
    }
   ],
   "source": [
    "my_string[7:12]"
   ]
  },
  {
   "cell_type": "code",
   "execution_count": 11,
   "id": "a6fe964f",
   "metadata": {},
   "outputs": [
    {
     "data": {
      "text/plain": [
       "'oiu'"
      ]
     },
     "execution_count": 11,
     "metadata": {},
     "output_type": "execute_result"
    }
   ],
   "source": [
    "my_string[-3:]"
   ]
  },
  {
   "cell_type": "code",
   "execution_count": 12,
   "id": "276f82a9",
   "metadata": {},
   "outputs": [
    {
     "data": {
      "text/plain": [
       "'qripi'"
      ]
     },
     "execution_count": 12,
     "metadata": {},
     "output_type": "execute_result"
    }
   ],
   "source": [
    "my_string[::3]"
   ]
  },
  {
   "cell_type": "code",
   "execution_count": 13,
   "id": "b64e517a",
   "metadata": {},
   "outputs": [
    {
     "data": {
      "text/plain": [
       "'learning is fun'"
      ]
     },
     "execution_count": 13,
     "metadata": {},
     "output_type": "execute_result"
    }
   ],
   "source": [
    "new_string = 'learning is fun'\n",
    "new_string"
   ]
  },
  {
   "cell_type": "code",
   "execution_count": 14,
   "id": "fbdd43bc",
   "metadata": {},
   "outputs": [],
   "source": [
    "full_string = new_string + my_string"
   ]
  },
  {
   "cell_type": "code",
   "execution_count": 15,
   "id": "fcd0402a",
   "metadata": {},
   "outputs": [
    {
     "data": {
      "text/plain": [
       "'learning is funqwertyiouppoiu'"
      ]
     },
     "execution_count": 15,
     "metadata": {},
     "output_type": "execute_result"
    }
   ],
   "source": [
    "full_string"
   ]
  },
  {
   "cell_type": "code",
   "execution_count": 16,
   "id": "70455970",
   "metadata": {},
   "outputs": [],
   "source": [
    "my_string = 'python is easy to learn'"
   ]
  },
  {
   "cell_type": "code",
   "execution_count": 17,
   "id": "90c3c6b9",
   "metadata": {},
   "outputs": [
    {
     "data": {
      "text/plain": [
       "'python is easy to learn'"
      ]
     },
     "execution_count": 17,
     "metadata": {},
     "output_type": "execute_result"
    }
   ],
   "source": [
    "my_string"
   ]
  },
  {
   "cell_type": "code",
   "execution_count": 19,
   "id": "f3b0bfd2",
   "metadata": {},
   "outputs": [
    {
     "data": {
      "text/plain": [
       "23"
      ]
     },
     "execution_count": 19,
     "metadata": {},
     "output_type": "execute_result"
    }
   ],
   "source": [
    "len(my_string)"
   ]
  },
  {
   "cell_type": "code",
   "execution_count": 20,
   "id": "4925a0b2",
   "metadata": {},
   "outputs": [
    {
     "data": {
      "text/plain": [
       "'PYTHON IS EASY TO LEARN'"
      ]
     },
     "execution_count": 20,
     "metadata": {},
     "output_type": "execute_result"
    }
   ],
   "source": [
    "my_string.upper()"
   ]
  },
  {
   "cell_type": "code",
   "execution_count": 22,
   "id": "7eae46be",
   "metadata": {},
   "outputs": [
    {
     "data": {
      "text/plain": [
       "'python is powerful to learn'"
      ]
     },
     "execution_count": 22,
     "metadata": {},
     "output_type": "execute_result"
    }
   ],
   "source": [
    "my_string.replace('easy', 'powerful')"
   ]
  },
  {
   "cell_type": "code",
   "execution_count": 23,
   "id": "177f5f8b",
   "metadata": {},
   "outputs": [
    {
     "data": {
      "text/plain": [
       "'jane.doe@example.com'"
      ]
     },
     "execution_count": 23,
     "metadata": {},
     "output_type": "execute_result"
    }
   ],
   "source": [
    "email = 'jane.doe@example.com'\n",
    "email"
   ]
  },
  {
   "cell_type": "code",
   "execution_count": 25,
   "id": "a2f71bfa",
   "metadata": {},
   "outputs": [
    {
     "data": {
      "text/plain": [
       "'jane.doe'"
      ]
     },
     "execution_count": 25,
     "metadata": {},
     "output_type": "execute_result"
    }
   ],
   "source": [
    "username = email.split('@')[0]\n",
    "username"
   ]
  },
  {
   "cell_type": "code",
   "execution_count": 27,
   "id": "6aecd19b",
   "metadata": {},
   "outputs": [
    {
     "data": {
      "text/plain": [
       "'example.com'"
      ]
     },
     "execution_count": 27,
     "metadata": {},
     "output_type": "execute_result"
    }
   ],
   "source": [
    "domain = email.split('@')[1]\n",
    "domain"
   ]
  },
  {
   "cell_type": "code",
   "execution_count": 30,
   "id": "6a0b6b03",
   "metadata": {},
   "outputs": [
    {
     "data": {
      "text/plain": [
       "'jane.doe@mycompany.com'"
      ]
     },
     "execution_count": 30,
     "metadata": {},
     "output_type": "execute_result"
    }
   ],
   "source": [
    "new_domain = 'mycompany.com'\n",
    "new_email = username + '@'+new_domain\n",
    "new_email"
   ]
  },
  {
   "cell_type": "code",
   "execution_count": 31,
   "id": "0a28a1b2",
   "metadata": {},
   "outputs": [],
   "source": [
    "my_string = 'python is fun'"
   ]
  },
  {
   "cell_type": "code",
   "execution_count": 34,
   "id": "ac47d6e6",
   "metadata": {},
   "outputs": [
    {
     "data": {
      "text/plain": [
       "True"
      ]
     },
     "execution_count": 34,
     "metadata": {},
     "output_type": "execute_result"
    }
   ],
   "source": [
    "'is' in my_string"
   ]
  },
  {
   "cell_type": "code",
   "execution_count": 35,
   "id": "bcb7dcc3",
   "metadata": {},
   "outputs": [
    {
     "data": {
      "text/plain": [
       "False"
      ]
     },
     "execution_count": 35,
     "metadata": {},
     "output_type": "execute_result"
    }
   ],
   "source": [
    "'Java' in my_string"
   ]
  },
  {
   "cell_type": "code",
   "execution_count": 36,
   "id": "f87c472b",
   "metadata": {},
   "outputs": [
    {
     "data": {
      "text/plain": [
       "['python', 'is', 'fun']"
      ]
     },
     "execution_count": 36,
     "metadata": {},
     "output_type": "execute_result"
    }
   ],
   "source": [
    "my_string.split(' ')"
   ]
  },
  {
   "cell_type": "code",
   "execution_count": 37,
   "id": "8c58dd0f",
   "metadata": {},
   "outputs": [],
   "source": [
    "my_string = \"programming is fun\""
   ]
  },
  {
   "cell_type": "code",
   "execution_count": 38,
   "id": "9dad2ed0",
   "metadata": {},
   "outputs": [
    {
     "data": {
      "text/plain": [
       "'programming is fun'"
      ]
     },
     "execution_count": 38,
     "metadata": {},
     "output_type": "execute_result"
    }
   ],
   "source": [
    "my_string"
   ]
  },
  {
   "cell_type": "code",
   "execution_count": 39,
   "id": "e7855918",
   "metadata": {},
   "outputs": [
    {
     "data": {
      "text/plain": [
       "['programming', 'is', 'fun']"
      ]
     },
     "execution_count": 39,
     "metadata": {},
     "output_type": "execute_result"
    }
   ],
   "source": [
    "my_string.split(' ')"
   ]
  },
  {
   "cell_type": "code",
   "execution_count": 40,
   "id": "1f5298f7",
   "metadata": {},
   "outputs": [
    {
     "data": {
      "text/plain": [
       "' '"
      ]
     },
     "execution_count": 40,
     "metadata": {},
     "output_type": "execute_result"
    }
   ],
   "source": [
    "my_string.join(' ')"
   ]
  },
  {
   "cell_type": "code",
   "execution_count": 44,
   "id": "ca9c44ca",
   "metadata": {},
   "outputs": [
    {
     "data": {
      "text/plain": [
       "''"
      ]
     },
     "execution_count": 44,
     "metadata": {},
     "output_type": "execute_result"
    }
   ],
   "source": [
    "my_string.join('')"
   ]
  },
  {
   "cell_type": "code",
   "execution_count": 45,
   "id": "86fa129a",
   "metadata": {},
   "outputs": [
    {
     "data": {
      "text/plain": [
       "'programming is fun'"
      ]
     },
     "execution_count": 45,
     "metadata": {},
     "output_type": "execute_result"
    }
   ],
   "source": [
    "my_string"
   ]
  },
  {
   "cell_type": "code",
   "execution_count": null,
   "id": "1975f4ef",
   "metadata": {},
   "outputs": [],
   "source": []
  }
 ],
 "metadata": {
  "kernelspec": {
   "display_name": "base",
   "language": "python",
   "name": "python3"
  },
  "language_info": {
   "codemirror_mode": {
    "name": "ipython",
    "version": 3
   },
   "file_extension": ".py",
   "mimetype": "text/x-python",
   "name": "python",
   "nbconvert_exporter": "python",
   "pygments_lexer": "ipython3",
   "version": "3.12.2"
  }
 },
 "nbformat": 4,
 "nbformat_minor": 5
}
