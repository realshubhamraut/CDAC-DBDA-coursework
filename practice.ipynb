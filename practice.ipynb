{
 "cells": [
  {
   "cell_type": "code",
   "execution_count": 5,
   "id": "4453b91b",
   "metadata": {},
   "outputs": [
    {
     "name": "stdout",
     "output_type": "stream",
     "text": [
      "{1, 2, 4, 5, 6}\n"
     ]
    }
   ],
   "source": [
    "# 1. Create a set with numbers from 1 to 5. Add the number 6 and remove 3. Print the final set.\n",
    "\n",
    "\n",
    "sets = {1,2,3,4,4,5}\n",
    "sets.add(6)\n",
    "sets.remove(3)\n",
    "print(sets)"
   ]
  },
  {
   "cell_type": "code",
   "execution_count": null,
   "id": "dea1ca61",
   "metadata": {},
   "outputs": [
    {
     "data": {
      "text/plain": [
       "{3, 4, 5}"
      ]
     },
     "execution_count": 11,
     "metadata": {},
     "output_type": "execute_result"
    }
   ],
   "source": [
    "\n",
    "# -> 2. Write a program to find the union and intersection of two sets\n",
    "\n",
    "set1 = {1,2,3,4,5}\n",
    "set2 = {3,4,5,6}\n",
    "\n",
    "intersection = set1 & set2\n",
    "intersection"
   ]
  },
  {
   "cell_type": "code",
   "execution_count": null,
   "id": "21af90de",
   "metadata": {},
   "outputs": [
    {
     "data": {
      "text/plain": [
       "{1, 2, 3, 4, 51}"
      ]
     },
     "execution_count": 13,
     "metadata": {},
     "output_type": "execute_result"
    }
   ],
   "source": [
    "# 3 Given a list with duplicates (1, 2, 2, 3, 4, 4, 51) convert it into a set to remove duplicates.\n",
    "\n",
    "li = [1,2,2,3,4,4,51]\n",
    "newset = set(li)\n",
    "newset"
   ]
  },
  {
   "cell_type": "code",
   "execution_count": null,
   "id": "0db076cb",
   "metadata": {},
   "outputs": [
    {
     "name": "stdout",
     "output_type": "stream",
     "text": [
      "consisits\n"
     ]
    }
   ],
   "source": [
    "#4 Check whether the number 7 exists in the set {1, 3, 5, 7, 9}.\n",
    "\n",
    "set1 = {1,3,5,7,9}\n",
    "if 7 in set1:\n",
    "    print('consisits')\n",
    "else:\n",
    "    print('Not in the sets')"
   ]
  },
  {
   "cell_type": "code",
   "execution_count": 22,
   "id": "774a71ea",
   "metadata": {},
   "outputs": [
    {
     "data": {
      "text/plain": [
       "{1, 11, 14, 123, 124, 541, 1141}"
      ]
     },
     "execution_count": 22,
     "metadata": {},
     "output_type": "execute_result"
    }
   ],
   "source": [
    "# 5 Create two sets and print the symmetric difference between them.\n",
    "\n",
    "set1 = {123,1141,4,11,541}\n",
    "set2 = {124,14,4,14,1,1}\n",
    "\n",
    "symmetric_diff = set1 ^ set2\n",
    "symmetric_diff\n",
    "\n"
   ]
  },
  {
   "cell_type": "code",
   "execution_count": null,
   "id": "8c4162d0",
   "metadata": {},
   "outputs": [
    {
     "data": {
      "text/plain": [
       "dict_keys(['shubham', 'pavel', 'amol'])"
      ]
     },
     "execution_count": 23,
     "metadata": {},
     "output_type": "execute_result"
    }
   ],
   "source": [
    "# 6. Create a dictionary of 3 students with names as keys and marks as values. Print only the keys.\n",
    "dict1 = {'shubham':89, 'pavel':98, 'amol':23}\n",
    "dict1.keys()"
   ]
  },
  {
   "cell_type": "code",
   "execution_count": null,
   "id": "e8c678be",
   "metadata": {},
   "outputs": [
    {
     "data": {
      "text/plain": [
       "{'a': 1, 'b': 5, 'c': 31}"
      ]
     },
     "execution_count": 28,
     "metadata": {},
     "output_type": "execute_result"
    }
   ],
   "source": [
    "# 7.  Given (\"a\": 1, \"b\"; 2, \"c\": 31), update the value of \"b\" to 5.\n",
    "set1 = {\"a\": 1, \"b\":2, \"c\":31}\n",
    "set1 ['b'] = 5\n",
    "set1"
   ]
  },
  {
   "cell_type": "code",
   "execution_count": null,
   "id": "df34a83f",
   "metadata": {},
   "outputs": [
    {
     "ename": "TypeError",
     "evalue": "count() takes at least 1 argument (0 given)",
     "output_type": "error",
     "traceback": [
      "\u001b[0;31m---------------------------------------------------------------------------\u001b[0m",
      "\u001b[0;31mTypeError\u001b[0m                                 Traceback (most recent call last)",
      "Cell \u001b[0;32mIn[29], line 6\u001b[0m\n\u001b[1;32m      4\u001b[0m \u001b[38;5;28mdict\u001b[39m \u001b[38;5;241m=\u001b[39m {}\n\u001b[1;32m      5\u001b[0m \u001b[38;5;28;01mfor\u001b[39;00m i \u001b[38;5;129;01min\u001b[39;00m name:\n\u001b[0;32m----> 6\u001b[0m     \u001b[43mname\u001b[49m\u001b[38;5;241;43m.\u001b[39;49m\u001b[43mcount\u001b[49m\u001b[43m(\u001b[49m\u001b[43m)\u001b[49m\n",
      "\u001b[0;31mTypeError\u001b[0m: count() takes at least 1 argument (0 given)"
     ]
    }
   ],
   "source": [
    "# 8. Write a program to count character frequency in the string \"hello world\" and store it in a dictionary.\n",
    "\n",
    "name = 'shubham'\n",
    "dict = {}\n",
    "for i in name:\n",
    "    name.count()    \n"
   ]
  },
  {
   "cell_type": "code",
   "execution_count": null,
   "id": "d281abb6",
   "metadata": {},
   "outputs": [],
   "source": []
  }
 ],
 "metadata": {
  "kernelspec": {
   "display_name": "base",
   "language": "python",
   "name": "python3"
  },
  "language_info": {
   "codemirror_mode": {
    "name": "ipython",
    "version": 3
   },
   "file_extension": ".py",
   "mimetype": "text/x-python",
   "name": "python",
   "nbconvert_exporter": "python",
   "pygments_lexer": "ipython3",
   "version": "3.12.2"
  }
 },
 "nbformat": 4,
 "nbformat_minor": 5
}
