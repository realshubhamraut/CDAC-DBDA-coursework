{
 "cells": [
  {
   "cell_type": "code",
   "execution_count": 1,
   "id": "b3e53c7f",
   "metadata": {},
   "outputs": [],
   "source": [
    "my_string = 'qwertyiouppoiu'"
   ]
  },
  {
   "cell_type": "code",
   "execution_count": 2,
   "id": "7e47f0a1",
   "metadata": {},
   "outputs": [
    {
     "name": "stdout",
     "output_type": "stream",
     "text": [
      "qwertyiouppoiu\n"
     ]
    }
   ],
   "source": [
    "print(my_string)"
   ]
  },
  {
   "cell_type": "code",
   "execution_count": 3,
   "id": "a71cc6b4",
   "metadata": {},
   "outputs": [
    {
     "data": {
      "text/plain": [
       "'r'"
      ]
     },
     "execution_count": 3,
     "metadata": {},
     "output_type": "execute_result"
    }
   ],
   "source": [
    "my_string[3]"
   ]
  },
  {
   "cell_type": "code",
   "execution_count": 4,
   "id": "dcdfbb88",
   "metadata": {},
   "outputs": [
    {
     "data": {
      "text/plain": [
       "'u'"
      ]
     },
     "execution_count": 4,
     "metadata": {},
     "output_type": "execute_result"
    }
   ],
   "source": [
    "my_string[-1:]"
   ]
  },
  {
   "cell_type": "code",
   "execution_count": 5,
   "id": "599ef66c",
   "metadata": {},
   "outputs": [
    {
     "data": {
      "text/plain": [
       "'qwert'"
      ]
     },
     "execution_count": 5,
     "metadata": {},
     "output_type": "execute_result"
    }
   ],
   "source": [
    "my_string[:5]"
   ]
  },
  {
   "cell_type": "code",
   "execution_count": 6,
   "id": "136cdf65",
   "metadata": {},
   "outputs": [
    {
     "data": {
      "text/plain": [
       "'ppoiu'"
      ]
     },
     "execution_count": 6,
     "metadata": {},
     "output_type": "execute_result"
    }
   ],
   "source": [
    "my_string[-5:]"
   ]
  },
  {
   "cell_type": "code",
   "execution_count": 7,
   "id": "ab80585e",
   "metadata": {},
   "outputs": [
    {
     "data": {
      "text/plain": [
       "'qetiupi'"
      ]
     },
     "execution_count": 7,
     "metadata": {},
     "output_type": "execute_result"
    }
   ],
   "source": [
    "my_string[::2]"
   ]
  },
  {
   "cell_type": "code",
   "execution_count": 8,
   "id": "e4c0f6e1",
   "metadata": {},
   "outputs": [
    {
     "data": {
      "text/plain": [
       "'uioppuoiytrewq'"
      ]
     },
     "execution_count": 8,
     "metadata": {},
     "output_type": "execute_result"
    }
   ],
   "source": [
    "my_string[::-1]"
   ]
  },
  {
   "cell_type": "code",
   "execution_count": 9,
   "id": "c49f6061",
   "metadata": {},
   "outputs": [
    {
     "data": {
      "text/plain": [
       "'qw'"
      ]
     },
     "execution_count": 9,
     "metadata": {},
     "output_type": "execute_result"
    }
   ],
   "source": [
    "my_string[:2]"
   ]
  },
  {
   "cell_type": "code",
   "execution_count": 10,
   "id": "0c2fe104",
   "metadata": {},
   "outputs": [
    {
     "data": {
      "text/plain": [
       "'ouppo'"
      ]
     },
     "execution_count": 10,
     "metadata": {},
     "output_type": "execute_result"
    }
   ],
   "source": [
    "my_string[7:12]"
   ]
  },
  {
   "cell_type": "code",
   "execution_count": 11,
   "id": "a6fe964f",
   "metadata": {},
   "outputs": [
    {
     "data": {
      "text/plain": [
       "'oiu'"
      ]
     },
     "execution_count": 11,
     "metadata": {},
     "output_type": "execute_result"
    }
   ],
   "source": [
    "my_string[-3:]"
   ]
  },
  {
   "cell_type": "code",
   "execution_count": 12,
   "id": "276f82a9",
   "metadata": {},
   "outputs": [
    {
     "data": {
      "text/plain": [
       "'qripi'"
      ]
     },
     "execution_count": 12,
     "metadata": {},
     "output_type": "execute_result"
    }
   ],
   "source": [
    "my_string[::3]"
   ]
  },
  {
   "cell_type": "code",
   "execution_count": 13,
   "id": "b64e517a",
   "metadata": {},
   "outputs": [
    {
     "data": {
      "text/plain": [
       "'learning is fun'"
      ]
     },
     "execution_count": 13,
     "metadata": {},
     "output_type": "execute_result"
    }
   ],
   "source": [
    "new_string = 'learning is fun'\n",
    "new_string"
   ]
  },
  {
   "cell_type": "code",
   "execution_count": 14,
   "id": "fbdd43bc",
   "metadata": {},
   "outputs": [],
   "source": [
    "full_string = new_string + my_string"
   ]
  },
  {
   "cell_type": "code",
   "execution_count": 15,
   "id": "fcd0402a",
   "metadata": {},
   "outputs": [
    {
     "data": {
      "text/plain": [
       "'learning is funqwertyiouppoiu'"
      ]
     },
     "execution_count": 15,
     "metadata": {},
     "output_type": "execute_result"
    }
   ],
   "source": [
    "full_string"
   ]
  },
  {
   "cell_type": "code",
   "execution_count": 16,
   "id": "70455970",
   "metadata": {},
   "outputs": [],
   "source": [
    "my_string = 'python is easy to learn'"
   ]
  },
  {
   "cell_type": "code",
   "execution_count": 17,
   "id": "90c3c6b9",
   "metadata": {},
   "outputs": [
    {
     "data": {
      "text/plain": [
       "'python is easy to learn'"
      ]
     },
     "execution_count": 17,
     "metadata": {},
     "output_type": "execute_result"
    }
   ],
   "source": [
    "my_string"
   ]
  },
  {
   "cell_type": "code",
   "execution_count": 19,
   "id": "f3b0bfd2",
   "metadata": {},
   "outputs": [
    {
     "data": {
      "text/plain": [
       "23"
      ]
     },
     "execution_count": 19,
     "metadata": {},
     "output_type": "execute_result"
    }
   ],
   "source": [
    "len(my_string)"
   ]
  },
  {
   "cell_type": "code",
   "execution_count": 20,
   "id": "4925a0b2",
   "metadata": {},
   "outputs": [
    {
     "data": {
      "text/plain": [
       "'PYTHON IS EASY TO LEARN'"
      ]
     },
     "execution_count": 20,
     "metadata": {},
     "output_type": "execute_result"
    }
   ],
   "source": [
    "my_string.upper()"
   ]
  },
  {
   "cell_type": "code",
   "execution_count": 22,
   "id": "7eae46be",
   "metadata": {},
   "outputs": [
    {
     "data": {
      "text/plain": [
       "'python is powerful to learn'"
      ]
     },
     "execution_count": 22,
     "metadata": {},
     "output_type": "execute_result"
    }
   ],
   "source": [
    "my_string.replace('easy', 'powerful')"
   ]
  },
  {
   "cell_type": "code",
   "execution_count": 23,
   "id": "177f5f8b",
   "metadata": {},
   "outputs": [
    {
     "data": {
      "text/plain": [
       "'jane.doe@example.com'"
      ]
     },
     "execution_count": 23,
     "metadata": {},
     "output_type": "execute_result"
    }
   ],
   "source": [
    "email = 'jane.doe@example.com'\n",
    "email"
   ]
  },
  {
   "cell_type": "code",
   "execution_count": 25,
   "id": "a2f71bfa",
   "metadata": {},
   "outputs": [
    {
     "data": {
      "text/plain": [
       "'jane.doe'"
      ]
     },
     "execution_count": 25,
     "metadata": {},
     "output_type": "execute_result"
    }
   ],
   "source": [
    "username = email.split('@')[0]\n",
    "username"
   ]
  },
  {
   "cell_type": "code",
   "execution_count": 27,
   "id": "6aecd19b",
   "metadata": {},
   "outputs": [
    {
     "data": {
      "text/plain": [
       "'example.com'"
      ]
     },
     "execution_count": 27,
     "metadata": {},
     "output_type": "execute_result"
    }
   ],
   "source": [
    "domain = email.split('@')[1]\n",
    "domain"
   ]
  },
  {
   "cell_type": "code",
   "execution_count": 30,
   "id": "6a0b6b03",
   "metadata": {},
   "outputs": [
    {
     "data": {
      "text/plain": [
       "'jane.doe@mycompany.com'"
      ]
     },
     "execution_count": 30,
     "metadata": {},
     "output_type": "execute_result"
    }
   ],
   "source": [
    "new_domain = 'mycompany.com'\n",
    "new_email = username + '@'+new_domain\n",
    "new_email"
   ]
  },
  {
   "cell_type": "code",
   "execution_count": 31,
   "id": "0a28a1b2",
   "metadata": {},
   "outputs": [],
   "source": [
    "my_string = 'python is fun'"
   ]
  },
  {
   "cell_type": "code",
   "execution_count": 34,
   "id": "ac47d6e6",
   "metadata": {},
   "outputs": [
    {
     "data": {
      "text/plain": [
       "True"
      ]
     },
     "execution_count": 34,
     "metadata": {},
     "output_type": "execute_result"
    }
   ],
   "source": [
    "'is' in my_string"
   ]
  },
  {
   "cell_type": "code",
   "execution_count": 35,
   "id": "bcb7dcc3",
   "metadata": {},
   "outputs": [
    {
     "data": {
      "text/plain": [
       "False"
      ]
     },
     "execution_count": 35,
     "metadata": {},
     "output_type": "execute_result"
    }
   ],
   "source": [
    "'Java' in my_string"
   ]
  },
  {
   "cell_type": "code",
   "execution_count": 36,
   "id": "f87c472b",
   "metadata": {},
   "outputs": [
    {
     "data": {
      "text/plain": [
       "['python', 'is', 'fun']"
      ]
     },
     "execution_count": 36,
     "metadata": {},
     "output_type": "execute_result"
    }
   ],
   "source": [
    "my_string.split(' ')"
   ]
  },
  {
   "cell_type": "code",
   "execution_count": 37,
   "id": "8c58dd0f",
   "metadata": {},
   "outputs": [],
   "source": [
    "my_string = \"programming is fun\""
   ]
  },
  {
   "cell_type": "code",
   "execution_count": 38,
   "id": "9dad2ed0",
   "metadata": {},
   "outputs": [
    {
     "data": {
      "text/plain": [
       "'programming is fun'"
      ]
     },
     "execution_count": 38,
     "metadata": {},
     "output_type": "execute_result"
    }
   ],
   "source": [
    "my_string"
   ]
  },
  {
   "cell_type": "code",
   "execution_count": 39,
   "id": "e7855918",
   "metadata": {},
   "outputs": [
    {
     "data": {
      "text/plain": [
       "['programming', 'is', 'fun']"
      ]
     },
     "execution_count": 39,
     "metadata": {},
     "output_type": "execute_result"
    }
   ],
   "source": [
    "my_string.split(' ')"
   ]
  },
  {
   "cell_type": "code",
   "execution_count": 40,
   "id": "1f5298f7",
   "metadata": {},
   "outputs": [
    {
     "data": {
      "text/plain": [
       "' '"
      ]
     },
     "execution_count": 40,
     "metadata": {},
     "output_type": "execute_result"
    }
   ],
   "source": [
    "my_string.join(' ')"
   ]
  },
  {
   "cell_type": "code",
   "execution_count": 44,
   "id": "ca9c44ca",
   "metadata": {},
   "outputs": [
    {
     "data": {
      "text/plain": [
       "''"
      ]
     },
     "execution_count": 44,
     "metadata": {},
     "output_type": "execute_result"
    }
   ],
   "source": [
    "my_string.join('')"
   ]
  },
  {
   "cell_type": "code",
   "execution_count": 45,
   "id": "86fa129a",
   "metadata": {},
   "outputs": [
    {
     "data": {
      "text/plain": [
       "'programming is fun'"
      ]
     },
     "execution_count": 45,
     "metadata": {},
     "output_type": "execute_result"
    }
   ],
   "source": [
    "my_string"
   ]
  },
  {
   "cell_type": "code",
   "execution_count": null,
   "id": "3a1db134",
   "metadata": {},
   "outputs": [],
   "source": []
  },
  {
   "cell_type": "code",
   "execution_count": 5,
   "id": "1975f4ef",
   "metadata": {},
   "outputs": [
    {
     "name": "stdout",
     "output_type": "stream",
     "text": [
      "False\n"
     ]
    }
   ],
   "source": [
    "def fact(a):\n",
    "    if a == 0:\n",
    "        return 1\n",
    "    return a * fact(a-1)\n",
    "\n",
    "n = int(input('Enter a number: '))\n",
    "sum = 0\n",
    "temp_n = n\n",
    "while temp_n > 0:\n",
    "    digit = int(temp_n % 10)\n",
    "    sum += fact(digit)\n",
    "    temp_n //= 10\n",
    "\n",
    "if sum == n:\n",
    "    print(f\"{n} is a strong number\")\n",
    "else:\n",
    "    print(f\"{n} is not a strong number\")\n"
   ]
  },
  {
   "cell_type": "code",
   "execution_count": 7,
   "id": "0ebbcc7d",
   "metadata": {},
   "outputs": [
    {
     "ename": "ValueError",
     "evalue": "invalid literal for int() with base 10: ''",
     "output_type": "error",
     "traceback": [
      "\u001b[0;31m---------------------------------------------------------------------------\u001b[0m",
      "\u001b[0;31mValueError\u001b[0m                                Traceback (most recent call last)",
      "Cell \u001b[0;32mIn[7], line 7\u001b[0m\n\u001b[1;32m      4\u001b[0m     \u001b[38;5;28;01mreturn\u001b[39;00m a \u001b[38;5;241m*\u001b[39m fact(a\u001b[38;5;241m-\u001b[39m\u001b[38;5;241m1\u001b[39m)\n\u001b[1;32m      5\u001b[0m result \u001b[38;5;241m=\u001b[39m fact(\u001b[38;5;241m5\u001b[39m)\n\u001b[0;32m----> 7\u001b[0m n \u001b[38;5;241m=\u001b[39m \u001b[38;5;28;43mint\u001b[39;49m\u001b[43m(\u001b[49m\u001b[38;5;28;43minput\u001b[39;49m\u001b[43m(\u001b[49m\u001b[43m)\u001b[49m\u001b[43m)\u001b[49m\n\u001b[1;32m      8\u001b[0m \u001b[38;5;28msum\u001b[39m \u001b[38;5;241m=\u001b[39m \u001b[38;5;241m0\u001b[39m\n\u001b[1;32m      9\u001b[0m temp_n \u001b[38;5;241m=\u001b[39m n\n",
      "\u001b[0;31mValueError\u001b[0m: invalid literal for int() with base 10: ''"
     ]
    }
   ],
   "source": [
    "def fact(a):\n",
    "    if a == 0:\n",
    "        return 1\n",
    "    return a * fact(a-1)\n",
    "\n",
    "n = int(input())\n",
    "sum = 0\n",
    "temp_n = n\n",
    "while temp_n>0:\n",
    "    digit = temp_n % 10\n",
    "    sum = sum + fact(digit)\n",
    "    temp_n = temp_n / 10\n",
    "\n",
    "if sum == n:\n",
    "    print(sum)\n",
    "else:\n",
    "    print(False)\n",
    "\n"
   ]
  },
  {
   "cell_type": "code",
   "execution_count": null,
   "id": "5b638b95",
   "metadata": {},
   "outputs": [
    {
     "data": {
      "text/plain": [
       "479001600"
      ]
     },
     "execution_count": 10,
     "metadata": {},
     "output_type": "execute_result"
    }
   ],
   "source": [
    "def fact(n):\n",
    "    if n == 0:\n",
    "        return 1\n",
    "    return n * fact(n-1)\n",
    "\n",
    "a = int(input())\n"
   ]
  },
  {
   "cell_type": "code",
   "execution_count": 7,
   "id": "c829a320",
   "metadata": {},
   "outputs": [
    {
     "name": "stdout",
     "output_type": "stream",
     "text": [
      "1\n",
      "2\n",
      "3\n",
      "4\n",
      "5\n",
      "6\n",
      "7\n",
      "8\n",
      "9\n",
      "10\n"
     ]
    }
   ],
   "source": []
  },
  {
   "cell_type": "code",
   "execution_count": null,
   "id": "6f2fc5b4",
   "metadata": {},
   "outputs": [],
   "source": [
    "num = 1\n",
    "while num <= 10:\n",
    "    print(num)\n",
    "num = num + 1"
   ]
  },
  {
   "cell_type": "code",
   "execution_count": 9,
   "id": "a164237a",
   "metadata": {},
   "outputs": [
    {
     "name": "stdout",
     "output_type": "stream",
     "text": [
      "sum of 0 is 9\n"
     ]
    }
   ],
   "source": [
    "number = 3213\n",
    "digit_sum = 0\n",
    "while number > 0:\n",
    "    digit = number % 10\n",
    "    digit_sum = digit_sum + digit\n",
    "    number = number // 10\n",
    "print(f'sum of {number} is {digit_sum}')"
   ]
  },
  {
   "cell_type": "code",
   "execution_count": null,
   "id": "42220ca4",
   "metadata": {},
   "outputs": [],
   "source": [
    "def is_prime(n):\n",
    "    if n <= 1:\n",
    "        return False\n",
    "    elif n == 2:\n",
    "        return True\n",
    "    if n % 2 == 0:\n",
    "        "
   ]
  },
  {
   "cell_type": "code",
   "execution_count": null,
   "id": "d49b3139",
   "metadata": {},
   "outputs": [],
   "source": [
    "# Write a function to remove all vowels from a string.\n",
    "\n",
    "def rem_vowels():\n",
    "    vari = ''\n",
    "    vowels = ['a','e','i','o','u','A','E','I','O','U']\n",
    "    my_string = 'shubham is a guy'\n",
    "    li_my_string = my_string.split('')\n",
    "    my_string.split('')\n",
    "    for i in my_string:\n",
    "        if vowels in my_string:\n",
    "            li_my_string\n"
   ]
  },
  {
   "cell_type": "code",
   "execution_count": null,
   "id": "e43d0cbd",
   "metadata": {},
   "outputs": [],
   "source": [
    "def rem_vowel(s):\n",
    "    vowel = 'aeiouAEIOU'\n",
    "    vari = str(vowel)\n",
    "    for char in s:\n",
    "        if char in vowel:\n",
    "            "
   ]
  },
  {
   "cell_type": "code",
   "execution_count": 4,
   "id": "46228fe8",
   "metadata": {},
   "outputs": [
    {
     "name": "stdout",
     "output_type": "stream",
     "text": [
      "Without vowels: shbhm\n"
     ]
    }
   ],
   "source": [
    "def rem_vowel(s):\n",
    "    vowels = 'aeiouAEIOU'\n",
    "    result = ''\n",
    "    for char in s:\n",
    "        if char not in vowels:\n",
    "            result += char\n",
    "    return result\n",
    "\n",
    "# Example usage\n",
    "s = input(\"Enter a string: \")\n",
    "print(\"Without vowels:\", rem_vowel(s))\n"
   ]
  },
  {
   "cell_type": "code",
   "execution_count": null,
   "id": "9f9e655e",
   "metadata": {},
   "outputs": [
    {
     "name": "stdout",
     "output_type": "stream",
     "text": [
      "sentence without vowels shbh\n"
     ]
    }
   ],
   "source": [
    "def rem_vowel(s):\n",
    "    vowels = 'AEIOUaeiou'\n",
    "    result = ''\n",
    "    for char in s:\n",
    "        if char not in vowels:\n",
    "            result = result + char\n",
    "        return result\n",
    "    \n",
    "s = str(input('enter the sentence'))\n",
    "print('without vowels')\n",
    "\n"
   ]
  },
  {
   "cell_type": "code",
   "execution_count": 11,
   "id": "6400b7cd",
   "metadata": {},
   "outputs": [
    {
     "name": "stdout",
     "output_type": "stream",
     "text": [
      "without vowels shbh\n"
     ]
    }
   ],
   "source": [
    "def rem_vowels(s):\n",
    "    vowels = 'AEIOUaieou'\n",
    "    result = ''\n",
    "    for i in s:\n",
    "        if i not in vowels:\n",
    "            result = result + i\n",
    "    return result\n",
    "\n",
    "s = str(input())\n",
    "print('without vowels', rem_vowels(s))"
   ]
  },
  {
   "cell_type": "code",
   "execution_count": null,
   "id": "e0a062a0",
   "metadata": {},
   "outputs": [],
   "source": [
    "# Write a function to find the sum of squares of digits of a number.\n",
    "\n",
    "squares = 49 + 36\n",
    "7^2 + 6^2\n",
    "\n",
    "num = 76\n"
   ]
  },
  {
   "cell_type": "code",
   "execution_count": null,
   "id": "16d961ea",
   "metadata": {},
   "outputs": [],
   "source": [
    "def square(s):\n",
    "    total = 0\n",
    "    while n >0:\n",
    "        "
   ]
  },
  {
   "cell_type": "code",
   "execution_count": 12,
   "id": "1ebbbefd",
   "metadata": {},
   "outputs": [
    {
     "name": "stdout",
     "output_type": "stream",
     "text": [
      "without vowels, shbhm\n"
     ]
    }
   ],
   "source": [
    "def check_vowels(s):\n",
    "    vowels = 'aeiouAEIOU'\n",
    "    result = ''\n",
    "    for i in s:\n",
    "        if i not in vowels:\n",
    "            result = result + i\n",
    "    return result\n",
    "\n",
    "s = input('')\n",
    "print('without vowels,', check_vowels(s))\n"
   ]
  },
  {
   "cell_type": "code",
   "execution_count": 13,
   "id": "0af1318e",
   "metadata": {},
   "outputs": [
    {
     "name": "stdout",
     "output_type": "stream",
     "text": [
      "without vowels {'shbhm'}\n"
     ]
    }
   ],
   "source": [
    "def check_vow(s):\n",
    "    vowels = 'aieouAEIOU'\n",
    "    result = ''\n",
    "    for i in s:\n",
    "        if i not in vowels:\n",
    "            result = result + i\n",
    "    return result\n",
    "\n",
    "s = input('')\n",
    "print('without vowels', {check_vow(s)})"
   ]
  },
  {
   "cell_type": "code",
   "execution_count": null,
   "id": "31494297",
   "metadata": {},
   "outputs": [],
   "source": []
  },
  {
   "cell_type": "code",
   "execution_count": 1,
   "id": "71b99baa",
   "metadata": {},
   "outputs": [
    {
     "name": "stdout",
     "output_type": "stream",
     "text": [
      "1\n",
      "22\n",
      "333\n",
      "4444\n",
      "55555\n"
     ]
    }
   ],
   "source": [
    "# Q20. Write a function to print the following pattern:\n",
    "\n",
    "def pattern(n):\n",
    "    for i in range (1, n+1):\n",
    "        print (str(i) * i)\n",
    "pattern(5)"
   ]
  },
  {
   "cell_type": "code",
   "execution_count": 3,
   "id": "4d381116",
   "metadata": {},
   "outputs": [
    {
     "name": "stdout",
     "output_type": "stream",
     "text": [
      "1\n",
      "22\n",
      "333\n",
      "4444\n"
     ]
    }
   ],
   "source": [
    "def pattern(n):\n",
    "    for i in range(1, n+1):\n",
    "        print(str(i) * i)\n",
    "\n",
    "pattern(4)"
   ]
  },
  {
   "cell_type": "code",
   "execution_count": 6,
   "id": "e793e5c3",
   "metadata": {},
   "outputs": [
    {
     "name": "stdout",
     "output_type": "stream",
     "text": [
      "anagrams\n"
     ]
    }
   ],
   "source": [
    "def is_anagram():\n",
    "    string1 = input('enter the string1')\n",
    "    string2 = input('enter the string2')\n",
    "    if sorted(string1) == sorted(string2):\n",
    "        print('anagrams')\n",
    "    else:\n",
    "        print('not anagrams!')\n",
    "is_anagram()"
   ]
  },
  {
   "cell_type": "code",
   "execution_count": 16,
   "id": "cd2453bd",
   "metadata": {},
   "outputs": [
    {
     "name": "stdout",
     "output_type": "stream",
     "text": [
      "{'s': 1, 'h': 2, 'u': 1, 'b': 1, 'a': 1, 'm': 1}\n",
      "character counts are None\n"
     ]
    }
   ],
   "source": [
    "def count_chars(s):\n",
    "    char_count = {}\n",
    "    for char in s:\n",
    "        char_count[char] = char_count.get(char, 0) + 1\n",
    "    print(char_count)\n",
    "s = input('enter the string')\n",
    "print('character counts are', count_chars(s))"
   ]
  },
  {
   "cell_type": "code",
   "execution_count": null,
   "id": "f9ed7533",
   "metadata": {},
   "outputs": [
    {
     "name": "stdout",
     "output_type": "stream",
     "text": [
      "char counts are as follows {'s': 1, 'j': 1, 'h': 2, 'u': 1, 'b': 1, 'a': 1, 'm': 1}\n"
     ]
    }
   ],
   "source": [
    "def char_count(s):\n",
    "    storage = {}\n",
    "    for i in s:\n",
    "        storage[i] = storage.get(i, 0) + 1\n",
    "    return storage\n",
    "\n",
    "s  = input('enter the string')\n",
    "print('char counts are as follows', char_count(s))\n",
    "\n"
   ]
  },
  {
   "cell_type": "code",
   "execution_count": null,
   "id": "c22be0e6",
   "metadata": {},
   "outputs": [],
   "source": []
  },
  {
   "cell_type": "code",
   "execution_count": null,
   "id": "73a62e98",
   "metadata": {},
   "outputs": [],
   "source": []
  }
 ],
 "metadata": {
  "kernelspec": {
   "display_name": "base",
   "language": "python",
   "name": "python3"
  },
  "language_info": {
   "codemirror_mode": {
    "name": "ipython",
    "version": 3
   },
   "file_extension": ".py",
   "mimetype": "text/x-python",
   "name": "python",
   "nbconvert_exporter": "python",
   "pygments_lexer": "ipython3",
   "version": "3.12.2"
  }
 },
 "nbformat": 4,
 "nbformat_minor": 5
}
