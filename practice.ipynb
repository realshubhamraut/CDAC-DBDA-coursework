{
 "cells": [
  {
   "cell_type": "code",
   "execution_count": 1,
   "id": "b3e53c7f",
   "metadata": {},
   "outputs": [],
   "source": [
    "my_string = 'qwertyiouppoiu'"
   ]
  },
  {
   "cell_type": "code",
   "execution_count": 2,
   "id": "7e47f0a1",
   "metadata": {},
   "outputs": [
    {
     "name": "stdout",
     "output_type": "stream",
     "text": [
      "qwertyiouppoiu\n"
     ]
    }
   ],
   "source": [
    "print(my_string)"
   ]
  },
  {
   "cell_type": "code",
   "execution_count": 3,
   "id": "a71cc6b4",
   "metadata": {},
   "outputs": [
    {
     "data": {
      "text/plain": [
       "'r'"
      ]
     },
     "execution_count": 3,
     "metadata": {},
     "output_type": "execute_result"
    }
   ],
   "source": [
    "my_string[3]"
   ]
  },
  {
   "cell_type": "code",
   "execution_count": 4,
   "id": "dcdfbb88",
   "metadata": {},
   "outputs": [
    {
     "data": {
      "text/plain": [
       "'u'"
      ]
     },
     "execution_count": 4,
     "metadata": {},
     "output_type": "execute_result"
    }
   ],
   "source": [
    "my_string[-1:]"
   ]
  },
  {
   "cell_type": "code",
   "execution_count": 5,
   "id": "599ef66c",
   "metadata": {},
   "outputs": [
    {
     "data": {
      "text/plain": [
       "'qwert'"
      ]
     },
     "execution_count": 5,
     "metadata": {},
     "output_type": "execute_result"
    }
   ],
   "source": [
    "my_string[:5]"
   ]
  },
  {
   "cell_type": "code",
   "execution_count": 6,
   "id": "136cdf65",
   "metadata": {},
   "outputs": [
    {
     "data": {
      "text/plain": [
       "'ppoiu'"
      ]
     },
     "execution_count": 6,
     "metadata": {},
     "output_type": "execute_result"
    }
   ],
   "source": [
    "my_string[-5:]"
   ]
  },
  {
   "cell_type": "code",
   "execution_count": 7,
   "id": "ab80585e",
   "metadata": {},
   "outputs": [
    {
     "data": {
      "text/plain": [
       "'qetiupi'"
      ]
     },
     "execution_count": 7,
     "metadata": {},
     "output_type": "execute_result"
    }
   ],
   "source": [
    "my_string[::2]"
   ]
  },
  {
   "cell_type": "code",
   "execution_count": 8,
   "id": "e4c0f6e1",
   "metadata": {},
   "outputs": [
    {
     "data": {
      "text/plain": [
       "'uioppuoiytrewq'"
      ]
     },
     "execution_count": 8,
     "metadata": {},
     "output_type": "execute_result"
    }
   ],
   "source": [
    "my_string[::-1]"
   ]
  },
  {
   "cell_type": "code",
   "execution_count": 9,
   "id": "c49f6061",
   "metadata": {},
   "outputs": [
    {
     "data": {
      "text/plain": [
       "'qw'"
      ]
     },
     "execution_count": 9,
     "metadata": {},
     "output_type": "execute_result"
    }
   ],
   "source": [
    "my_string[:2]"
   ]
  },
  {
   "cell_type": "code",
   "execution_count": 10,
   "id": "0c2fe104",
   "metadata": {},
   "outputs": [
    {
     "data": {
      "text/plain": [
       "'ouppo'"
      ]
     },
     "execution_count": 10,
     "metadata": {},
     "output_type": "execute_result"
    }
   ],
   "source": [
    "my_string[7:12]"
   ]
  },
  {
   "cell_type": "code",
   "execution_count": 11,
   "id": "a6fe964f",
   "metadata": {},
   "outputs": [
    {
     "data": {
      "text/plain": [
       "'oiu'"
      ]
     },
     "execution_count": 11,
     "metadata": {},
     "output_type": "execute_result"
    }
   ],
   "source": [
    "my_string[-3:]"
   ]
  },
  {
   "cell_type": "code",
   "execution_count": 12,
   "id": "276f82a9",
   "metadata": {},
   "outputs": [
    {
     "data": {
      "text/plain": [
       "'qripi'"
      ]
     },
     "execution_count": 12,
     "metadata": {},
     "output_type": "execute_result"
    }
   ],
   "source": [
    "my_string[::3]"
   ]
  },
  {
   "cell_type": "code",
   "execution_count": 13,
   "id": "b64e517a",
   "metadata": {},
   "outputs": [
    {
     "data": {
      "text/plain": [
       "'learning is fun'"
      ]
     },
     "execution_count": 13,
     "metadata": {},
     "output_type": "execute_result"
    }
   ],
   "source": [
    "new_string = 'learning is fun'\n",
    "new_string"
   ]
  },
  {
   "cell_type": "code",
   "execution_count": 14,
   "id": "fbdd43bc",
   "metadata": {},
   "outputs": [],
   "source": [
    "full_string = new_string + my_string"
   ]
  },
  {
   "cell_type": "code",
   "execution_count": 15,
   "id": "fcd0402a",
   "metadata": {},
   "outputs": [
    {
     "data": {
      "text/plain": [
       "'learning is funqwertyiouppoiu'"
      ]
     },
     "execution_count": 15,
     "metadata": {},
     "output_type": "execute_result"
    }
   ],
   "source": [
    "full_string"
   ]
  },
  {
   "cell_type": "code",
   "execution_count": 16,
   "id": "70455970",
   "metadata": {},
   "outputs": [],
   "source": [
    "my_string = 'python is easy to learn'"
   ]
  },
  {
   "cell_type": "code",
   "execution_count": 17,
   "id": "90c3c6b9",
   "metadata": {},
   "outputs": [
    {
     "data": {
      "text/plain": [
       "'python is easy to learn'"
      ]
     },
     "execution_count": 17,
     "metadata": {},
     "output_type": "execute_result"
    }
   ],
   "source": [
    "my_string"
   ]
  },
  {
   "cell_type": "code",
   "execution_count": 19,
   "id": "f3b0bfd2",
   "metadata": {},
   "outputs": [
    {
     "data": {
      "text/plain": [
       "23"
      ]
     },
     "execution_count": 19,
     "metadata": {},
     "output_type": "execute_result"
    }
   ],
   "source": [
    "len(my_string)"
   ]
  },
  {
   "cell_type": "code",
   "execution_count": 20,
   "id": "4925a0b2",
   "metadata": {},
   "outputs": [
    {
     "data": {
      "text/plain": [
       "'PYTHON IS EASY TO LEARN'"
      ]
     },
     "execution_count": 20,
     "metadata": {},
     "output_type": "execute_result"
    }
   ],
   "source": [
    "my_string.upper()"
   ]
  },
  {
   "cell_type": "code",
   "execution_count": 22,
   "id": "7eae46be",
   "metadata": {},
   "outputs": [
    {
     "data": {
      "text/plain": [
       "'python is powerful to learn'"
      ]
     },
     "execution_count": 22,
     "metadata": {},
     "output_type": "execute_result"
    }
   ],
   "source": [
    "my_string.replace('easy', 'powerful')"
   ]
  },
  {
   "cell_type": "code",
   "execution_count": 23,
   "id": "177f5f8b",
   "metadata": {},
   "outputs": [
    {
     "data": {
      "text/plain": [
       "'jane.doe@example.com'"
      ]
     },
     "execution_count": 23,
     "metadata": {},
     "output_type": "execute_result"
    }
   ],
   "source": [
    "email = 'jane.doe@example.com'\n",
    "email"
   ]
  },
  {
   "cell_type": "code",
   "execution_count": 25,
   "id": "a2f71bfa",
   "metadata": {},
   "outputs": [
    {
     "data": {
      "text/plain": [
       "'jane.doe'"
      ]
     },
     "execution_count": 25,
     "metadata": {},
     "output_type": "execute_result"
    }
   ],
   "source": [
    "username = email.split('@')[0]\n",
    "username"
   ]
  },
  {
   "cell_type": "code",
   "execution_count": 27,
   "id": "6aecd19b",
   "metadata": {},
   "outputs": [
    {
     "data": {
      "text/plain": [
       "'example.com'"
      ]
     },
     "execution_count": 27,
     "metadata": {},
     "output_type": "execute_result"
    }
   ],
   "source": [
    "domain = email.split('@')[1]\n",
    "domain"
   ]
  },
  {
   "cell_type": "code",
   "execution_count": 30,
   "id": "6a0b6b03",
   "metadata": {},
   "outputs": [
    {
     "data": {
      "text/plain": [
       "'jane.doe@mycompany.com'"
      ]
     },
     "execution_count": 30,
     "metadata": {},
     "output_type": "execute_result"
    }
   ],
   "source": [
    "new_domain = 'mycompany.com'\n",
    "new_email = username + '@'+new_domain\n",
    "new_email"
   ]
  },
  {
   "cell_type": "code",
   "execution_count": 31,
   "id": "0a28a1b2",
   "metadata": {},
   "outputs": [],
   "source": [
    "my_string = 'python is fun'"
   ]
  },
  {
   "cell_type": "code",
   "execution_count": 34,
   "id": "ac47d6e6",
   "metadata": {},
   "outputs": [
    {
     "data": {
      "text/plain": [
       "True"
      ]
     },
     "execution_count": 34,
     "metadata": {},
     "output_type": "execute_result"
    }
   ],
   "source": [
    "'is' in my_string"
   ]
  },
  {
   "cell_type": "code",
   "execution_count": 35,
   "id": "bcb7dcc3",
   "metadata": {},
   "outputs": [
    {
     "data": {
      "text/plain": [
       "False"
      ]
     },
     "execution_count": 35,
     "metadata": {},
     "output_type": "execute_result"
    }
   ],
   "source": [
    "'Java' in my_string"
   ]
  },
  {
   "cell_type": "code",
   "execution_count": 36,
   "id": "f87c472b",
   "metadata": {},
   "outputs": [
    {
     "data": {
      "text/plain": [
       "['python', 'is', 'fun']"
      ]
     },
     "execution_count": 36,
     "metadata": {},
     "output_type": "execute_result"
    }
   ],
   "source": [
    "my_string.split(' ')"
   ]
  },
  {
   "cell_type": "code",
   "execution_count": 37,
   "id": "8c58dd0f",
   "metadata": {},
   "outputs": [],
   "source": [
    "my_string = \"programming is fun\""
   ]
  },
  {
   "cell_type": "code",
   "execution_count": 38,
   "id": "9dad2ed0",
   "metadata": {},
   "outputs": [
    {
     "data": {
      "text/plain": [
       "'programming is fun'"
      ]
     },
     "execution_count": 38,
     "metadata": {},
     "output_type": "execute_result"
    }
   ],
   "source": [
    "my_string"
   ]
  },
  {
   "cell_type": "code",
   "execution_count": 39,
   "id": "e7855918",
   "metadata": {},
   "outputs": [
    {
     "data": {
      "text/plain": [
       "['programming', 'is', 'fun']"
      ]
     },
     "execution_count": 39,
     "metadata": {},
     "output_type": "execute_result"
    }
   ],
   "source": [
    "my_string.split(' ')"
   ]
  },
  {
   "cell_type": "code",
   "execution_count": 40,
   "id": "1f5298f7",
   "metadata": {},
   "outputs": [
    {
     "data": {
      "text/plain": [
       "' '"
      ]
     },
     "execution_count": 40,
     "metadata": {},
     "output_type": "execute_result"
    }
   ],
   "source": [
    "my_string.join(' ')"
   ]
  },
  {
   "cell_type": "code",
   "execution_count": 44,
   "id": "ca9c44ca",
   "metadata": {},
   "outputs": [
    {
     "data": {
      "text/plain": [
       "''"
      ]
     },
     "execution_count": 44,
     "metadata": {},
     "output_type": "execute_result"
    }
   ],
   "source": [
    "my_string.join('')"
   ]
  },
  {
   "cell_type": "code",
   "execution_count": 45,
   "id": "86fa129a",
   "metadata": {},
   "outputs": [
    {
     "data": {
      "text/plain": [
       "'programming is fun'"
      ]
     },
     "execution_count": 45,
     "metadata": {},
     "output_type": "execute_result"
    }
   ],
   "source": [
    "my_string"
   ]
  },
  {
   "cell_type": "code",
   "execution_count": null,
   "id": "3a1db134",
   "metadata": {},
   "outputs": [],
   "source": []
  },
  {
   "cell_type": "code",
   "execution_count": 5,
   "id": "1975f4ef",
   "metadata": {},
   "outputs": [
    {
     "name": "stdout",
     "output_type": "stream",
     "text": [
      "False\n"
     ]
    }
   ],
   "source": [
    "def fact(a):\n",
    "    if a == 0:\n",
    "        return 1\n",
    "    return a * fact(a-1)\n",
    "\n",
    "n = int(input('Enter a number: '))\n",
    "sum = 0\n",
    "temp_n = n\n",
    "while temp_n > 0:\n",
    "    digit = int(temp_n % 10)\n",
    "    sum += fact(digit)\n",
    "    temp_n //= 10\n",
    "\n",
    "if sum == n:\n",
    "    print(f\"{n} is a strong number\")\n",
    "else:\n",
    "    print(f\"{n} is not a strong number\")\n"
   ]
  },
  {
   "cell_type": "code",
   "execution_count": 7,
   "id": "0ebbcc7d",
   "metadata": {},
   "outputs": [
    {
     "ename": "ValueError",
     "evalue": "invalid literal for int() with base 10: ''",
     "output_type": "error",
     "traceback": [
      "\u001b[0;31m---------------------------------------------------------------------------\u001b[0m",
      "\u001b[0;31mValueError\u001b[0m                                Traceback (most recent call last)",
      "Cell \u001b[0;32mIn[7], line 7\u001b[0m\n\u001b[1;32m      4\u001b[0m     \u001b[38;5;28;01mreturn\u001b[39;00m a \u001b[38;5;241m*\u001b[39m fact(a\u001b[38;5;241m-\u001b[39m\u001b[38;5;241m1\u001b[39m)\n\u001b[1;32m      5\u001b[0m result \u001b[38;5;241m=\u001b[39m fact(\u001b[38;5;241m5\u001b[39m)\n\u001b[0;32m----> 7\u001b[0m n \u001b[38;5;241m=\u001b[39m \u001b[38;5;28;43mint\u001b[39;49m\u001b[43m(\u001b[49m\u001b[38;5;28;43minput\u001b[39;49m\u001b[43m(\u001b[49m\u001b[43m)\u001b[49m\u001b[43m)\u001b[49m\n\u001b[1;32m      8\u001b[0m \u001b[38;5;28msum\u001b[39m \u001b[38;5;241m=\u001b[39m \u001b[38;5;241m0\u001b[39m\n\u001b[1;32m      9\u001b[0m temp_n \u001b[38;5;241m=\u001b[39m n\n",
      "\u001b[0;31mValueError\u001b[0m: invalid literal for int() with base 10: ''"
     ]
    }
   ],
   "source": [
    "def fact(a):\n",
    "    if a == 0:\n",
    "        return 1\n",
    "    return a * fact(a-1)\n",
    "\n",
    "n = int(input())\n",
    "sum = 0\n",
    "temp_n = n\n",
    "while temp_n>0:\n",
    "    digit = temp_n % 10\n",
    "    sum = sum + fact(digit)\n",
    "    temp_n = temp_n / 10\n",
    "\n",
    "if sum == n:\n",
    "    print(sum)\n",
    "else:\n",
    "    print(False)\n",
    "\n"
   ]
  },
  {
   "cell_type": "code",
   "execution_count": null,
   "id": "5b638b95",
   "metadata": {},
   "outputs": [
    {
     "data": {
      "text/plain": [
       "479001600"
      ]
     },
     "execution_count": 10,
     "metadata": {},
     "output_type": "execute_result"
    }
   ],
   "source": [
    "def fact(n):\n",
    "    if n == 0:\n",
    "        return 1\n",
    "    return n * fact(n-1)\n",
    "\n",
    "a = int(input())\n"
   ]
  },
  {
   "cell_type": "code",
   "execution_count": 7,
   "id": "c829a320",
   "metadata": {},
   "outputs": [
    {
     "name": "stdout",
     "output_type": "stream",
     "text": [
      "1\n",
      "2\n",
      "3\n",
      "4\n",
      "5\n",
      "6\n",
      "7\n",
      "8\n",
      "9\n",
      "10\n"
     ]
    }
   ],
   "source": []
  },
  {
   "cell_type": "code",
   "execution_count": null,
   "id": "6f2fc5b4",
   "metadata": {},
   "outputs": [],
   "source": [
    "num = 1\n",
    "while num <= 10:\n",
    "    print(num)\n",
    "num = num + 1"
   ]
  },
  {
   "cell_type": "code",
   "execution_count": 9,
   "id": "a164237a",
   "metadata": {},
   "outputs": [
    {
     "name": "stdout",
     "output_type": "stream",
     "text": [
      "sum of 0 is 9\n"
     ]
    }
   ],
   "source": [
    "number = 3213\n",
    "digit_sum = 0\n",
    "while number > 0:\n",
    "    digit = number % 10\n",
    "    digit_sum = digit_sum + digit\n",
    "    number = number // 10\n",
    "print(f'sum of {number} is {digit_sum}')"
   ]
  },
  {
   "cell_type": "code",
   "execution_count": null,
   "id": "42220ca4",
   "metadata": {},
   "outputs": [],
   "source": [
    "def is_prime(n):\n",
    "    if n <= 1:\n",
    "        return False\n",
    "    elif n == 2:\n",
    "        return True\n",
    "    if n % 2 == 0:\n",
    "        "
   ]
  },
  {
   "cell_type": "code",
   "execution_count": null,
   "id": "d49b3139",
   "metadata": {},
   "outputs": [],
   "source": [
    "# Write a function to remove all vowels from a string.\n",
    "\n",
    "def rem_vowels():\n",
    "    vari = ''\n",
    "    vowels = ['a','e','i','o','u','A','E','I','O','U']\n",
    "    my_string = 'shubham is a guy'\n",
    "    li_my_string = my_string.split('')\n",
    "    my_string.split('')\n",
    "    for i in my_string:\n",
    "        if vowels in my_string:\n",
    "            li_my_string\n"
   ]
  },
  {
   "cell_type": "code",
   "execution_count": null,
   "id": "e43d0cbd",
   "metadata": {},
   "outputs": [],
   "source": [
    "def rem_vowel(s):\n",
    "    vowel = 'aeiouAEIOU'\n",
    "    vari = str(vowel)\n",
    "    for char in s:\n",
    "        if char in vowel:\n",
    "            "
   ]
  },
  {
   "cell_type": "code",
   "execution_count": 4,
   "id": "46228fe8",
   "metadata": {},
   "outputs": [
    {
     "name": "stdout",
     "output_type": "stream",
     "text": [
      "Without vowels: shbhm\n"
     ]
    }
   ],
   "source": [
    "def rem_vowel(s):\n",
    "    vowels = 'aeiouAEIOU'\n",
    "    result = ''\n",
    "    for char in s:\n",
    "        if char not in vowels:\n",
    "            result += char\n",
    "    return result\n",
    "\n",
    "# Example usage\n",
    "s = input(\"Enter a string: \")\n",
    "print(\"Without vowels:\", rem_vowel(s))\n"
   ]
  },
  {
   "cell_type": "code",
   "execution_count": null,
   "id": "9f9e655e",
   "metadata": {},
   "outputs": [
    {
     "name": "stdout",
     "output_type": "stream",
     "text": [
      "sentence without vowels shbh\n"
     ]
    }
   ],
   "source": [
    "def rem_vowel(s):\n",
    "    vowels = 'AEIOUaeiou'\n",
    "    result = ''\n",
    "    for char in s:\n",
    "        if char not in vowels:\n",
    "            result = result + char\n",
    "        return result\n",
    "    \n",
    "s = str(input('enter the sentence'))\n",
    "print('without vowels')\n",
    "\n"
   ]
  },
  {
   "cell_type": "code",
   "execution_count": 11,
   "id": "6400b7cd",
   "metadata": {},
   "outputs": [
    {
     "name": "stdout",
     "output_type": "stream",
     "text": [
      "without vowels shbh\n"
     ]
    }
   ],
   "source": [
    "def rem_vowels(s):\n",
    "    vowels = 'AEIOUaieou'\n",
    "    result = ''\n",
    "    for i in s:\n",
    "        if i not in vowels:\n",
    "            result = result + i\n",
    "    return result\n",
    "\n",
    "s = str(input())\n",
    "print('without vowels', rem_vowels(s))"
   ]
  },
  {
   "cell_type": "code",
   "execution_count": null,
   "id": "e0a062a0",
   "metadata": {},
   "outputs": [],
   "source": [
    "# Write a function to find the sum of squares of digits of a number.\n",
    "\n",
    "squares = 49 + 36\n",
    "7^2 + 6^2\n",
    "\n",
    "num = 76\n"
   ]
  },
  {
   "cell_type": "code",
   "execution_count": null,
   "id": "16d961ea",
   "metadata": {},
   "outputs": [],
   "source": [
    "def square(s):\n",
    "    total = 0\n",
    "    while n >0:\n",
    "        "
   ]
  },
  {
   "cell_type": "code",
   "execution_count": 12,
   "id": "1ebbbefd",
   "metadata": {},
   "outputs": [
    {
     "name": "stdout",
     "output_type": "stream",
     "text": [
      "without vowels, shbhm\n"
     ]
    }
   ],
   "source": [
    "def check_vowels(s):\n",
    "    vowels = 'aeiouAEIOU'\n",
    "    result = ''\n",
    "    for i in s:\n",
    "        if i not in vowels:\n",
    "            result = result + i\n",
    "    return result\n",
    "\n",
    "s = input('')\n",
    "print('without vowels,', check_vowels(s))\n"
   ]
  },
  {
   "cell_type": "code",
   "execution_count": 13,
   "id": "0af1318e",
   "metadata": {},
   "outputs": [
    {
     "name": "stdout",
     "output_type": "stream",
     "text": [
      "without vowels {'shbhm'}\n"
     ]
    }
   ],
   "source": [
    "def check_vow(s):\n",
    "    vowels = 'aieouAEIOU'\n",
    "    result = ''\n",
    "    for i in s:\n",
    "        if i not in vowels:\n",
    "            result = result + i\n",
    "    return result\n",
    "\n",
    "s = input('')\n",
    "print('without vowels', {check_vow(s)})"
   ]
  },
  {
   "cell_type": "code",
   "execution_count": null,
   "id": "31494297",
   "metadata": {},
   "outputs": [],
   "source": []
  },
  {
   "cell_type": "code",
   "execution_count": 1,
   "id": "71b99baa",
   "metadata": {},
   "outputs": [
    {
     "name": "stdout",
     "output_type": "stream",
     "text": [
      "1\n",
      "22\n",
      "333\n",
      "4444\n",
      "55555\n"
     ]
    }
   ],
   "source": [
    "# Q20. Write a function to print the following pattern:\n",
    "\n",
    "def pattern(n):\n",
    "    for i in range (1, n+1):\n",
    "        print (str(i) * i)\n",
    "pattern(5)"
   ]
  },
  {
   "cell_type": "code",
   "execution_count": 3,
   "id": "4d381116",
   "metadata": {},
   "outputs": [
    {
     "name": "stdout",
     "output_type": "stream",
     "text": [
      "1\n",
      "22\n",
      "333\n",
      "4444\n"
     ]
    }
   ],
   "source": [
    "def pattern(n):\n",
    "    for i in range(1, n+1):\n",
    "        print(str(i) * i)\n",
    "\n",
    "pattern(4)"
   ]
  },
  {
   "cell_type": "code",
   "execution_count": 6,
   "id": "e793e5c3",
   "metadata": {},
   "outputs": [
    {
     "name": "stdout",
     "output_type": "stream",
     "text": [
      "anagrams\n"
     ]
    }
   ],
   "source": [
    "def is_anagram():\n",
    "    string1 = input('enter the string1')\n",
    "    string2 = input('enter the string2')\n",
    "    if sorted(string1) == sorted(string2):\n",
    "        print('anagrams')\n",
    "    else:\n",
    "        print('not anagrams!')\n",
    "is_anagram()"
   ]
  },
  {
   "cell_type": "code",
   "execution_count": 16,
   "id": "cd2453bd",
   "metadata": {},
   "outputs": [
    {
     "name": "stdout",
     "output_type": "stream",
     "text": [
      "{'s': 1, 'h': 2, 'u': 1, 'b': 1, 'a': 1, 'm': 1}\n",
      "character counts are None\n"
     ]
    }
   ],
   "source": [
    "def count_chars(s):\n",
    "    char_count = {}\n",
    "    for char in s:\n",
    "        char_count[char] = char_count.get(char, 0) + 1\n",
    "    print(char_count)\n",
    "s = input('enter the string')\n",
    "print('character counts are', count_chars(s))"
   ]
  },
  {
   "cell_type": "code",
   "execution_count": null,
   "id": "f9ed7533",
   "metadata": {},
   "outputs": [
    {
     "name": "stdout",
     "output_type": "stream",
     "text": [
      "char counts are as follows {'s': 1, 'j': 1, 'h': 2, 'u': 1, 'b': 1, 'a': 1, 'm': 1}\n"
     ]
    }
   ],
   "source": [
    "def char_count(s):\n",
    "    storage = {}\n",
    "    for i in s:\n",
    "        storage[i] = storage.get(i, 0) + 1\n",
    "    return storage\n",
    "\n",
    "s  = input('enter the string')\n",
    "print('char counts are as follows', char_count(s))\n",
    "\n"
   ]
  },
  {
   "cell_type": "code",
   "execution_count": 5,
   "id": "c22be0e6",
   "metadata": {},
   "outputs": [
    {
     "name": "stdout",
     "output_type": "stream",
     "text": [
      "without sentence {'shuha'}\n"
     ]
    }
   ],
   "source": [
    "def char_count(s):\n",
    "    vowels = 'aeiuoAEIOU'\n",
    "    result = ''\n",
    "    for i in s:\n",
    "        if s not in vowels:\n",
    "            result = result + i\n",
    "    return result\n",
    "s = input('enter the string')\n",
    "print('without sentence', {char_count(s)})"
   ]
  },
  {
   "cell_type": "code",
   "execution_count": null,
   "id": "0e9f6a25",
   "metadata": {},
   "outputs": [
    {
     "name": "stdout",
     "output_type": "stream",
     "text": [
      "without vow shubham\n"
     ]
    }
   ],
   "source": [
    "def check_vowels(s):\n",
    "    vowels = 'aeiouAEIOU'\n",
    "    result = ''\n",
    "    for i in s:\n",
    "        if s not in vowels:\n",
    "            result = result + i\n",
    "    return result\n",
    "\n",
    "s = input('enter the string')\n",
    "print('without vow', check_vowels(s))\n"
   ]
  },
  {
   "cell_type": "code",
   "execution_count": null,
   "id": "513880b8",
   "metadata": {},
   "outputs": [],
   "source": [
    "def check_vow(s):\n",
    "    vowels = 'aieouAEIOU'\n",
    "    result = ''\n",
    "    for i in s:\n",
    "        if i not in vowels:\n",
    "            result = result + i\n",
    "    return result\n",
    "\n",
    "s = input('')\n",
    "print('without vowels', {check_vow(s)})"
   ]
  },
  {
   "cell_type": "code",
   "execution_count": 7,
   "id": "db16c190",
   "metadata": {},
   "outputs": [
    {
     "data": {
      "text/plain": [
       "True"
      ]
     },
     "execution_count": 7,
     "metadata": {},
     "output_type": "execute_result"
    }
   ],
   "source": [
    "# adfa\n",
    "# faad\n",
    "\n",
    "def an(s):\n",
    "    str1 = input('')\n",
    "    str2 = input('')\n",
    "    if sorted(str1) == sorted(str2):\n",
    "        return True\n",
    "    else:\n",
    "        return False\n",
    "an(s)"
   ]
  },
  {
   "cell_type": "code",
   "execution_count": 1,
   "id": "e2ca3a0a",
   "metadata": {},
   "outputs": [
    {
     "name": "stdout",
     "output_type": "stream",
     "text": [
      "without vowels aieo\n"
     ]
    }
   ],
   "source": [
    "def check_v(s):\n",
    "    vowels = 'aeiouAEUIO'\n",
    "    result = ''\n",
    "    for i in s:\n",
    "        if i in vowels:\n",
    "            result = result + i\n",
    "    return result\n",
    "s = input('enter the string:')\n",
    "print('without vowels', check_v(s))\n",
    "\n"
   ]
  },
  {
   "cell_type": "code",
   "execution_count": 2,
   "id": "9b743c65",
   "metadata": {},
   "outputs": [
    {
     "data": {
      "text/plain": [
       "True"
      ]
     },
     "execution_count": 2,
     "metadata": {},
     "output_type": "execute_result"
    }
   ],
   "source": [
    "# check if two strings are same \n",
    "def check_same(a,b):\n",
    "        if sorted(a) == sorted(b):\n",
    "            return True\n",
    "        else:\n",
    "              return False\n",
    "check_same('shubham', 'shubmha')\n",
    "\n"
   ]
  },
  {
   "cell_type": "code",
   "execution_count": 6,
   "id": "1e3a8808",
   "metadata": {},
   "outputs": [
    {
     "name": "stdout",
     "output_type": "stream",
     "text": [
      "counts are shubha\n"
     ]
    }
   ],
   "source": [
    "# check the count in the string :shubham\n",
    "\n",
    "def check_count(s):\n",
    "    st = {}\n",
    "    for i in s:\n",
    "        if s not in st:\n",
    "            st = st.get(i, 0) + 1\n",
    "    return st\n",
    "\n",
    "s = input('enter the string')\n",
    "print('counts are', s)\n"
   ]
  },
  {
   "cell_type": "code",
   "execution_count": null,
   "id": "931b8be9",
   "metadata": {},
   "outputs": [],
   "source": [
    "def char_count(s):\n",
    "    storage = {}\n",
    "    for i in s:\n",
    "        storage[i] = storage.get(i, 0) + 1\n",
    "    return storage\n",
    "\n",
    "s  = input('enter the string')\n",
    "print('char counts are as follows', char_count(s))\n",
    "\n"
   ]
  },
  {
   "cell_type": "code",
   "execution_count": 7,
   "id": "4f78baa5",
   "metadata": {},
   "outputs": [
    {
     "name": "stdout",
     "output_type": "stream",
     "text": [
      "char counts are {'s': 1, 'h': 2, 'u': 1, 'b': 1, 'a': 1, 'm': 1}\n"
     ]
    }
   ],
   "source": [
    "def char_c(s):\n",
    "    storage = {}\n",
    "    for i in s:\n",
    "        storage[i] = storage.get(i, 0) + 1\n",
    "    return storage\n",
    "\n",
    "s = input('enter the string')\n",
    "print('char counts are', char_c(s))"
   ]
  },
  {
   "cell_type": "code",
   "execution_count": null,
   "id": "e945704c",
   "metadata": {},
   "outputs": [
    {
     "name": "stdout",
     "output_type": "stream",
     "text": [
      "char count {'s': 1, 'h': 2, 'u': 1, 'b': 1, 'a': 1, 'm': 1}\n"
     ]
    }
   ],
   "source": []
  },
  {
   "cell_type": "code",
   "execution_count": 11,
   "id": "04e39833",
   "metadata": {},
   "outputs": [
    {
     "name": "stdout",
     "output_type": "stream",
     "text": [
      "counted letters {'a': 2, 'k': 1, 's': 1, 'h': 1, 'y': 1}\n"
     ]
    }
   ],
   "source": [
    "def check_count(s):\n",
    "    storage = {}\n",
    "    for i in s:\n",
    "        storage[i] = storage.get(i, 0) + 1\n",
    "    return storage\n",
    "\n",
    "s = input('')\n",
    "print('counted letters', check_count(s))\n"
   ]
  },
  {
   "cell_type": "code",
   "execution_count": null,
   "id": "5114bcfb",
   "metadata": {},
   "outputs": [],
   "source": [
    "i = int(input(\"enter the number\"))\n",
    "result = 0\n",
    "num = i"
   ]
  },
  {
   "cell_type": "code",
   "execution_count": null,
   "id": "b4ac09be",
   "metadata": {},
   "outputs": [],
   "source": [
    "i = int(input(\"Enter the number: \"))\n",
    "result = 0\n",
    "num = i\n",
    "n = len(str(i))\n",
    "while i != 0:\n",
    "    digit = i % 10\n",
    "    result = result + digit ** n\n",
    "    i = i // 10\n",
    "if num == result:\n",
    "    print(f\"{num} is an Armstrong number\")\n",
    "else:\n",
    "    print(f\"{num} is not an Armstrong number\")"
   ]
  },
  {
   "cell_type": "code",
   "execution_count": null,
   "id": "4ddfa2c8",
   "metadata": {},
   "outputs": [],
   "source": [
    "i = int(input('enter the num:'))\n",
    "result = 0\n",
    "num = i\n",
    "n = len(str(i))\n",
    "while i != 0:\n",
    "    digit = i % 10\n",
    "    result = result + digit ** n\n"
   ]
  },
  {
   "cell_type": "code",
   "execution_count": 21,
   "id": "cc23ab62",
   "metadata": {},
   "outputs": [
    {
     "data": {
      "text/plain": [
       "[1, 3, 4]"
      ]
     },
     "execution_count": 21,
     "metadata": {},
     "output_type": "execute_result"
    }
   ],
   "source": [
    "def strong_number(s):\n",
    "    s = int(input(''))\n",
    "    digits = []\n",
    "    for char in str(s):\n",
    "        digits.append(int(char))\n",
    "    return digits\n",
    "strong_number(s)"
   ]
  },
  {
   "cell_type": "code",
   "execution_count": 24,
   "id": "8e22068f",
   "metadata": {},
   "outputs": [
    {
     "data": {
      "text/plain": [
       "[1, 2, 4, 1]"
      ]
     },
     "execution_count": 24,
     "metadata": {},
     "output_type": "execute_result"
    }
   ],
   "source": [
    "def strong_number(s):\n",
    "    s = int(input())\n",
    "    digits = []\n",
    "    for i in str(s):\n",
    "        digits.append(int(i))\n",
    "    return digits\n",
    "strong_number(s)"
   ]
  },
  {
   "cell_type": "code",
   "execution_count": 29,
   "id": "02d6ec0d",
   "metadata": {},
   "outputs": [
    {
     "data": {
      "text/plain": [
       "[1, 4, 1, 4]"
      ]
     },
     "execution_count": 29,
     "metadata": {},
     "output_type": "execute_result"
    }
   ],
   "source": [
    "def strong_num(s):\n",
    "    s = input('')\n",
    "    digits = []\n",
    "    for i in s:\n",
    "        digits.append (int(i))\n",
    "    return digits\n",
    "strong_num(s)\n"
   ]
  },
  {
   "cell_type": "code",
   "execution_count": null,
   "id": "1bd2e908",
   "metadata": {},
   "outputs": [],
   "source": [
    "def strong_num(s):\n",
    "    s = input('')\n",
    "    digits = []\n",
    "    result_fact = 0\n",
    "    for i in s:\n",
    "        digits.append (int(i))\n",
    "    \n",
    "        fact = ''\n",
    "        for i in digits:\n",
    "                i * (i-1)\n",
    "        result_fact = result_fact + fact\n",
    "    num = digits.append()\n",
    "    if s == num and result_fact == s:\n",
    "         print('strong number')\n",
    "\n",
    "strong_num(n)\n"
   ]
  },
  {
   "cell_type": "code",
   "execution_count": null,
   "id": "56ff65ba",
   "metadata": {},
   "outputs": [
    {
     "name": "stdout",
     "output_type": "stream",
     "text": [
      "strong number\n"
     ]
    }
   ],
   "source": [
    "    def strong_num():\n",
    "    s = input('Enter a number: ')         # Input as string\n",
    "    digits = []\n",
    "    result_fact = 0                       # Use integer for sum\n",
    "\n",
    "    for i in s:\n",
    "        digits.append(int(i))            # Convert each digit to int\n",
    "\n",
    "    for i in digits:\n",
    "        fact = 1\n",
    "        for j in range(1, i + 1):        # Manual factorial\n",
    "            fact = fact * j\n",
    "        result_fact = result_fact + fact              # Add factorial to total\n",
    "\n",
    "    if result_fact == int(s):            # Compare with original number\n",
    "        print('strong number')\n",
    "    else:\n",
    "        print('not a strong number')\n",
    "\n",
    "strong_num()\n",
    "\n"
   ]
  },
  {
   "cell_type": "code",
   "execution_count": 62,
   "id": "53949b03",
   "metadata": {},
   "outputs": [
    {
     "name": "stdout",
     "output_type": "stream",
     "text": [
      "this is a strong number\n"
     ]
    }
   ],
   "source": [
    "def strong_num(s):\n",
    "    s = input('enter a num')\n",
    "    digits = []\n",
    "    fact_total = 0\n",
    "    for i in s:\n",
    "        digits.append(int(i))\n",
    "    \n",
    "    for i in digits:\n",
    "        fact = 1\n",
    "        for j in range(1, i+1):\n",
    "            fact = fact * j\n",
    "        fact_total = fact_total + fact\n",
    "    \n",
    "    if int(s) == fact_total:\n",
    "        print('this is a strong number')\n",
    "    else:\n",
    "        print('this is not a strong number')\n",
    "strong_num(s)"
   ]
  },
  {
   "cell_type": "code",
   "execution_count": 70,
   "id": "400af895",
   "metadata": {},
   "outputs": [
    {
     "data": {
      "text/plain": [
       "False"
      ]
     },
     "execution_count": 70,
     "metadata": {},
     "output_type": "execute_result"
    }
   ],
   "source": [
    "def strong_number(s):\n",
    "    s = input('enter the number')\n",
    "    digits = []\n",
    "    fact_sum = 0\n",
    "    for i in s:\n",
    "        digits.append(int(i))\n",
    "    \n",
    "    for i in digits:\n",
    "        fact = 1\n",
    "        for j in range(1, i+1):\n",
    "            fact = fact * j\n",
    "        fact_sum = fact_sum + fact\n",
    "    if int(s) == fact_sum:\n",
    "        return True\n",
    "    else:\n",
    "        return False\n",
    "    \n",
    "strong_number(s)"
   ]
  },
  {
   "cell_type": "code",
   "execution_count": null,
   "id": "4c2480bd",
   "metadata": {},
   "outputs": [
    {
     "data": {
      "text/plain": [
       "True"
      ]
     },
     "execution_count": 76,
     "metadata": {},
     "output_type": "execute_result"
    }
   ],
   "source": [
    "def strong_num(s):\n",
    "    s = input('enter the number')\n",
    "    total_sum = 0\n",
    "    digits = []\n",
    "    for i in s:\n",
    "        digits.append(int(i))\n",
    "\n",
    "    for i in digits:\n",
    "        fact = 1\n",
    "        for j in range(1, i +1):\n",
    "            fact = fact * j\n",
    "        total_sum = total_sum + fact\n",
    "    if int(s) == total_sum:\n",
    "        return True\n",
    "    else:\n",
    "        return False \n",
    "    \n",
    "strong_num(145)"
   ]
  },
  {
   "cell_type": "code",
   "execution_count": 98,
   "id": "2e9c2ead",
   "metadata": {},
   "outputs": [
    {
     "data": {
      "text/plain": [
       "{'s': 1, 'h': 2, 'u': 1, 'b': 1, 'a': 1, 'm': 1}"
      ]
     },
     "execution_count": 98,
     "metadata": {},
     "output_type": "execute_result"
    }
   ],
   "source": [
    "def get_char(s):\n",
    "    count = {}\n",
    "    for i in s:\n",
    "        count[i] = count.get(i, 0) + 1\n",
    "    return count\n",
    "\n",
    "get_char('shubham')"
   ]
  },
  {
   "cell_type": "code",
   "execution_count": 95,
   "id": "e0948039",
   "metadata": {},
   "outputs": [
    {
     "name": "stdout",
     "output_type": "stream",
     "text": [
      "counted letters {'a': 1, 'h': 2, 'u': 1, 'v': 1}\n"
     ]
    }
   ],
   "source": [
    "#shubham\n",
    "\n",
    "def count_str(s):\n",
    "    counts = {}\n",
    "    for char in s:\n",
    "        counts.get(char, 0) + 1\n",
    "    return counts\n",
    "count_str('shubham')\n",
    "\n",
    "        \n",
    "def check_count(s):\n",
    "    storage = {}\n",
    "    for i in s:\n",
    "        storage[i] = storage.get(i, 0) + 1\n",
    "    return storage\n",
    "\n",
    "s = input('')\n",
    "print('counted letters', check_count(s))\n"
   ]
  },
  {
   "cell_type": "code",
   "execution_count": null,
   "id": "266caf0b",
   "metadata": {},
   "outputs": [
    {
     "name": "stdout",
     "output_type": "stream",
     "text": [
      "4\n"
     ]
    },
    {
     "data": {
      "text/plain": [
       "[1, 2, 3, 4]"
      ]
     },
     "execution_count": 4,
     "metadata": {},
     "output_type": "execute_result"
    }
   ],
   "source": [
    "def armstrong_num(s):\n",
    "    s = input('enter the number')\n",
    "    digits = []\n",
    "    for i in s:\n",
    "        digits.append(int(i))\n",
    "    power = len(digits)\n",
    "    \n",
    "    for i in digits:\n",
    "        power = len(digit)\n",
    "        for j in range(1, )"
   ]
  },
  {
   "cell_type": "code",
   "execution_count": null,
   "id": "370d12c9",
   "metadata": {},
   "outputs": [],
   "source": [
    "def armstrong_num(s):\n",
    "    s = input('Enter the number: ')  # Overwrites 's' with user input\n",
    "    digits = []\n",
    "    for i in s:\n",
    "        digits.append(int(i))\n",
    "    power = len(digits)\n",
    "    \n",
    "    total = 0\n",
    "    for i in digits:\n",
    "        total = total + i ** power  # Raise each digit to the power and sum\n",
    "\n",
    "    if total == int(s):\n",
    "        print(f\"{s} is an Armstrong number.\")\n",
    "    else:\n",
    "        print(f\"{s} is not an Armstrong number.\")\n",
    "\n",
    "\n",
    "\n",
    "\n",
    "\n"
   ]
  },
  {
   "cell_type": "code",
   "execution_count": 8,
   "id": "a91a2910",
   "metadata": {},
   "outputs": [
    {
     "data": {
      "text/plain": [
       "True"
      ]
     },
     "execution_count": 8,
     "metadata": {},
     "output_type": "execute_result"
    }
   ],
   "source": [
    "def arm(s):\n",
    "    s = str(s)\n",
    "    digits = []\n",
    "    for i in s:\n",
    "        digits.append(int(i))\n",
    "    \n",
    "    total_num = 0\n",
    "    power = len(digits)\n",
    "    for i in digits:\n",
    "        \n",
    "        total_num = total_num + i ** power\n",
    "\n",
    "    if total_num == int(s):\n",
    "        return True\n",
    "    \n",
    "    else:\n",
    "        return False\n",
    "    \n",
    "arm(153)"
   ]
  },
  {
   "cell_type": "code",
   "execution_count": 10,
   "id": "d293ada2",
   "metadata": {},
   "outputs": [
    {
     "data": {
      "text/plain": [
       "True"
      ]
     },
     "execution_count": 10,
     "metadata": {},
     "output_type": "execute_result"
    }
   ],
   "source": [
    "def armstrong(s):\n",
    "    s = str(s)\n",
    "    digits = []\n",
    "    for i in s:\n",
    "        digits.append(int(i))\n",
    "    \n",
    "    power = len(digits)\n",
    "    total = 0\n",
    "    for i in digits:\n",
    "        total = total + i ** power\n",
    "\n",
    "    if total == int(s):\n",
    "        return True\n",
    "    else:\n",
    "        return False\n",
    "    \n",
    "armstrong(153)"
   ]
  },
  {
   "cell_type": "code",
   "execution_count": null,
   "id": "74756500",
   "metadata": {},
   "outputs": [],
   "source": [
    "def generate_primes(n):\n",
    "    primes = []\n",
    "    num = 2  # Start checking from the first prime\n",
    "\n",
    "    while len(primes) < n:\n",
    "        is_prime = True\n",
    "        for i in range(2, int(num ** 0.5) + 1):  # Check divisibility up to √num\n",
    "            if num % i == 0:\n",
    "                is_prime = False\n",
    "                break\n",
    "        if is_prime:\n",
    "            primes.append(num)\n",
    "        num += 1\n",
    "\n",
    "    return primes\n",
    "\n",
    "print(generate_primes(10))  # Output: [2, 3, 5, 7, 11, 13, 17, 19, 23, 29]\n"
   ]
  },
  {
   "cell_type": "code",
   "execution_count": null,
   "id": "91294f5f",
   "metadata": {},
   "outputs": [],
   "source": []
  }
 ],
 "metadata": {
  "kernelspec": {
   "display_name": "base",
   "language": "python",
   "name": "python3"
  },
  "language_info": {
   "codemirror_mode": {
    "name": "ipython",
    "version": 3
   },
   "file_extension": ".py",
   "mimetype": "text/x-python",
   "name": "python",
   "nbconvert_exporter": "python",
   "pygments_lexer": "ipython3",
   "version": "3.12.2"
  }
 },
 "nbformat": 4,
 "nbformat_minor": 5
}
