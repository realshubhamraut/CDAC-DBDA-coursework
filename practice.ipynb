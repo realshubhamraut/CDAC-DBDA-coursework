{
 "cells": [
  {
   "cell_type": "code",
   "execution_count": null,
   "id": "d281abb6",
   "metadata": {},
   "outputs": [],
   "source": [
    "# assignment -1"
   ]
  },
  {
   "cell_type": "code",
   "execution_count": 31,
   "id": "0f3b7801",
   "metadata": {},
   "outputs": [],
   "source": [
    "my_string = 'qwertyuiop'"
   ]
  },
  {
   "cell_type": "code",
   "execution_count": 32,
   "id": "5795ca6b",
   "metadata": {},
   "outputs": [
    {
     "name": "stdout",
     "output_type": "stream",
     "text": [
      "qwertyuio\n"
     ]
    }
   ],
   "source": [
    "print(my_string[:-1])"
   ]
  },
  {
   "cell_type": "code",
   "execution_count": 33,
   "id": "e5fa0980",
   "metadata": {},
   "outputs": [
    {
     "name": "stdout",
     "output_type": "stream",
     "text": [
      "qwertyuio\n"
     ]
    }
   ],
   "source": [
    "print(my_string[:-1])"
   ]
  },
  {
   "cell_type": "code",
   "execution_count": 40,
   "id": "df609764",
   "metadata": {},
   "outputs": [
    {
     "name": "stdout",
     "output_type": "stream",
     "text": [
      "r\n"
     ]
    }
   ],
   "source": [
    "print(my_string[3])"
   ]
  },
  {
   "cell_type": "code",
   "execution_count": 43,
   "id": "76b8f3fc",
   "metadata": {},
   "outputs": [
    {
     "name": "stdout",
     "output_type": "stream",
     "text": [
      "qwert\n"
     ]
    }
   ],
   "source": [
    "# 5\n",
    "print(my_string[:5])"
   ]
  },
  {
   "cell_type": "code",
   "execution_count": 45,
   "id": "c781cede",
   "metadata": {},
   "outputs": [
    {
     "name": "stdout",
     "output_type": "stream",
     "text": [
      "qetuo\n"
     ]
    }
   ],
   "source": [
    "print(my_string[0::2])"
   ]
  },
  {
   "cell_type": "code",
   "execution_count": 47,
   "id": "4498e151",
   "metadata": {},
   "outputs": [
    {
     "name": "stdout",
     "output_type": "stream",
     "text": [
      "poiuytrewq\n"
     ]
    }
   ],
   "source": [
    "# 7 \n",
    "print(my_string[::-1])"
   ]
  },
  {
   "cell_type": "code",
   "execution_count": 49,
   "id": "659513e5",
   "metadata": {},
   "outputs": [
    {
     "name": "stdout",
     "output_type": "stream",
     "text": [
      "qw\n"
     ]
    }
   ],
   "source": [
    "print(my_string[:2])"
   ]
  },
  {
   "cell_type": "code",
   "execution_count": 50,
   "id": "918888c1",
   "metadata": {},
   "outputs": [
    {
     "name": "stdout",
     "output_type": "stream",
     "text": [
      "iop\n"
     ]
    }
   ],
   "source": [
    "print(my_string[7:13])"
   ]
  },
  {
   "cell_type": "code",
   "execution_count": 52,
   "id": "55ec0a4e",
   "metadata": {},
   "outputs": [
    {
     "name": "stdout",
     "output_type": "stream",
     "text": [
      "iop\n"
     ]
    }
   ],
   "source": [
    "print(my_string[-3:])"
   ]
  },
  {
   "cell_type": "code",
   "execution_count": null,
   "id": "d179a468",
   "metadata": {},
   "outputs": [
    {
     "name": "stdout",
     "output_type": "stream",
     "text": [
      "Hello shubh\n"
     ]
    }
   ],
   "source": [
    "# Write a function greet (name) that prints \"Hello, ‹name>! \".\n",
    "\n"
   ]
  },
  {
   "cell_type": "code",
   "execution_count": 54,
   "id": "4903925a",
   "metadata": {},
   "outputs": [
    {
     "name": "stdout",
     "output_type": "stream",
     "text": [
      "Hello shubham\n"
     ]
    }
   ],
   "source": [
    "def greet(name='guest!'):\n",
    "    print(f\"Hello {name}\")\n",
    "greet('shubham')"
   ]
  },
  {
   "cell_type": "code",
   "execution_count": 56,
   "id": "3d73e2ef",
   "metadata": {},
   "outputs": [
    {
     "data": {
      "text/plain": [
       "27"
      ]
     },
     "execution_count": 56,
     "metadata": {},
     "output_type": "execute_result"
    }
   ],
   "source": [
    "# Write a function cube(n) that returns the cube of a number.\n",
    "\n",
    "def cube(n):\n",
    "     return n ** 3\n",
    "cube(3)"
   ]
  },
  {
   "cell_type": "code",
   "execution_count": 65,
   "id": "23355130",
   "metadata": {},
   "outputs": [
    {
     "data": {
      "text/plain": [
       "15"
      ]
     },
     "execution_count": 65,
     "metadata": {},
     "output_type": "execute_result"
    }
   ],
   "source": [
    "# Create a function sum_list(lst) that returns the sum of all numbers in a list.\n",
    "lst = [1,2,3,4,5]\n",
    "def sum_list(lst):\n",
    "    return sum(lst)\n",
    "sum_list(lst)"
   ]
  },
  {
   "cell_type": "code",
   "execution_count": null,
   "id": "d827c706",
   "metadata": {},
   "outputs": [
    {
     "data": {
      "text/plain": [
       "2.0"
      ]
     },
     "execution_count": 67,
     "metadata": {},
     "output_type": "execute_result"
    }
   ],
   "source": [
    "# Write a function average(a, b, c) that returns the average of three numbers.\n",
    "\n",
    "\n",
    "def average(a,b,c):\n",
    "    return (a+b+c)/3\n",
    "average(1,2,3)\n",
    "\n"
   ]
  },
  {
   "cell_type": "code",
   "execution_count": 71,
   "id": "6fa845ee",
   "metadata": {},
   "outputs": [
    {
     "data": {
      "text/plain": [
       "1"
      ]
     },
     "execution_count": 71,
     "metadata": {},
     "output_type": "execute_result"
    }
   ],
   "source": [
    "# Create a function min_of_two(a, b) that returns the smaller of two numbers.\n",
    "\n",
    "\n",
    "def min_of_two(a, b):\n",
    "    return min(a, b)\n",
    "min_of_two(1, 4)"
   ]
  },
  {
   "cell_type": "code",
   "execution_count": null,
   "id": "5541ca5f",
   "metadata": {},
   "outputs": [],
   "source": [
    "# Write a function that checks if a number is prime (return True/False).\n",
    "\n",
    "def prime(n):\n",
    "    if n == 2:\n",
    "        print('prime')\n",
    "    elif n / 2 == 0:\n",
    "        print('not prime')\n",
    "\n",
    "    else:"
   ]
  },
  {
   "cell_type": "code",
   "execution_count": null,
   "id": "06a06c89",
   "metadata": {},
   "outputs": [],
   "source": []
  }
 ],
 "metadata": {
  "kernelspec": {
   "display_name": "base",
   "language": "python",
   "name": "python3"
  },
  "language_info": {
   "codemirror_mode": {
    "name": "ipython",
    "version": 3
   },
   "file_extension": ".py",
   "mimetype": "text/x-python",
   "name": "python",
   "nbconvert_exporter": "python",
   "pygments_lexer": "ipython3",
   "version": "3.12.2"
  }
 },
 "nbformat": 4,
 "nbformat_minor": 5
}
